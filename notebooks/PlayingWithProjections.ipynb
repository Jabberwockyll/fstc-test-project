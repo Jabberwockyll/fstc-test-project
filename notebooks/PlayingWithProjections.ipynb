{
 "cells": [
  {
   "cell_type": "markdown",
   "metadata": {},
   "source": [
    "```\n",
    "def compute_projection_matrix(X, Y):\n",
    "    \"\"\"\n",
    "    compute projection matrix of best fit, w, that transforms X to Y according to:\n",
    "\n",
    "    Y = Xw\n",
    "\n",
    "    (X.T X)^-1 X.T Y = [(X.T X)^-1 X.T X]w\n",
    "\n",
    "    w = (X.T X)^-1 X.T Y\n",
    "    \"\"\"\n",
    "```\n",
    "\n",
    "--- \n",
    "\n",
    "Which one is the SBERT embedding and which the W2V embedding? \n",
    "Many torch methods say they output the transpose of vectors/matrices which made me concerned that I had the computation backward. \n",
    "\n",
    "In this notebook I tried it both ways and then talked with T.J. at length about linear algebra and eventually determined that the way I was already doing it was the right way. \n",
    "\n",
    "Huzzah. \n"
   ]
  },
  {
   "cell_type": "code",
   "execution_count": 18,
   "metadata": {},
   "outputs": [],
   "source": [
    "from fewshot.embeddings.transformer_embeddings import get_transformer_embeddings\n",
    "import fewshot.embeddings.word_embeddings as w2v\n",
    "from fewshot.models import load_transformer_model_and_tokenizer, load_word_vector_model\n",
    "from fewshot.predictions import compute_predictions, compute_predictions_projection\n",
    "from fewshot.utils import torch_load, to_tensor, compute_projection_matrix\n",
    "from fewshot.metrics import simple_accuracy, simple_topk_accuracy\n",
    "from fewshot.data.loaders import load_or_cache_data\n",
    "\n",
    "from fewshot.path_helper import fewshot_filename"
   ]
  },
  {
   "cell_type": "code",
   "execution_count": 19,
   "metadata": {},
   "outputs": [
    {
     "name": "stdout",
     "output_type": "stream",
     "text": [
      "Checking for cached data...\n",
      "/Users/mbeck/Projects/few-shot-text-classification/data/agnews/agnews_dataset.pt\n"
     ]
    }
   ],
   "source": [
    "dataset = load_or_cache_data(\"data/agnews\", \"agnews\")"
   ]
  },
  {
   "cell_type": "code",
   "execution_count": 8,
   "metadata": {},
   "outputs": [],
   "source": [
    "n_categories = len(dataset.categories)\n",
    "sbert_emb_examples = dataset.embeddings[:-n_categories]\n",
    "sbert_emb_labels = dataset.embeddings[-n_categories:]"
   ]
  },
  {
   "cell_type": "code",
   "execution_count": 3,
   "metadata": {},
   "outputs": [],
   "source": [
    "w2v_model = load_word_vector_model(small=True, cache_dir=\"data/w2v\")"
   ]
  },
  {
   "cell_type": "code",
   "execution_count": 15,
   "metadata": {},
   "outputs": [
    {
     "name": "stdout",
     "output_type": "stream",
     "text": [
      "Score using projection matrix 0 with top 1000 w2v words: 33.25\n",
      "Score using projection matrix 1 with top 1000 w2v words: 40.8421052631579\n",
      "\n",
      "Score using projection matrix 0 with top 10000 w2v words: 60.039473684210535\n",
      "Score using projection matrix 1 with top 10000 w2v words: 43.85526315789473\n",
      "\n",
      "Score using projection matrix 0 with top 100000 w2v words: 54.53947368421053\n",
      "Score using projection matrix 1 with top 100000 w2v words: 44.223684210526315\n",
      "\n"
     ]
    }
   ],
   "source": [
    "import os\n",
    "for topw in [1000, 10000, 100000]:\n",
    "    w2v_embeddings_w2v_words, w2v_words = w2v.get_topk_w2v_vectors(w2v_model,\n",
    "                                                                   k=topw)\n",
    "    w2v_embeddings_w2v_words = to_tensor(w2v_embeddings_w2v_words)\n",
    "\n",
    "    sbert_w2v_filename = fewshot_filename(\n",
    "        \"data/w2v\", f\"sbert_embeddings_for_top{topw}_w2v_words.pt\"\n",
    "    )\n",
    "    if os.path.exists(sbert_w2v_filename):\n",
    "        cached_data = torch_load(sbert_w2v_filename)\n",
    "        sbert_embeddings_w2v_words = cached_data[\"embeddings\"]\n",
    "    else:\n",
    "        model, tokenizer = load_transformer_model_and_tokenizer()\n",
    "        sbert_embeddings_w2v_words = get_transformer_embeddings(\n",
    "            w2v_words, model, tokenizer, output_filename=sbert_w2v_filename\n",
    "        )\n",
    "\n",
    "    # The way I was doing it... X = SBERT, Y = W2V\n",
    "    # This yields matrix with shape (768, 300)\n",
    "    projection_matrix1 = compute_projection_matrix(\n",
    "        sbert_embeddings_w2v_words, w2v_embeddings_w2v_words\n",
    "    )\n",
    "    \n",
    "    # The other way... X = W2V, Y = SBERT\n",
    "    # This yields matrix with shape (300, 768) -- then take the Transpose\n",
    "    projection_matrix2 = compute_projection_matrix(\n",
    "        w2v_embeddings_w2v_words, sbert_embeddings_w2v_words\n",
    "    ).T\n",
    "\n",
    "\n",
    "    for i, proj in enumerate([projection_matrix1, projection_matrix2]):\n",
    "        \n",
    "        ### Compute new predictions utilizing the learned projection\n",
    "        predictions = compute_predictions_projection(\n",
    "            sbert_emb_examples, sbert_emb_labels, proj, k=3\n",
    "        )\n",
    "        score = simple_accuracy(dataset.labels, predictions)\n",
    "        print(f\"Score using projection matrix {i} with top {topw} w2v words: {score}\")\n",
    "\n",
    "        #score3 = simple_topk_accuracy(dataset.labels, predictions)\n",
    "    print()"
   ]
  },
  {
   "cell_type": "code",
   "execution_count": 11,
   "metadata": {},
   "outputs": [
    {
     "name": "stdout",
     "output_type": "stream",
     "text": [
      "torch.Size([768, 300])\n"
     ]
    }
   ],
   "source": [
    "projection_matrix = compute_projection_matrix(sbert_embeddings_w2v_words, w2v_embeddings_w2v_words)\n",
    "print(projection_matrix.size())"
   ]
  },
  {
   "cell_type": "code",
   "execution_count": 13,
   "metadata": {},
   "outputs": [
    {
     "name": "stdout",
     "output_type": "stream",
     "text": [
      "torch.Size([300, 768])\n"
     ]
    }
   ],
   "source": [
    "projection_matrix2 = compute_projection_matrix(w2v_embeddings_w2v_words, sbert_embeddings_w2v_words)\n",
    "print(projection_matrix2.size())"
   ]
  },
  {
   "cell_type": "code",
   "execution_count": 17,
   "metadata": {},
   "outputs": [
    {
     "ename": "RuntimeError",
     "evalue": "The size of tensor a (300) must match the size of tensor b (768) at non-singleton dimension 1",
     "output_type": "error",
     "traceback": [
      "\u001b[0;31m---------------------------------------------------------------------------\u001b[0m",
      "\u001b[0;31mRuntimeError\u001b[0m                              Traceback (most recent call last)",
      "\u001b[0;32m<ipython-input-17-1fb64cb3ebdf>\u001b[0m in \u001b[0;36m<module>\u001b[0;34m\u001b[0m\n\u001b[0;32m----> 1\u001b[0;31m \u001b[0mprojection_matrix\u001b[0m \u001b[0;34m==\u001b[0m \u001b[0mprojection_matrix2\u001b[0m\u001b[0;34m.\u001b[0m\u001b[0mT\u001b[0m\u001b[0;34m\u001b[0m\u001b[0;34m\u001b[0m\u001b[0m\n\u001b[0m",
      "\u001b[0;32m/opt/anaconda3/envs/few-shot/lib/python3.7/site-packages/torch/tensor.py\u001b[0m in \u001b[0;36mwrapped\u001b[0;34m(*args, **kwargs)\u001b[0m\n\u001b[1;32m     20\u001b[0m     \u001b[0;32mdef\u001b[0m \u001b[0mwrapped\u001b[0m\u001b[0;34m(\u001b[0m\u001b[0;34m*\u001b[0m\u001b[0margs\u001b[0m\u001b[0;34m,\u001b[0m \u001b[0;34m**\u001b[0m\u001b[0mkwargs\u001b[0m\u001b[0;34m)\u001b[0m\u001b[0;34m:\u001b[0m\u001b[0;34m\u001b[0m\u001b[0;34m\u001b[0m\u001b[0m\n\u001b[1;32m     21\u001b[0m         \u001b[0;32mtry\u001b[0m\u001b[0;34m:\u001b[0m\u001b[0;34m\u001b[0m\u001b[0;34m\u001b[0m\u001b[0m\n\u001b[0;32m---> 22\u001b[0;31m             \u001b[0;32mreturn\u001b[0m \u001b[0mf\u001b[0m\u001b[0;34m(\u001b[0m\u001b[0;34m*\u001b[0m\u001b[0margs\u001b[0m\u001b[0;34m,\u001b[0m \u001b[0;34m**\u001b[0m\u001b[0mkwargs\u001b[0m\u001b[0;34m)\u001b[0m\u001b[0;34m\u001b[0m\u001b[0;34m\u001b[0m\u001b[0m\n\u001b[0m\u001b[1;32m     23\u001b[0m         \u001b[0;32mexcept\u001b[0m \u001b[0mTypeError\u001b[0m\u001b[0;34m:\u001b[0m\u001b[0;34m\u001b[0m\u001b[0;34m\u001b[0m\u001b[0m\n\u001b[1;32m     24\u001b[0m             \u001b[0;32mreturn\u001b[0m \u001b[0mNotImplemented\u001b[0m\u001b[0;34m\u001b[0m\u001b[0;34m\u001b[0m\u001b[0m\n",
      "\u001b[0;31mRuntimeError\u001b[0m: The size of tensor a (300) must match the size of tensor b (768) at non-singleton dimension 1"
     ]
    }
   ],
   "source": [
    "projection_matrix == projection_matrix2"
   ]
  },
  {
   "cell_type": "code",
   "execution_count": null,
   "metadata": {},
   "outputs": [],
   "source": []
  }
 ],
 "metadata": {
  "kernelspec": {
   "display_name": "Python 3",
   "language": "python",
   "name": "python3"
  },
  "language_info": {
   "codemirror_mode": {
    "name": "ipython",
    "version": 3
   },
   "file_extension": ".py",
   "mimetype": "text/x-python",
   "name": "python",
   "nbconvert_exporter": "python",
   "pygments_lexer": "ipython3",
   "version": "3.7.9"
  }
 },
 "nbformat": 4,
 "nbformat_minor": 4
}
