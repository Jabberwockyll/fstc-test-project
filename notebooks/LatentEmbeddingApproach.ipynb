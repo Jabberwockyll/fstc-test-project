{
 "cells": [
  {
   "cell_type": "code",
   "execution_count": 4,
   "metadata": {},
   "outputs": [],
   "source": [
    "import pandas as pd\n",
    "import numpy as np\n",
    "import matplotlib.pyplot as plt\n",
    "\n",
    "from transformers import AutoTokenizer, AutoModel\n",
    "from torch.nn import functional as F"
   ]
  },
  {
   "cell_type": "code",
   "execution_count": 2,
   "metadata": {},
   "outputs": [
    {
     "data": {
      "application/vnd.jupyter.widget-view+json": {
       "model_id": "9f1c42f9c5354195833cfaab3bdf5dcb",
       "version_major": 2,
       "version_minor": 0
      },
      "text/plain": [
       "HBox(children=(HTML(value='Downloading'), FloatProgress(value=0.0, max=385.0), HTML(value='')))"
      ]
     },
     "metadata": {},
     "output_type": "display_data"
    },
    {
     "name": "stdout",
     "output_type": "stream",
     "text": [
      "\n"
     ]
    },
    {
     "data": {
      "application/vnd.jupyter.widget-view+json": {
       "model_id": "5544a169e05844f8a36971c91661d878",
       "version_major": 2,
       "version_minor": 0
      },
      "text/plain": [
       "HBox(children=(HTML(value='Downloading'), FloatProgress(value=0.0, max=231508.0), HTML(value='')))"
      ]
     },
     "metadata": {},
     "output_type": "display_data"
    },
    {
     "name": "stdout",
     "output_type": "stream",
     "text": [
      "\n"
     ]
    },
    {
     "data": {
      "application/vnd.jupyter.widget-view+json": {
       "model_id": "4a5d712024c749af96b21e8b4d4013bd",
       "version_major": 2,
       "version_minor": 0
      },
      "text/plain": [
       "HBox(children=(HTML(value='Downloading'), FloatProgress(value=0.0, max=2.0), HTML(value='')))"
      ]
     },
     "metadata": {},
     "output_type": "display_data"
    },
    {
     "name": "stdout",
     "output_type": "stream",
     "text": [
      "\n"
     ]
    },
    {
     "data": {
      "application/vnd.jupyter.widget-view+json": {
       "model_id": "2a658f99f1094695af0e3a0956f357d5",
       "version_major": 2,
       "version_minor": 0
      },
      "text/plain": [
       "HBox(children=(HTML(value='Downloading'), FloatProgress(value=0.0, max=112.0), HTML(value='')))"
      ]
     },
     "metadata": {},
     "output_type": "display_data"
    },
    {
     "name": "stdout",
     "output_type": "stream",
     "text": [
      "\n"
     ]
    },
    {
     "data": {
      "application/vnd.jupyter.widget-view+json": {
       "model_id": "770b4b74751f4c83b08ac36f7798a189",
       "version_major": 2,
       "version_minor": 0
      },
      "text/plain": [
       "HBox(children=(HTML(value='Downloading'), FloatProgress(value=0.0, max=438006864.0), HTML(value='')))"
      ]
     },
     "metadata": {},
     "output_type": "display_data"
    },
    {
     "name": "stdout",
     "output_type": "stream",
     "text": [
      "\n"
     ]
    }
   ],
   "source": [
    "tokenizer = AutoTokenizer.from_pretrained('deepset/sentence_bert')\n",
    "model = AutoModel.from_pretrained('deepset/sentence_bert')"
   ]
  },
  {
   "cell_type": "markdown",
   "metadata": {},
   "source": [
    "## Example from the HF Zero-Shot blog"
   ]
  },
  {
   "cell_type": "code",
   "execution_count": 3,
   "metadata": {},
   "outputs": [
    {
     "name": "stdout",
     "output_type": "stream",
     "text": [
      "label: politics \t similarity: 0.2156151533126831\n",
      "label: business \t similarity: 0.004524126183241606\n",
      "label: art & culture \t similarity: -0.027396924793720245\n"
     ]
    },
    {
     "name": "stderr",
     "output_type": "stream",
     "text": [
      "/opt/anaconda3/envs/few-shot/lib/python3.7/site-packages/transformers/tokenization_utils_base.py:1773: FutureWarning: The `pad_to_max_length` argument is deprecated and will be removed in a future version, use `padding=True` or `padding='longest'` to pad to the longest sequence in the batch, or use `padding='max_length'` to pad to a max length. In this case, you can give a specific length with `max_length` (e.g. `max_length=45`) or leave max_length to None to pad to the maximal input size of the model (e.g. 512 for Bert).\n",
      "  FutureWarning,\n"
     ]
    }
   ],
   "source": [
    "sentence = 'Who are you voting for in 2020?'\n",
    "labels = ['business', 'art & culture', 'politics']\n",
    "\n",
    "# run inputs through model and mean-pool over the sequence\n",
    "# dimension to get sequence-level representations\n",
    "inputs = tokenizer.batch_encode_plus([sentence] + labels,\n",
    "                                     return_tensors='pt',\n",
    "                                     pad_to_max_length=True)\n",
    "input_ids = inputs['input_ids']\n",
    "attention_mask = inputs['attention_mask']\n",
    "output = model(input_ids, attention_mask=attention_mask)[0]\n",
    "sentence_rep = output[:1].mean(dim=1)\n",
    "label_reps = output[1:].mean(dim=1)\n",
    "\n",
    "# now find the labels with the highest cosine similarities to\n",
    "# the sentence\n",
    "similarities = F.cosine_similarity(sentence_rep, label_reps)\n",
    "closest = similarities.argsort(descending=True)\n",
    "for ind in closest:\n",
    "    print(f'label: {labels[ind]} \\t similarity: {similarities[ind]}')"
   ]
  },
  {
   "cell_type": "markdown",
   "metadata": {},
   "source": [
    "## Let's try it on Amazon Products"
   ]
  },
  {
   "cell_type": "code",
   "execution_count": 6,
   "metadata": {},
   "outputs": [],
   "source": [
    "df = pd.read_csv(\"../data/filtered_amazon_co-ecommerce_sample.csv\")"
   ]
  },
  {
   "cell_type": "code",
   "execution_count": 29,
   "metadata": {},
   "outputs": [],
   "source": [
    "def model_input(text, labels):\n",
    "    inputs = tokenizer.batch_encode_plus([text] + labels,\n",
    "                                         return_tensors='pt',\n",
    "                                         padding='longest')\n",
    "    return inputs"
   ]
  },
  {
   "cell_type": "code",
   "execution_count": 8,
   "metadata": {},
   "outputs": [],
   "source": [
    "def model_output(inputs):\n",
    "    output = model(**inputs)[0]\n",
    "    sentence_rep = output[:1].mean(dim=1)\n",
    "    label_reps = output[1:].mean(dim=1)\n",
    "    \n",
    "    return sentence_rep, label_reps"
   ]
  },
  {
   "cell_type": "code",
   "execution_count": 53,
   "metadata": {},
   "outputs": [],
   "source": [
    "def closest_label(sentence_representation, label_representations):\n",
    "    similarities = F.cosine_similarity(sentence_representation, label_representations)\n",
    "    closest = similarities.argsort(descending=True)\n",
    "    return similarities, closest"
   ]
  },
  {
   "cell_type": "code",
   "execution_count": 22,
   "metadata": {},
   "outputs": [
    {
     "data": {
      "text/plain": [
       "['Hobbies',\n",
       " 'Characters & Brands',\n",
       " 'Fancy Dress',\n",
       " 'Arts & Crafts',\n",
       " 'Games',\n",
       " 'Figures & Playsets',\n",
       " 'Sports Toys & Outdoor',\n",
       " 'Die-Cast & Toy Vehicles',\n",
       " 'Baby & Toddler Toys',\n",
       " 'Party Supplies',\n",
       " 'Dolls & Accessories',\n",
       " 'Puppets & Puppet Theatres',\n",
       " 'Jigsaws & Puzzles']"
      ]
     },
     "execution_count": 22,
     "metadata": {},
     "output_type": "execute_result"
    }
   ],
   "source": [
    "labels = list(df['category'].unique())\n",
    "labels"
   ]
  },
  {
   "cell_type": "code",
   "execution_count": 76,
   "metadata": {},
   "outputs": [],
   "source": [
    "idx = 100\n",
    "example = df.iloc[idx]\n",
    "\n",
    "inputs = model_input(example['product_name'], labels)"
   ]
  },
  {
   "cell_type": "code",
   "execution_count": 77,
   "metadata": {},
   "outputs": [],
   "source": [
    "sentence_rep, label_reps = model_output(inputs)"
   ]
  },
  {
   "cell_type": "code",
   "execution_count": 78,
   "metadata": {},
   "outputs": [
    {
     "data": {
      "text/plain": [
       "tensor([ 7, 12,  5, 11,  3, 10,  6,  0,  1,  8,  4,  2,  9])"
      ]
     },
     "execution_count": 78,
     "metadata": {},
     "output_type": "execute_result"
    }
   ],
   "source": [
    "similarities, closest = closest_label(sentence_rep, label_reps) \n",
    "\n",
    "closest"
   ]
  },
  {
   "cell_type": "code",
   "execution_count": 79,
   "metadata": {},
   "outputs": [
    {
     "name": "stdout",
     "output_type": "stream",
     "text": [
      "label: Die-Cast & Toy Vehicles \t similarity: 0.4015389084815979\n",
      "label: Jigsaws & Puzzles \t similarity: 0.32925093173980713\n",
      "label: Figures & Playsets \t similarity: 0.2397889792919159\n",
      "label: Puppets & Puppet Theatres \t similarity: 0.2038014829158783\n",
      "label: Arts & Crafts \t similarity: 0.17721787095069885\n",
      "label: Dolls & Accessories \t similarity: 0.16500996053218842\n",
      "label: Sports Toys & Outdoor \t similarity: 0.16155120730400085\n",
      "label: Hobbies \t similarity: 0.12504489719867706\n",
      "label: Characters & Brands \t similarity: 0.10231133550405502\n",
      "label: Baby & Toddler Toys \t similarity: 0.08563225716352463\n",
      "label: Games \t similarity: 0.06645378470420837\n",
      "label: Fancy Dress \t similarity: 0.06069502234458923\n",
      "label: Party Supplies \t similarity: 0.016845915466547012\n",
      "\n",
      "True Label: Hobbies\n"
     ]
    }
   ],
   "source": [
    "for ind in closest:\n",
    "    print(f'label: {labels[ind]} \\t similarity: {similarities[ind]}')\n",
    "print()\n",
    "print(f\"True Label: {example['category']}\")"
   ]
  },
  {
   "cell_type": "code",
   "execution_count": 80,
   "metadata": {},
   "outputs": [
    {
     "data": {
      "text/plain": [
       "'Piko 36165 35mm Metal Wheels (2 Axles)'"
      ]
     },
     "execution_count": 80,
     "metadata": {},
     "output_type": "execute_result"
    }
   ],
   "source": [
    "example['product_name']"
   ]
  },
  {
   "cell_type": "code",
   "execution_count": 81,
   "metadata": {},
   "outputs": [
    {
     "data": {
      "text/plain": [
       "'Suitable for the following scale(s): G Scale'"
      ]
     },
     "execution_count": 81,
     "metadata": {},
     "output_type": "execute_result"
    }
   ],
   "source": [
    "example['description']"
   ]
  },
  {
   "cell_type": "code",
   "execution_count": 82,
   "metadata": {},
   "outputs": [
    {
     "data": {
      "text/plain": [
       "'Technical Details Manufacturer recommended age:3 years and up Item model numberPiko 36165 Scale1::22.5 Track Width/GaugeG \\xa0\\xa0 Additional Information ASINB00ACH5PC4 Best Sellers Rank 994,387 in Toys & Games (See top 100) #1418 in\\xa0Toys & Games > Model Trains & Railway Sets > Rail Vehicles > Wagons #1835 in\\xa0Toys & Games > Model Trains & Railway Sets > Rail Vehicles > Trains Delivery Destinations:Visit the Delivery Destinations Help page to see where this item can be delivered. Date First Available29 May 2013 \\xa0\\xa0 Feedback \\xa0Would you like to update product info or give feedback on images?'"
      ]
     },
     "execution_count": 82,
     "metadata": {},
     "output_type": "execute_result"
    }
   ],
   "source": [
    "example['product_information']"
   ]
  },
  {
   "cell_type": "code",
   "execution_count": null,
   "metadata": {},
   "outputs": [],
   "source": []
  }
 ],
 "metadata": {
  "kernelspec": {
   "display_name": "Python 3",
   "language": "python",
   "name": "python3"
  },
  "language_info": {
   "codemirror_mode": {
    "name": "ipython",
    "version": 3
   },
   "file_extension": ".py",
   "mimetype": "text/x-python",
   "name": "python",
   "nbconvert_exporter": "python",
   "pygments_lexer": "ipython3",
   "version": "3.7.4"
  }
 },
 "nbformat": 4,
 "nbformat_minor": 4
}
