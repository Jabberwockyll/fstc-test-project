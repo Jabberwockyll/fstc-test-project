{
 "cells": [
  {
   "cell_type": "markdown",
   "metadata": {
    "id": "yFUCiMpjGFKG"
   },
   "source": [
    "# Optimizing Zmap for \"on-the-fly\" text classification\n",
    "This notebook is the first of two to accompany our [Few-Shot Text Classification](https://few-shot-text-classification.fastforwardlabs.com/) report in which we dive into the ins and outs of latent text embeddings for text classifications in several limited-labeled-data regimes. One such regime is what we call \"on-the-fly\" text classification in which no labeled data exists. To classify text with no labeled training data we rely on the inherent meaning of the labels themselves and embed both the label name and the text document with Sentence-BERT. Classification proceeds by assiging the label name whose embedding maximizes the cosine similarity to the text document embedding. \n",
    "\n",
    " To enhance the classification accuracy of this method, this notebook focuses on how to optimize a mapping (Zmap) between Sentence-BERT (SBERT) embedding space and word2vec (w2v) embedding space since SBERT is optimized to generate representations for *sentences*, while w2v is optimized for *words*. \n",
    "\n",
    "  In the following experiments we use two datasets: AG News and the Reddit dataset, both of which can be found on the [HuggingFace Dataset Repository](link) (CAUTION: the Reddit dataset is *very* large and takes a looooong time to download. In our experiments we have already downsampled the dataset to fit in memory. Details on how we did that can be found in [this](link) notebook.)\n",
    "\n",
    "### Notes\n",
    "* This notebook requires the use of the original word2vec embeddings (which take a while to download for the first time)\n",
    "* Because this notebook makes use of a Transformer model, **GPUs are strongly prefered**. \n",
    "* You can access free GPUs by running this notebook with Google Colaboratory, a Jupyter Notebook environment that runs in the browser using Google Cloud. [This introductory Colab](https://colab.research.google.com/github/googlecolab/colabtools/blob/master/notebooks/colab-github-demo.ipynb#scrollTo=K-NVg7RjyeTk) demonstrates how to use Colab with GitHub. \n",
    "\n",
    "\n",
    "### Data to upload\n",
    "* Word2Vec model\n",
    "* reddit dataset\n"
   ]
  },
  {
   "cell_type": "markdown",
   "metadata": {},
   "source": [
    "## Installation in a Colab environment\n",
    "If you followed the installation instructions in the README and are running this notebook locally or in your CML/CDSW environment, you can skip this section. \n",
    "\n",
    "However, if you'd like to take advantage of the free GPUs provided by a Colab environment you'll need to do a bit of Follow the steps below. "
   ]
  },
  {
   "cell_type": "code",
   "execution_count": null,
   "metadata": {
    "colab": {
     "base_uri": "https://localhost:8080/"
    },
    "executionInfo": {
     "elapsed": 2718,
     "status": "ok",
     "timestamp": 1607710259233,
     "user": {
      "displayName": "Melanie Beck",
      "photoUrl": "https://lh3.googleusercontent.com/a-/AOh14GjLbnYa4ftLBgztDifL0LIFKY8SwjZMZ7xgytOx=s64",
      "userId": "09930974187097582546"
     },
     "user_tz": 360
    },
    "id": "8CBcpOLuEpnd",
    "outputId": "addaf87d-b5a0-4430-a21a-f142e4797d19"
   },
   "outputs": [],
   "source": [
    " # clone the few-shot repo \n",
    " !git clone https://github.com/fastforwardlabs/few-shot-text-classification.git"
   ]
  },
  {
   "cell_type": "markdown",
   "metadata": {},
   "source": [
    "Move the the `fewshot` subdirectory and the `setup.py` file up from the main `few-shot-text-classification` directory and then run the following cell. "
   ]
  },
  {
   "cell_type": "code",
   "execution_count": null,
   "metadata": {
    "id": "bRsL9105EtRR",
    "scrolled": true
   },
   "outputs": [],
   "source": [
    "!pip3 install datasets==1.1.2\n",
    "!pip3 install transformers==3.3.0\n",
    "!pip3 install -e ."
   ]
  },
  {
   "cell_type": "markdown",
   "metadata": {},
   "source": [
    "## Getting Started"
   ]
  },
  {
   "cell_type": "code",
   "execution_count": null,
   "metadata": {},
   "outputs": [],
   "source": [
    "import os\n",
    "import pandas as pd\n",
    "import numpy as np\n",
    "import matplotlib.pyplot as plt\n",
    "\n",
    "from fewshot.data.loaders import load_or_cache_data\n",
    "\n",
    "from fewshot.embeddings.word_embeddings import (\n",
    "    load_word_vector_model,\n",
    "    get_topk_w2v_vectors,\n",
    "    get_word_embeddings\n",
    ")\n",
    "from fewshot.embeddings.sentence_embeddings import (\n",
    "    load_transformer_model_and_tokenizer,\n",
    "    get_sentence_embeddings,\n",
    ")\n",
    "\n",
    "from fewshot.models.on_the_fly import OLS_with_l2_regularization\n",
    "\n",
    "from fewshot.eval import predict_and_score, simple_topk_accuracy\n",
    "\n",
    "from fewshot.utils import (\n",
    "    fewshot_filename,\n",
    "    torch_load,\n",
    "    torch_save,\n",
    "    pickle_load,\n",
    "    pickle_save,\n",
    "    to_tensor,\n",
    "    to_list,\n",
    ")\n"
   ]
  },
  {
   "cell_type": "code",
   "execution_count": null,
   "metadata": {
    "id": "JrACkS0gE68p"
   },
   "outputs": [],
   "source": [
    "import os\n",
    "import pickle\n",
    "import torch\n",
    "import pandas as pd\n",
    "import numpy as np\n",
    "import matplotlib.pyplot as plt\n",
    "\n",
    "from tqdm.notebook import tqdm, tnrange\n",
    "from torch.utils.data import TensorDataset, DataLoader\n",
    "\n",
    "from fewshot.embeddings import word_embeddings as w2v\n",
    "from fewshot.embeddings import transformer_embeddings as transf\n",
    "\n",
    "from fewshot.predictions import compute_predictions, compute_predictions_projection\n",
    "from fewshot.metrics import simple_accuracy, simple_topk_accuracy\n",
    "from fewshot.data.loaders import (\n",
    "    load_or_cache_data, \n",
    "    Dataset,\n",
    "    _prepare_category_names\n",
    ")\n",
    "from fewshot.utils import (\n",
    "    fewshot_filename, \n",
    "    torch_load,\n",
    "    pickle_load, \n",
    "    pickle_save,\n",
    "    torch_load,\n",
    "    to_tensor, \n",
    "    to_list, \n",
    "    torch_save,  \n",
    "    compute_projection_matrix\n",
    ")"
   ]
  },
  {
   "cell_type": "code",
   "execution_count": null,
   "metadata": {
    "colab": {
     "base_uri": "https://localhost:8080/"
    },
    "executionInfo": {
     "elapsed": 890,
     "status": "ok",
     "timestamp": 1607710440769,
     "user": {
      "displayName": "Melanie Beck",
      "photoUrl": "https://lh3.googleusercontent.com/a-/AOh14GjLbnYa4ftLBgztDifL0LIFKY8SwjZMZ7xgytOx=s64",
      "userId": "09930974187097582546"
     },
     "user_tz": 360
    },
    "id": "ck48_SuTFAeS",
    "outputId": "643b9026-957d-4ac9-b90f-c3bedc55839d"
   },
   "outputs": [],
   "source": [
    "import nltk\n",
    "nltk.download('stopwords')\n",
    "nltk.download('punkt')"
   ]
  },
  {
   "cell_type": "markdown",
   "metadata": {
    "id": "XSNsCRt0WBAj"
   },
   "source": [
    "# Load a dataset (or three)"
   ]
  },
  {
   "cell_type": "code",
   "execution_count": 52,
   "metadata": {
    "colab": {
     "base_uri": "https://localhost:8080/"
    },
    "executionInfo": {
     "elapsed": 443,
     "status": "ok",
     "timestamp": 1607710454560,
     "user": {
      "displayName": "Melanie Beck",
      "photoUrl": "https://lh3.googleusercontent.com/a-/AOh14GjLbnYa4ftLBgztDifL0LIFKY8SwjZMZ7xgytOx=s64",
      "userId": "09930974187097582546"
     },
     "user_tz": 360
    },
    "id": "kSM7Lo2jGA55",
    "outputId": "c142242a-f002-4a4c-b85e-7a0d2bebef87"
   },
   "outputs": [
    {
     "name": "stdout",
     "output_type": "stream",
     "text": [
      "Checking for cached data...\n"
     ]
    }
   ],
   "source": [
    "# ag news dataset contains `distilbert/sentence_bert` embeddings\n",
    "news_data = load_or_cache_data(\"data/agnews\", \"agnews\")"
   ]
  },
  {
   "cell_type": "code",
   "execution_count": 66,
   "metadata": {
    "id": "oNjdTJ-PfU4J"
   },
   "outputs": [],
   "source": [
    "#reddit_data = load_or_cache_data(\"data\", \"reddit\")\n",
    "\n",
    "# We're already precomputed the SBERT embeddings for the reddit test set\n",
    "reddit_data = torch_load(fewshot_filename(\"data/reddit\", \"reddit_dataset_1300.pt\"))"
   ]
  },
  {
   "cell_type": "code",
   "execution_count": 68,
   "metadata": {},
   "outputs": [
    {
     "name": "stderr",
     "output_type": "stream",
     "text": [
      "Computing sentence representations:   0%|          | 0/814 [00:03<?, ?it/s]\n"
     ]
    },
    {
     "ename": "KeyboardInterrupt",
     "evalue": "",
     "output_type": "error",
     "traceback": [
      "\u001b[0;31m---------------------------------------------------------------------------\u001b[0m",
      "\u001b[0;31mKeyboardInterrupt\u001b[0m                         Traceback (most recent call last)",
      "\u001b[0;32m<ipython-input-68-821186b14203>\u001b[0m in \u001b[0;36m<module>\u001b[0;34m\u001b[0m\n\u001b[0;32m----> 1\u001b[0;31m \u001b[0mreddit_data\u001b[0m\u001b[0;34m.\u001b[0m\u001b[0membeddings\u001b[0m\u001b[0;34m\u001b[0m\u001b[0;34m\u001b[0m\u001b[0m\n\u001b[0m",
      "\u001b[0;32m~/Projects/few-shot-text-classification/fewshot/data/utils.py\u001b[0m in \u001b[0;36membeddings\u001b[0;34m(self)\u001b[0m\n\u001b[1;32m     81\u001b[0m                 \u001b[0;34m\"Should run dataset.calc_sbert_embeddings() first.  In the future this will fail.\"\u001b[0m\u001b[0;34m\u001b[0m\u001b[0;34m\u001b[0m\u001b[0m\n\u001b[1;32m     82\u001b[0m             )\n\u001b[0;32m---> 83\u001b[0;31m             \u001b[0mself\u001b[0m\u001b[0;34m.\u001b[0m\u001b[0mcalc_sbert_embeddings\u001b[0m\u001b[0;34m(\u001b[0m\u001b[0;34m)\u001b[0m\u001b[0;34m\u001b[0m\u001b[0;34m\u001b[0m\u001b[0m\n\u001b[0m\u001b[1;32m     84\u001b[0m             \u001b[0;31m# raise Exception(\"Run dataset.calc_sbert_embeddings() first.\")\u001b[0m\u001b[0;34m\u001b[0m\u001b[0;34m\u001b[0m\u001b[0;34m\u001b[0m\u001b[0m\n\u001b[1;32m     85\u001b[0m         \u001b[0;32mreturn\u001b[0m \u001b[0mself\u001b[0m\u001b[0;34m.\u001b[0m\u001b[0m_embeddings\u001b[0m\u001b[0;34m\u001b[0m\u001b[0;34m\u001b[0m\u001b[0m\n",
      "\u001b[0;32m~/Projects/few-shot-text-classification/fewshot/data/utils.py\u001b[0m in \u001b[0;36mcalc_sbert_embeddings\u001b[0;34m(self)\u001b[0m\n\u001b[1;32m     72\u001b[0m         \u001b[0mmodel\u001b[0m\u001b[0;34m,\u001b[0m \u001b[0mtokenizer\u001b[0m \u001b[0;34m=\u001b[0m \u001b[0mload_transformer_model_and_tokenizer\u001b[0m\u001b[0;34m(\u001b[0m\u001b[0;34m)\u001b[0m\u001b[0;34m\u001b[0m\u001b[0;34m\u001b[0m\u001b[0m\n\u001b[1;32m     73\u001b[0m         self._embeddings = get_sentence_embeddings(\n\u001b[0;32m---> 74\u001b[0;31m             \u001b[0mself\u001b[0m\u001b[0;34m.\u001b[0m\u001b[0mexamples\u001b[0m \u001b[0;34m+\u001b[0m \u001b[0mself\u001b[0m\u001b[0;34m.\u001b[0m\u001b[0mcategories\u001b[0m\u001b[0;34m,\u001b[0m \u001b[0mmodel\u001b[0m\u001b[0;34m,\u001b[0m \u001b[0mtokenizer\u001b[0m\u001b[0;34m\u001b[0m\u001b[0;34m\u001b[0m\u001b[0m\n\u001b[0m\u001b[1;32m     75\u001b[0m         )\n\u001b[1;32m     76\u001b[0m \u001b[0;34m\u001b[0m\u001b[0m\n",
      "\u001b[0;32m~/Projects/few-shot-text-classification/fewshot/embeddings/sentence_embeddings.py\u001b[0m in \u001b[0;36mget_sentence_embeddings\u001b[0;34m(data, model, tokenizer, output_filename, **kwargs)\u001b[0m\n\u001b[1;32m    111\u001b[0m     \u001b[0mfeatures\u001b[0m \u001b[0;34m=\u001b[0m \u001b[0mbatch_tokenize\u001b[0m\u001b[0;34m(\u001b[0m\u001b[0mdata\u001b[0m\u001b[0;34m,\u001b[0m \u001b[0mtokenizer\u001b[0m\u001b[0;34m,\u001b[0m \u001b[0;34m**\u001b[0m\u001b[0mkwargs\u001b[0m\u001b[0;34m)\u001b[0m\u001b[0;34m\u001b[0m\u001b[0;34m\u001b[0m\u001b[0m\n\u001b[1;32m    112\u001b[0m     \u001b[0mdataset\u001b[0m \u001b[0;34m=\u001b[0m \u001b[0mprepare_dataset\u001b[0m\u001b[0;34m(\u001b[0m\u001b[0mfeatures\u001b[0m\u001b[0;34m)\u001b[0m\u001b[0;34m\u001b[0m\u001b[0;34m\u001b[0m\u001b[0m\n\u001b[0;32m--> 113\u001b[0;31m     \u001b[0membeddings\u001b[0m \u001b[0;34m=\u001b[0m \u001b[0mcompute_embeddings\u001b[0m\u001b[0;34m(\u001b[0m\u001b[0mdataset\u001b[0m\u001b[0;34m,\u001b[0m \u001b[0mmodel\u001b[0m\u001b[0;34m,\u001b[0m \u001b[0;34m**\u001b[0m\u001b[0mkwargs\u001b[0m\u001b[0;34m)\u001b[0m\u001b[0;34m\u001b[0m\u001b[0;34m\u001b[0m\u001b[0m\n\u001b[0m\u001b[1;32m    114\u001b[0m \u001b[0;34m\u001b[0m\u001b[0m\n\u001b[1;32m    115\u001b[0m     \u001b[0;32mif\u001b[0m \u001b[0moutput_filename\u001b[0m\u001b[0;34m:\u001b[0m\u001b[0;34m\u001b[0m\u001b[0;34m\u001b[0m\u001b[0m\n",
      "\u001b[0;32m~/Projects/few-shot-text-classification/fewshot/embeddings/sentence_embeddings.py\u001b[0m in \u001b[0;36mcompute_embeddings\u001b[0;34m(dataset, model, batch_size, **kwargs)\u001b[0m\n\u001b[1;32m     89\u001b[0m                 \u001b[0;34m\"attention_mask\"\u001b[0m\u001b[0;34m:\u001b[0m \u001b[0mbatch\u001b[0m\u001b[0;34m[\u001b[0m\u001b[0;36m1\u001b[0m\u001b[0;34m]\u001b[0m\u001b[0;34m,\u001b[0m\u001b[0;34m\u001b[0m\u001b[0;34m\u001b[0m\u001b[0m\n\u001b[1;32m     90\u001b[0m             }\n\u001b[0;32m---> 91\u001b[0;31m             \u001b[0moutputs\u001b[0m \u001b[0;34m=\u001b[0m \u001b[0mmodel\u001b[0m\u001b[0;34m(\u001b[0m\u001b[0;34m**\u001b[0m\u001b[0minputs\u001b[0m\u001b[0;34m)\u001b[0m\u001b[0;34m[\u001b[0m\u001b[0;36m0\u001b[0m\u001b[0;34m]\u001b[0m\u001b[0;34m\u001b[0m\u001b[0;34m\u001b[0m\u001b[0m\n\u001b[0m\u001b[1;32m     92\u001b[0m             \u001b[0membeddings\u001b[0m \u001b[0;34m=\u001b[0m \u001b[0moutputs\u001b[0m\u001b[0;34m.\u001b[0m\u001b[0mmean\u001b[0m\u001b[0;34m(\u001b[0m\u001b[0mdim\u001b[0m\u001b[0;34m=\u001b[0m\u001b[0;36m1\u001b[0m\u001b[0;34m)\u001b[0m\u001b[0;34m.\u001b[0m\u001b[0mdetach\u001b[0m\u001b[0;34m(\u001b[0m\u001b[0;34m)\u001b[0m\u001b[0;34m.\u001b[0m\u001b[0mcpu\u001b[0m\u001b[0;34m(\u001b[0m\u001b[0;34m)\u001b[0m\u001b[0;34m\u001b[0m\u001b[0;34m\u001b[0m\u001b[0m\n\u001b[1;32m     93\u001b[0m \u001b[0;34m\u001b[0m\u001b[0m\n",
      "\u001b[0;32m/opt/anaconda3/envs/few-shot/lib/python3.7/site-packages/torch/nn/modules/module.py\u001b[0m in \u001b[0;36m_call_impl\u001b[0;34m(self, *input, **kwargs)\u001b[0m\n\u001b[1;32m    720\u001b[0m             \u001b[0mresult\u001b[0m \u001b[0;34m=\u001b[0m \u001b[0mself\u001b[0m\u001b[0;34m.\u001b[0m\u001b[0m_slow_forward\u001b[0m\u001b[0;34m(\u001b[0m\u001b[0;34m*\u001b[0m\u001b[0minput\u001b[0m\u001b[0;34m,\u001b[0m \u001b[0;34m**\u001b[0m\u001b[0mkwargs\u001b[0m\u001b[0;34m)\u001b[0m\u001b[0;34m\u001b[0m\u001b[0;34m\u001b[0m\u001b[0m\n\u001b[1;32m    721\u001b[0m         \u001b[0;32melse\u001b[0m\u001b[0;34m:\u001b[0m\u001b[0;34m\u001b[0m\u001b[0;34m\u001b[0m\u001b[0m\n\u001b[0;32m--> 722\u001b[0;31m             \u001b[0mresult\u001b[0m \u001b[0;34m=\u001b[0m \u001b[0mself\u001b[0m\u001b[0;34m.\u001b[0m\u001b[0mforward\u001b[0m\u001b[0;34m(\u001b[0m\u001b[0;34m*\u001b[0m\u001b[0minput\u001b[0m\u001b[0;34m,\u001b[0m \u001b[0;34m**\u001b[0m\u001b[0mkwargs\u001b[0m\u001b[0;34m)\u001b[0m\u001b[0;34m\u001b[0m\u001b[0;34m\u001b[0m\u001b[0m\n\u001b[0m\u001b[1;32m    723\u001b[0m         for hook in itertools.chain(\n\u001b[1;32m    724\u001b[0m                 \u001b[0m_global_forward_hooks\u001b[0m\u001b[0;34m.\u001b[0m\u001b[0mvalues\u001b[0m\u001b[0;34m(\u001b[0m\u001b[0;34m)\u001b[0m\u001b[0;34m,\u001b[0m\u001b[0;34m\u001b[0m\u001b[0;34m\u001b[0m\u001b[0m\n",
      "\u001b[0;32m/opt/anaconda3/envs/few-shot/lib/python3.7/site-packages/transformers/modeling_bert.py\u001b[0m in \u001b[0;36mforward\u001b[0;34m(self, input_ids, attention_mask, token_type_ids, position_ids, head_mask, inputs_embeds, encoder_hidden_states, encoder_attention_mask, output_attentions, output_hidden_states, return_dict)\u001b[0m\n\u001b[1;32m    839\u001b[0m             \u001b[0moutput_attentions\u001b[0m\u001b[0;34m=\u001b[0m\u001b[0moutput_attentions\u001b[0m\u001b[0;34m,\u001b[0m\u001b[0;34m\u001b[0m\u001b[0;34m\u001b[0m\u001b[0m\n\u001b[1;32m    840\u001b[0m             \u001b[0moutput_hidden_states\u001b[0m\u001b[0;34m=\u001b[0m\u001b[0moutput_hidden_states\u001b[0m\u001b[0;34m,\u001b[0m\u001b[0;34m\u001b[0m\u001b[0;34m\u001b[0m\u001b[0m\n\u001b[0;32m--> 841\u001b[0;31m             \u001b[0mreturn_dict\u001b[0m\u001b[0;34m=\u001b[0m\u001b[0mreturn_dict\u001b[0m\u001b[0;34m,\u001b[0m\u001b[0;34m\u001b[0m\u001b[0;34m\u001b[0m\u001b[0m\n\u001b[0m\u001b[1;32m    842\u001b[0m         )\n\u001b[1;32m    843\u001b[0m         \u001b[0msequence_output\u001b[0m \u001b[0;34m=\u001b[0m \u001b[0mencoder_outputs\u001b[0m\u001b[0;34m[\u001b[0m\u001b[0;36m0\u001b[0m\u001b[0;34m]\u001b[0m\u001b[0;34m\u001b[0m\u001b[0;34m\u001b[0m\u001b[0m\n",
      "\u001b[0;32m/opt/anaconda3/envs/few-shot/lib/python3.7/site-packages/torch/nn/modules/module.py\u001b[0m in \u001b[0;36m_call_impl\u001b[0;34m(self, *input, **kwargs)\u001b[0m\n\u001b[1;32m    720\u001b[0m             \u001b[0mresult\u001b[0m \u001b[0;34m=\u001b[0m \u001b[0mself\u001b[0m\u001b[0;34m.\u001b[0m\u001b[0m_slow_forward\u001b[0m\u001b[0;34m(\u001b[0m\u001b[0;34m*\u001b[0m\u001b[0minput\u001b[0m\u001b[0;34m,\u001b[0m \u001b[0;34m**\u001b[0m\u001b[0mkwargs\u001b[0m\u001b[0;34m)\u001b[0m\u001b[0;34m\u001b[0m\u001b[0;34m\u001b[0m\u001b[0m\n\u001b[1;32m    721\u001b[0m         \u001b[0;32melse\u001b[0m\u001b[0;34m:\u001b[0m\u001b[0;34m\u001b[0m\u001b[0;34m\u001b[0m\u001b[0m\n\u001b[0;32m--> 722\u001b[0;31m             \u001b[0mresult\u001b[0m \u001b[0;34m=\u001b[0m \u001b[0mself\u001b[0m\u001b[0;34m.\u001b[0m\u001b[0mforward\u001b[0m\u001b[0;34m(\u001b[0m\u001b[0;34m*\u001b[0m\u001b[0minput\u001b[0m\u001b[0;34m,\u001b[0m \u001b[0;34m**\u001b[0m\u001b[0mkwargs\u001b[0m\u001b[0;34m)\u001b[0m\u001b[0;34m\u001b[0m\u001b[0;34m\u001b[0m\u001b[0m\n\u001b[0m\u001b[1;32m    723\u001b[0m         for hook in itertools.chain(\n\u001b[1;32m    724\u001b[0m                 \u001b[0m_global_forward_hooks\u001b[0m\u001b[0;34m.\u001b[0m\u001b[0mvalues\u001b[0m\u001b[0;34m(\u001b[0m\u001b[0;34m)\u001b[0m\u001b[0;34m,\u001b[0m\u001b[0;34m\u001b[0m\u001b[0;34m\u001b[0m\u001b[0m\n",
      "\u001b[0;32m/opt/anaconda3/envs/few-shot/lib/python3.7/site-packages/transformers/modeling_bert.py\u001b[0m in \u001b[0;36mforward\u001b[0;34m(self, hidden_states, attention_mask, head_mask, encoder_hidden_states, encoder_attention_mask, output_attentions, output_hidden_states, return_dict)\u001b[0m\n\u001b[1;32m    480\u001b[0m                     \u001b[0mencoder_hidden_states\u001b[0m\u001b[0;34m,\u001b[0m\u001b[0;34m\u001b[0m\u001b[0;34m\u001b[0m\u001b[0m\n\u001b[1;32m    481\u001b[0m                     \u001b[0mencoder_attention_mask\u001b[0m\u001b[0;34m,\u001b[0m\u001b[0;34m\u001b[0m\u001b[0;34m\u001b[0m\u001b[0m\n\u001b[0;32m--> 482\u001b[0;31m                     \u001b[0moutput_attentions\u001b[0m\u001b[0;34m,\u001b[0m\u001b[0;34m\u001b[0m\u001b[0;34m\u001b[0m\u001b[0m\n\u001b[0m\u001b[1;32m    483\u001b[0m                 )\n\u001b[1;32m    484\u001b[0m             \u001b[0mhidden_states\u001b[0m \u001b[0;34m=\u001b[0m \u001b[0mlayer_outputs\u001b[0m\u001b[0;34m[\u001b[0m\u001b[0;36m0\u001b[0m\u001b[0;34m]\u001b[0m\u001b[0;34m\u001b[0m\u001b[0;34m\u001b[0m\u001b[0m\n",
      "\u001b[0;32m/opt/anaconda3/envs/few-shot/lib/python3.7/site-packages/torch/nn/modules/module.py\u001b[0m in \u001b[0;36m_call_impl\u001b[0;34m(self, *input, **kwargs)\u001b[0m\n\u001b[1;32m    720\u001b[0m             \u001b[0mresult\u001b[0m \u001b[0;34m=\u001b[0m \u001b[0mself\u001b[0m\u001b[0;34m.\u001b[0m\u001b[0m_slow_forward\u001b[0m\u001b[0;34m(\u001b[0m\u001b[0;34m*\u001b[0m\u001b[0minput\u001b[0m\u001b[0;34m,\u001b[0m \u001b[0;34m**\u001b[0m\u001b[0mkwargs\u001b[0m\u001b[0;34m)\u001b[0m\u001b[0;34m\u001b[0m\u001b[0;34m\u001b[0m\u001b[0m\n\u001b[1;32m    721\u001b[0m         \u001b[0;32melse\u001b[0m\u001b[0;34m:\u001b[0m\u001b[0;34m\u001b[0m\u001b[0;34m\u001b[0m\u001b[0m\n\u001b[0;32m--> 722\u001b[0;31m             \u001b[0mresult\u001b[0m \u001b[0;34m=\u001b[0m \u001b[0mself\u001b[0m\u001b[0;34m.\u001b[0m\u001b[0mforward\u001b[0m\u001b[0;34m(\u001b[0m\u001b[0;34m*\u001b[0m\u001b[0minput\u001b[0m\u001b[0;34m,\u001b[0m \u001b[0;34m**\u001b[0m\u001b[0mkwargs\u001b[0m\u001b[0;34m)\u001b[0m\u001b[0;34m\u001b[0m\u001b[0;34m\u001b[0m\u001b[0m\n\u001b[0m\u001b[1;32m    723\u001b[0m         for hook in itertools.chain(\n\u001b[1;32m    724\u001b[0m                 \u001b[0m_global_forward_hooks\u001b[0m\u001b[0;34m.\u001b[0m\u001b[0mvalues\u001b[0m\u001b[0;34m(\u001b[0m\u001b[0;34m)\u001b[0m\u001b[0;34m,\u001b[0m\u001b[0;34m\u001b[0m\u001b[0;34m\u001b[0m\u001b[0m\n",
      "\u001b[0;32m/opt/anaconda3/envs/few-shot/lib/python3.7/site-packages/transformers/modeling_bert.py\u001b[0m in \u001b[0;36mforward\u001b[0;34m(self, hidden_states, attention_mask, head_mask, encoder_hidden_states, encoder_attention_mask, output_attentions)\u001b[0m\n\u001b[1;32m    400\u001b[0m             \u001b[0mattention_mask\u001b[0m\u001b[0;34m,\u001b[0m\u001b[0;34m\u001b[0m\u001b[0;34m\u001b[0m\u001b[0m\n\u001b[1;32m    401\u001b[0m             \u001b[0mhead_mask\u001b[0m\u001b[0;34m,\u001b[0m\u001b[0;34m\u001b[0m\u001b[0;34m\u001b[0m\u001b[0m\n\u001b[0;32m--> 402\u001b[0;31m             \u001b[0moutput_attentions\u001b[0m\u001b[0;34m=\u001b[0m\u001b[0moutput_attentions\u001b[0m\u001b[0;34m,\u001b[0m\u001b[0;34m\u001b[0m\u001b[0;34m\u001b[0m\u001b[0m\n\u001b[0m\u001b[1;32m    403\u001b[0m         )\n\u001b[1;32m    404\u001b[0m         \u001b[0mattention_output\u001b[0m \u001b[0;34m=\u001b[0m \u001b[0mself_attention_outputs\u001b[0m\u001b[0;34m[\u001b[0m\u001b[0;36m0\u001b[0m\u001b[0;34m]\u001b[0m\u001b[0;34m\u001b[0m\u001b[0;34m\u001b[0m\u001b[0m\n",
      "\u001b[0;32m/opt/anaconda3/envs/few-shot/lib/python3.7/site-packages/torch/nn/modules/module.py\u001b[0m in \u001b[0;36m_call_impl\u001b[0;34m(self, *input, **kwargs)\u001b[0m\n\u001b[1;32m    720\u001b[0m             \u001b[0mresult\u001b[0m \u001b[0;34m=\u001b[0m \u001b[0mself\u001b[0m\u001b[0;34m.\u001b[0m\u001b[0m_slow_forward\u001b[0m\u001b[0;34m(\u001b[0m\u001b[0;34m*\u001b[0m\u001b[0minput\u001b[0m\u001b[0;34m,\u001b[0m \u001b[0;34m**\u001b[0m\u001b[0mkwargs\u001b[0m\u001b[0;34m)\u001b[0m\u001b[0;34m\u001b[0m\u001b[0;34m\u001b[0m\u001b[0m\n\u001b[1;32m    721\u001b[0m         \u001b[0;32melse\u001b[0m\u001b[0;34m:\u001b[0m\u001b[0;34m\u001b[0m\u001b[0;34m\u001b[0m\u001b[0m\n\u001b[0;32m--> 722\u001b[0;31m             \u001b[0mresult\u001b[0m \u001b[0;34m=\u001b[0m \u001b[0mself\u001b[0m\u001b[0;34m.\u001b[0m\u001b[0mforward\u001b[0m\u001b[0;34m(\u001b[0m\u001b[0;34m*\u001b[0m\u001b[0minput\u001b[0m\u001b[0;34m,\u001b[0m \u001b[0;34m**\u001b[0m\u001b[0mkwargs\u001b[0m\u001b[0;34m)\u001b[0m\u001b[0;34m\u001b[0m\u001b[0;34m\u001b[0m\u001b[0m\n\u001b[0m\u001b[1;32m    723\u001b[0m         for hook in itertools.chain(\n\u001b[1;32m    724\u001b[0m                 \u001b[0m_global_forward_hooks\u001b[0m\u001b[0;34m.\u001b[0m\u001b[0mvalues\u001b[0m\u001b[0;34m(\u001b[0m\u001b[0;34m)\u001b[0m\u001b[0;34m,\u001b[0m\u001b[0;34m\u001b[0m\u001b[0;34m\u001b[0m\u001b[0m\n",
      "\u001b[0;32m/opt/anaconda3/envs/few-shot/lib/python3.7/site-packages/transformers/modeling_bert.py\u001b[0m in \u001b[0;36mforward\u001b[0;34m(self, hidden_states, attention_mask, head_mask, encoder_hidden_states, encoder_attention_mask, output_attentions)\u001b[0m\n\u001b[1;32m    337\u001b[0m             \u001b[0mencoder_hidden_states\u001b[0m\u001b[0;34m,\u001b[0m\u001b[0;34m\u001b[0m\u001b[0;34m\u001b[0m\u001b[0m\n\u001b[1;32m    338\u001b[0m             \u001b[0mencoder_attention_mask\u001b[0m\u001b[0;34m,\u001b[0m\u001b[0;34m\u001b[0m\u001b[0;34m\u001b[0m\u001b[0m\n\u001b[0;32m--> 339\u001b[0;31m             \u001b[0moutput_attentions\u001b[0m\u001b[0;34m,\u001b[0m\u001b[0;34m\u001b[0m\u001b[0;34m\u001b[0m\u001b[0m\n\u001b[0m\u001b[1;32m    340\u001b[0m         )\n\u001b[1;32m    341\u001b[0m         \u001b[0mattention_output\u001b[0m \u001b[0;34m=\u001b[0m \u001b[0mself\u001b[0m\u001b[0;34m.\u001b[0m\u001b[0moutput\u001b[0m\u001b[0;34m(\u001b[0m\u001b[0mself_outputs\u001b[0m\u001b[0;34m[\u001b[0m\u001b[0;36m0\u001b[0m\u001b[0;34m]\u001b[0m\u001b[0;34m,\u001b[0m \u001b[0mhidden_states\u001b[0m\u001b[0;34m)\u001b[0m\u001b[0;34m\u001b[0m\u001b[0;34m\u001b[0m\u001b[0m\n",
      "\u001b[0;32m/opt/anaconda3/envs/few-shot/lib/python3.7/site-packages/torch/nn/modules/module.py\u001b[0m in \u001b[0;36m_call_impl\u001b[0;34m(self, *input, **kwargs)\u001b[0m\n\u001b[1;32m    720\u001b[0m             \u001b[0mresult\u001b[0m \u001b[0;34m=\u001b[0m \u001b[0mself\u001b[0m\u001b[0;34m.\u001b[0m\u001b[0m_slow_forward\u001b[0m\u001b[0;34m(\u001b[0m\u001b[0;34m*\u001b[0m\u001b[0minput\u001b[0m\u001b[0;34m,\u001b[0m \u001b[0;34m**\u001b[0m\u001b[0mkwargs\u001b[0m\u001b[0;34m)\u001b[0m\u001b[0;34m\u001b[0m\u001b[0;34m\u001b[0m\u001b[0m\n\u001b[1;32m    721\u001b[0m         \u001b[0;32melse\u001b[0m\u001b[0;34m:\u001b[0m\u001b[0;34m\u001b[0m\u001b[0;34m\u001b[0m\u001b[0m\n\u001b[0;32m--> 722\u001b[0;31m             \u001b[0mresult\u001b[0m \u001b[0;34m=\u001b[0m \u001b[0mself\u001b[0m\u001b[0;34m.\u001b[0m\u001b[0mforward\u001b[0m\u001b[0;34m(\u001b[0m\u001b[0;34m*\u001b[0m\u001b[0minput\u001b[0m\u001b[0;34m,\u001b[0m \u001b[0;34m**\u001b[0m\u001b[0mkwargs\u001b[0m\u001b[0;34m)\u001b[0m\u001b[0;34m\u001b[0m\u001b[0;34m\u001b[0m\u001b[0m\n\u001b[0m\u001b[1;32m    723\u001b[0m         for hook in itertools.chain(\n\u001b[1;32m    724\u001b[0m                 \u001b[0m_global_forward_hooks\u001b[0m\u001b[0;34m.\u001b[0m\u001b[0mvalues\u001b[0m\u001b[0;34m(\u001b[0m\u001b[0;34m)\u001b[0m\u001b[0;34m,\u001b[0m\u001b[0;34m\u001b[0m\u001b[0;34m\u001b[0m\u001b[0m\n",
      "\u001b[0;32m/opt/anaconda3/envs/few-shot/lib/python3.7/site-packages/transformers/modeling_bert.py\u001b[0m in \u001b[0;36mforward\u001b[0;34m(self, hidden_states, attention_mask, head_mask, encoder_hidden_states, encoder_attention_mask, output_attentions)\u001b[0m\n\u001b[1;32m    263\u001b[0m \u001b[0;34m\u001b[0m\u001b[0m\n\u001b[1;32m    264\u001b[0m         \u001b[0;31m# Normalize the attention scores to probabilities.\u001b[0m\u001b[0;34m\u001b[0m\u001b[0;34m\u001b[0m\u001b[0;34m\u001b[0m\u001b[0m\n\u001b[0;32m--> 265\u001b[0;31m         \u001b[0mattention_probs\u001b[0m \u001b[0;34m=\u001b[0m \u001b[0mnn\u001b[0m\u001b[0;34m.\u001b[0m\u001b[0mSoftmax\u001b[0m\u001b[0;34m(\u001b[0m\u001b[0mdim\u001b[0m\u001b[0;34m=\u001b[0m\u001b[0;34m-\u001b[0m\u001b[0;36m1\u001b[0m\u001b[0;34m)\u001b[0m\u001b[0;34m(\u001b[0m\u001b[0mattention_scores\u001b[0m\u001b[0;34m)\u001b[0m\u001b[0;34m\u001b[0m\u001b[0;34m\u001b[0m\u001b[0m\n\u001b[0m\u001b[1;32m    266\u001b[0m \u001b[0;34m\u001b[0m\u001b[0m\n\u001b[1;32m    267\u001b[0m         \u001b[0;31m# This is actually dropping out entire tokens to attend to, which might\u001b[0m\u001b[0;34m\u001b[0m\u001b[0;34m\u001b[0m\u001b[0;34m\u001b[0m\u001b[0m\n",
      "\u001b[0;32m/opt/anaconda3/envs/few-shot/lib/python3.7/site-packages/torch/nn/modules/module.py\u001b[0m in \u001b[0;36m_call_impl\u001b[0;34m(self, *input, **kwargs)\u001b[0m\n\u001b[1;32m    720\u001b[0m             \u001b[0mresult\u001b[0m \u001b[0;34m=\u001b[0m \u001b[0mself\u001b[0m\u001b[0;34m.\u001b[0m\u001b[0m_slow_forward\u001b[0m\u001b[0;34m(\u001b[0m\u001b[0;34m*\u001b[0m\u001b[0minput\u001b[0m\u001b[0;34m,\u001b[0m \u001b[0;34m**\u001b[0m\u001b[0mkwargs\u001b[0m\u001b[0;34m)\u001b[0m\u001b[0;34m\u001b[0m\u001b[0;34m\u001b[0m\u001b[0m\n\u001b[1;32m    721\u001b[0m         \u001b[0;32melse\u001b[0m\u001b[0;34m:\u001b[0m\u001b[0;34m\u001b[0m\u001b[0;34m\u001b[0m\u001b[0m\n\u001b[0;32m--> 722\u001b[0;31m             \u001b[0mresult\u001b[0m \u001b[0;34m=\u001b[0m \u001b[0mself\u001b[0m\u001b[0;34m.\u001b[0m\u001b[0mforward\u001b[0m\u001b[0;34m(\u001b[0m\u001b[0;34m*\u001b[0m\u001b[0minput\u001b[0m\u001b[0;34m,\u001b[0m \u001b[0;34m**\u001b[0m\u001b[0mkwargs\u001b[0m\u001b[0;34m)\u001b[0m\u001b[0;34m\u001b[0m\u001b[0;34m\u001b[0m\u001b[0m\n\u001b[0m\u001b[1;32m    723\u001b[0m         for hook in itertools.chain(\n\u001b[1;32m    724\u001b[0m                 \u001b[0m_global_forward_hooks\u001b[0m\u001b[0;34m.\u001b[0m\u001b[0mvalues\u001b[0m\u001b[0;34m(\u001b[0m\u001b[0;34m)\u001b[0m\u001b[0;34m,\u001b[0m\u001b[0;34m\u001b[0m\u001b[0;34m\u001b[0m\u001b[0m\n",
      "\u001b[0;32m/opt/anaconda3/envs/few-shot/lib/python3.7/site-packages/torch/nn/modules/activation.py\u001b[0m in \u001b[0;36mforward\u001b[0;34m(self, input)\u001b[0m\n\u001b[1;32m   1138\u001b[0m \u001b[0;34m\u001b[0m\u001b[0m\n\u001b[1;32m   1139\u001b[0m     \u001b[0;32mdef\u001b[0m \u001b[0mforward\u001b[0m\u001b[0;34m(\u001b[0m\u001b[0mself\u001b[0m\u001b[0;34m,\u001b[0m \u001b[0minput\u001b[0m\u001b[0;34m:\u001b[0m \u001b[0mTensor\u001b[0m\u001b[0;34m)\u001b[0m \u001b[0;34m->\u001b[0m \u001b[0mTensor\u001b[0m\u001b[0;34m:\u001b[0m\u001b[0;34m\u001b[0m\u001b[0;34m\u001b[0m\u001b[0m\n\u001b[0;32m-> 1140\u001b[0;31m         \u001b[0;32mreturn\u001b[0m \u001b[0mF\u001b[0m\u001b[0;34m.\u001b[0m\u001b[0msoftmax\u001b[0m\u001b[0;34m(\u001b[0m\u001b[0minput\u001b[0m\u001b[0;34m,\u001b[0m \u001b[0mself\u001b[0m\u001b[0;34m.\u001b[0m\u001b[0mdim\u001b[0m\u001b[0;34m,\u001b[0m \u001b[0m_stacklevel\u001b[0m\u001b[0;34m=\u001b[0m\u001b[0;36m5\u001b[0m\u001b[0;34m)\u001b[0m\u001b[0;34m\u001b[0m\u001b[0;34m\u001b[0m\u001b[0m\n\u001b[0m\u001b[1;32m   1141\u001b[0m \u001b[0;34m\u001b[0m\u001b[0m\n\u001b[1;32m   1142\u001b[0m     \u001b[0;32mdef\u001b[0m \u001b[0mextra_repr\u001b[0m\u001b[0;34m(\u001b[0m\u001b[0mself\u001b[0m\u001b[0;34m)\u001b[0m \u001b[0;34m->\u001b[0m \u001b[0mstr\u001b[0m\u001b[0;34m:\u001b[0m\u001b[0;34m\u001b[0m\u001b[0;34m\u001b[0m\u001b[0m\n",
      "\u001b[0;32m/opt/anaconda3/envs/few-shot/lib/python3.7/site-packages/torch/nn/functional.py\u001b[0m in \u001b[0;36msoftmax\u001b[0;34m(input, dim, _stacklevel, dtype)\u001b[0m\n\u001b[1;32m   1496\u001b[0m         \u001b[0mdim\u001b[0m \u001b[0;34m=\u001b[0m \u001b[0m_get_softmax_dim\u001b[0m\u001b[0;34m(\u001b[0m\u001b[0;34m'softmax'\u001b[0m\u001b[0;34m,\u001b[0m \u001b[0minput\u001b[0m\u001b[0;34m.\u001b[0m\u001b[0mdim\u001b[0m\u001b[0;34m(\u001b[0m\u001b[0;34m)\u001b[0m\u001b[0;34m,\u001b[0m \u001b[0m_stacklevel\u001b[0m\u001b[0;34m)\u001b[0m\u001b[0;34m\u001b[0m\u001b[0;34m\u001b[0m\u001b[0m\n\u001b[1;32m   1497\u001b[0m     \u001b[0;32mif\u001b[0m \u001b[0mdtype\u001b[0m \u001b[0;32mis\u001b[0m \u001b[0;32mNone\u001b[0m\u001b[0;34m:\u001b[0m\u001b[0;34m\u001b[0m\u001b[0;34m\u001b[0m\u001b[0m\n\u001b[0;32m-> 1498\u001b[0;31m         \u001b[0mret\u001b[0m \u001b[0;34m=\u001b[0m \u001b[0minput\u001b[0m\u001b[0;34m.\u001b[0m\u001b[0msoftmax\u001b[0m\u001b[0;34m(\u001b[0m\u001b[0mdim\u001b[0m\u001b[0;34m)\u001b[0m\u001b[0;34m\u001b[0m\u001b[0;34m\u001b[0m\u001b[0m\n\u001b[0m\u001b[1;32m   1499\u001b[0m     \u001b[0;32melse\u001b[0m\u001b[0;34m:\u001b[0m\u001b[0;34m\u001b[0m\u001b[0;34m\u001b[0m\u001b[0m\n\u001b[1;32m   1500\u001b[0m         \u001b[0mret\u001b[0m \u001b[0;34m=\u001b[0m \u001b[0minput\u001b[0m\u001b[0;34m.\u001b[0m\u001b[0msoftmax\u001b[0m\u001b[0;34m(\u001b[0m\u001b[0mdim\u001b[0m\u001b[0;34m,\u001b[0m \u001b[0mdtype\u001b[0m\u001b[0;34m=\u001b[0m\u001b[0mdtype\u001b[0m\u001b[0;34m)\u001b[0m\u001b[0;34m\u001b[0m\u001b[0;34m\u001b[0m\u001b[0m\n",
      "\u001b[0;31mKeyboardInterrupt\u001b[0m: "
     ]
    }
   ],
   "source": [
    "reddit_data.embeddings"
   ]
  },
  {
   "cell_type": "markdown",
   "metadata": {
    "id": "RralQjpDWE66"
   },
   "source": [
    "# Load SentenceBERT and W2V embedding models"
   ]
  },
  {
   "cell_type": "code",
   "execution_count": 54,
   "metadata": {
    "colab": {
     "base_uri": "https://localhost:8080/",
     "height": 262,
     "referenced_widgets": [
      "028ee0191b7a4335abed379da0910bc5",
      "d7703f1f94024868906a3903ae2cef8b",
      "114b8a66f6584edaa014f164d4b48afc",
      "d664068e5c9d40b8b1d19aa009304b2d",
      "8cafd40834734e7298d61839e9eaa611",
      "ed82fe1ad1f44648816c7e48523bfffa",
      "469dac13fec74883bdc99f95a0ddd4a5",
      "6a022330dfd8495cbd5c06c4ddd0057c",
      "ec918c5ae3fd40a386d877ceeccc699e",
      "9b0b6a30e57a47da810b3b31c1d3175c",
      "dd7dae8a91194813b15a7f9fadc8dbb1",
      "c956cb280f844505aef1a40c9d490768",
      "ba4106549ba148dc8801f4459b5d3774",
      "7085861c3e8c4721b63c9c24dc871cdd",
      "73f0c3c3e8d74c8dba28e9944c1171ac",
      "671fff6af21f4833be41ee7a6ea1ddb1",
      "f6cbf8e2085246819f9d3d89d08f48a7",
      "2a4a0298b93f4f0aae80ea55c9fc9673",
      "b7eb0d9cdd514856aedb583eaeef3b49",
      "8fb2f70417194b499073854468196fa7",
      "91f65a5462904018ac40a7774f07fb9c",
      "b95d98c62a8a4d12ac114d9dcf334848",
      "5f67d3bb4f98446984b969502fd8c05c",
      "db7adcf2d2eb4d36bd88629ae9e07823",
      "6ad58cc153fa4b3c96b4c6b38eaa6bbd",
      "bcc21f6f3dc64581b110fa669e94e195",
      "1d49a2e92533451783f400390cafa731",
      "118fe450eef84d9380e3c2befefd73d4",
      "9368c4cc6bda48728f7bf3d5f0e971ac",
      "426542798ef6465db0c93090a21e06e4",
      "aa34ee62d6a944ad909481509ee40b16",
      "9eaf2f335b944f88a00fc5b6b0c2159a",
      "8cff0f5d9437432597caab4d08625992",
      "d89a56b17d0643289d5e3a61aba927d4",
      "98503aca3f114451a331e3004fafbe64",
      "f48946744f7748a4a654a3acf40515ef",
      "091cf17696374b64bed368cfc595fcec",
      "64d0a84de75f4cb39434a18da53fc787",
      "fc885f2fbf604fa0bdb5f7eea5b1f92a",
      "9cf47e73496a41d982761b7cbab00e9c"
     ]
    },
    "executionInfo": {
     "elapsed": 23884,
     "status": "ok",
     "timestamp": 1607710761384,
     "user": {
      "displayName": "Melanie Beck",
      "photoUrl": "https://lh3.googleusercontent.com/a-/AOh14GjLbnYa4ftLBgztDifL0LIFKY8SwjZMZ7xgytOx=s64",
      "userId": "09930974187097582546"
     },
     "user_tz": 360
    },
    "id": "ZfOypuZ8P13N",
    "outputId": "7257cecd-b6c6-4311-b6ce-02e395533b7d"
   },
   "outputs": [],
   "source": [
    "## Load SBERT embedding model\n",
    "model, tokenizer = load_transformer_model_and_tokenizer(\"deepset/sentence_bert\")"
   ]
  },
  {
   "cell_type": "code",
   "execution_count": 55,
   "metadata": {
    "id": "whk_cEkURYl8"
   },
   "outputs": [],
   "source": [
    "## Load W2V embedding model\n",
    "w2v_model = load_word_vector_model(small=True) #, cache_dir=\"data\""
   ]
  },
  {
   "cell_type": "markdown",
   "metadata": {
    "id": "hsZ_6B-Why7y"
   },
   "source": [
    "# Experiment: How many words should we use to create Zmap? \n",
    "\n",
    "For this experiment we'll use the W2V vocabulary, which includes millions of words. As we'll see, we won't need nearly this many to maximize the contribution of Zmap to our latext text classification task. "
   ]
  },
  {
   "cell_type": "markdown",
   "metadata": {
    "id": "Q2ZzscAYWQ4k"
   },
   "source": [
    "### Get SBERT and W2V embedding vectors for the topk words in the W2V vocabulary\n",
    "\n",
    "We'll use the most frequent words as computed over the corpus that was used to train the w2v embeddings. This was a very large corpus so the most frequent words should be those that are used ... well, frequently!  The assumption is that these common words will create an optimal mapping between SBERT space and W2V space.  "
   ]
  },
  {
   "cell_type": "code",
   "execution_count": 58,
   "metadata": {
    "id": "Re0vqdsDVrK7"
   },
   "outputs": [],
   "source": [
    "# NOTE: this cell computes SBERT embeddings for thousands of words which are then cached\n",
    "#       running this cell without a GPU can take several hours!\n",
    "\n",
    "# Get w2v embeddings and the vocabulary of most frequent words\n",
    "w2v_vectors, vocabulary = get_topk_w2v_vectors(w2v_model, k=100000, return_word_list=True)\n",
    "vocabulary_filename = fewshot_filename(\"my_data/w2v\", \"w2v_vocab_sbert_embeddings.pt\")\n",
    "\n",
    "try:\n",
    "    sbert_vectors = torch_load(vocabulary_filename)['embeddings']\n",
    "except:\n",
    "    # get sbert embeddings for each word in vocabulary\n",
    "    sbert_vectors = get_sentence_embeddings(vocabulary, \n",
    "                                            model, \n",
    "                                            tokenizer, \n",
    "                                            output_filename=vocabulary_filename)"
   ]
  },
  {
   "cell_type": "markdown",
   "metadata": {
    "id": "v4O5oWmFi_XR"
   },
   "source": [
    "We'll compute Z map with *up to* 100,000 words, starting with just 100 words and increasing in steps of 100 to 1000 until we cover the range up to 100,000. \n",
    "\n",
    "\n",
    "\n",
    "\n",
    "\n",
    "\n",
    "\n",
    "\n",
    "\n"
   ]
  },
  {
   "cell_type": "code",
   "execution_count": 59,
   "metadata": {
    "colab": {
     "base_uri": "https://localhost:8080/"
    },
    "executionInfo": {
     "elapsed": 848,
     "status": "ok",
     "timestamp": 1608058536224,
     "user": {
      "displayName": "Melanie Beck",
      "photoUrl": "https://lh3.googleusercontent.com/a-/AOh14GjLbnYa4ftLBgztDifL0LIFKY8SwjZMZ7xgytOx=s64",
      "userId": "09930974187097582546"
     },
     "user_tz": 360
    },
    "id": "1JJOpJT27Vtt",
    "outputId": "ff76f602-4f04-4129-a2c2-3af3dde3b834"
   },
   "outputs": [],
   "source": [
    "import numpy as np\n",
    "num_words = np.concatenate((np.arange(10**2, 10**3, 100), np.arange(10**3, 10**5+990, 1000)))"
   ]
  },
  {
   "cell_type": "markdown",
   "metadata": {
    "id": "9K34Gi1EkPES"
   },
   "source": [
    "We'll iterate over the `num_words`, selecting the same words from both the sbert_embeddings and w2v_embeddings. These embeddings will be used to compute Z map. The Z map matrix is then used to compute label predictions for a dataset. The resulting score is stored to an array so we can see how the score changes as a function of the number of words. "
   ]
  },
  {
   "cell_type": "code",
   "execution_count": 60,
   "metadata": {
    "executionInfo": {
     "elapsed": 807,
     "status": "ok",
     "timestamp": 1608058539331,
     "user": {
      "displayName": "Melanie Beck",
      "photoUrl": "https://lh3.googleusercontent.com/a-/AOh14GjLbnYa4ftLBgztDifL0LIFKY8SwjZMZ7xgytOx=s64",
      "userId": "09930974187097582546"
     },
     "user_tz": 360
    },
    "id": "lcpdQGN8V-dC"
   },
   "outputs": [],
   "source": [
    "def how_many_words(dataset, num_words):\n",
    "    num_categories = len(dataset.categories)\n",
    "    scores = []\n",
    "    for i in num_words:\n",
    "        # Use Ordinary Least Squares with l2 regularization to compute Zmap \n",
    "        # between the sbert embeddings and w2v embeddings for the first i words\n",
    "        Zmap = OLS_with_l2_regularization(sbert_vectors[:i], to_tensor(w2v_vectors[:i]))\n",
    "        \n",
    "        # Our model (Zmap) is then used as a projection before performing cosine similarity\n",
    "        # the predict_and_score function wraps this process\n",
    "        score = predict_and_score(dataset, [Zmap])\n",
    "        # save the score \n",
    "        scores.append(score)\n",
    "    return scores"
   ]
  },
  {
   "cell_type": "code",
   "execution_count": null,
   "metadata": {
    "id": "9IHULV9OmWdI"
   },
   "outputs": [],
   "source": [
    "news_scores = how_many_words(news_data, num_words)"
   ]
  },
  {
   "cell_type": "code",
   "execution_count": null,
   "metadata": {
    "id": "kVTaGeYorcEC"
   },
   "outputs": [],
   "source": [
    "reddit_scores = how_many_words(reddit_data, num_words)"
   ]
  },
  {
   "cell_type": "code",
   "execution_count": 61,
   "metadata": {
    "colab": {
     "base_uri": "https://localhost:8080/",
     "height": 513
    },
    "executionInfo": {
     "elapsed": 1260,
     "status": "ok",
     "timestamp": 1608058567183,
     "user": {
      "displayName": "Melanie Beck",
      "photoUrl": "https://lh3.googleusercontent.com/a-/AOh14GjLbnYa4ftLBgztDifL0LIFKY8SwjZMZ7xgytOx=s64",
      "userId": "09930974187097582546"
     },
     "user_tz": 360
    },
    "id": "qnfh1vItcX7_",
    "outputId": "bdc9566e-ec66-4ac8-d914-d8e1c40bb166"
   },
   "outputs": [
    {
     "data": {
      "image/png": "[encoded data removed]",
      "text/plain": [
       "<Figure size 648x504 with 1 Axes>"
      ]
     },
     "metadata": {
      "needs_background": "light"
     },
     "output_type": "display_data"
    }
   ],
   "source": [
    "# We've already run this for both agnews and reddit datasets and saved the resulting scores\n",
    "news_scores = pickle_load(fewshot_filename(\"my_data\", \"howmanywords_agnews_scores.pkl\"))\n",
    "reddit_scores = pickle_load(fewshot_filename(\"my_data\",\"howmanywords_redditcurated_scores.pkl\"))\n",
    "\n",
    "fig = plt.figure(figsize=(9,7))\n",
    "ax = fig.add_subplot()\n",
    "\n",
    "ax.plot(num_words, np.array(news_scores)/max(news_scores), lw=2, label='AG News');\n",
    "ax.plot(num_words, np.array(reddit_scores)/max(reddit_scores), lw=2, label='Reddit posts');\n",
    "\n",
    "ax.set_yticks([0.35, 1])\n",
    "ax.set_yticklabels([\"worst\", \"best\"])\n",
    "ax.tick_params(axis='both', labelsize=16)\n",
    "ax.set_xlabel(\"number of words used\", labelpad=20, fontsize=20)\n",
    "ax.set_ylabel(\"classification accuracy\", fontsize=20)\n",
    "ax.set_ylim(.32, 1.03)\n",
    "\n",
    "plt.legend(loc=\"right\", bbox_to_anchor=(1., 0.3),  frameon=False, fontsize=16);\n",
    "plt.tight_layout()\n",
    "plt.savefig(\"Zmaps_howmanywords.png\", dpi=150)"
   ]
  },
  {
   "cell_type": "markdown",
   "metadata": {},
   "source": [
    "As we discussed in detail in the accompanying report, we see that both datasets peak around 20,000 words. Using more words to compute Zmap actually results in worse performance. "
   ]
  },
  {
   "cell_type": "markdown",
   "metadata": {
    "id": "K11uA6OxaKq4"
   },
   "source": [
    "# Experiment: words from the W2V corpus vs words from your specific corpus?\n",
    "\n",
    "In the previous experiment we used the most frequent words as measured over the vast corpus that the w2v model was trained on, but that's not the only option. Perhaps it's better to use the most frequent words as measured over the dataset you're trying to classify! The intuition here is that words most common to your dataset might provide a better mapping between SBERT and w2v space. \n",
    "\n",
    "For this we'll need to set a baseline--in this case, classification performance without using any kind of Zmap. "
   ]
  },
  {
   "cell_type": "markdown",
   "metadata": {
    "id": "yzRAH6g5js0p"
   },
   "source": [
    "### Baseline: SBERT embeddings only\n",
    "A Zmap can enhance classification accuracy by providing better modeling of individual words making it easier to map sentences to their labels in the embedding space. However, we can use SBERT embeddings only and this will provide a solid baseline to compare for model improvement. "
   ]
  },
  {
   "cell_type": "code",
   "execution_count": 62,
   "metadata": {
    "colab": {
     "base_uri": "https://localhost:8080/"
    },
    "executionInfo": {
     "elapsed": 1419,
     "status": "ok",
     "timestamp": 1607712481579,
     "user": {
      "displayName": "Melanie Beck",
      "photoUrl": "https://lh3.googleusercontent.com/a-/AOh14GjLbnYa4ftLBgztDifL0LIFKY8SwjZMZ7xgytOx=s64",
      "userId": "09930974187097582546"
     },
     "user_tz": 360
    },
    "id": "uXFRfR_QaRCH",
    "outputId": "dbc4172b-0aab-46f6-a7e8-1908d322f0a0"
   },
   "outputs": [
    {
     "name": "stdout",
     "output_type": "stream",
     "text": [
      "51.0921052631579 89.67105263157895\n"
     ]
    }
   ],
   "source": [
    "baseline_news_acc, news_preds = predict_and_score(news_data, linear_maps=None, return_predictions=True)\n",
    "baseline_news_acc_top3 = simple_topk_accuracy(news_data.labels, news_preds)\n",
    "\n",
    "print(baseline_news_acc, baseline_news_acc_top3)"
   ]
  },
  {
   "cell_type": "code",
   "execution_count": 63,
   "metadata": {
    "colab": {
     "base_uri": "https://localhost:8080/"
    },
    "executionInfo": {
     "elapsed": 1760,
     "status": "ok",
     "timestamp": 1607712492150,
     "user": {
      "displayName": "Melanie Beck",
      "photoUrl": "https://lh3.googleusercontent.com/a-/AOh14GjLbnYa4ftLBgztDifL0LIFKY8SwjZMZ7xgytOx=s64",
      "userId": "09930974187097582546"
     },
     "user_tz": 360
    },
    "id": "Hl__tukPvsmy",
    "outputId": "63e2481e-4399-48d0-9939-7a3cfb07b8d8",
    "scrolled": true
   },
   "outputs": [
    {
     "name": "stderr",
     "output_type": "stream",
     "text": [
      "/Users/mbeck/Projects/few-shot-text-classification/fewshot/data/utils.py:81: UserWarning: Should run dataset.calc_sbert_embeddings() first.  In the future this will fail.\n",
      "  \"Should run dataset.calc_sbert_embeddings() first.  In the future this will fail.\"\n",
      "Computing sentence representations:   0%|          | 0/814 [00:04<?, ?it/s]\n"
     ]
    },
    {
     "ename": "KeyboardInterrupt",
     "evalue": "",
     "output_type": "error",
     "traceback": [
      "\u001b[0;31m---------------------------------------------------------------------------\u001b[0m",
      "\u001b[0;31mKeyboardInterrupt\u001b[0m                         Traceback (most recent call last)",
      "\u001b[0;32m<ipython-input-63-2a19702cad9a>\u001b[0m in \u001b[0;36m<module>\u001b[0;34m\u001b[0m\n\u001b[0;32m----> 1\u001b[0;31m \u001b[0mbaseline_reddit_acc\u001b[0m\u001b[0;34m,\u001b[0m \u001b[0mreddit_preds\u001b[0m \u001b[0;34m=\u001b[0m \u001b[0mpredict_and_score\u001b[0m\u001b[0;34m(\u001b[0m\u001b[0mreddit_data\u001b[0m\u001b[0;34m,\u001b[0m \u001b[0mlinear_maps\u001b[0m\u001b[0;34m=\u001b[0m\u001b[0;32mNone\u001b[0m\u001b[0;34m,\u001b[0m \u001b[0mreturn_predictions\u001b[0m\u001b[0;34m=\u001b[0m\u001b[0;32mTrue\u001b[0m\u001b[0;34m)\u001b[0m\u001b[0;34m\u001b[0m\u001b[0;34m\u001b[0m\u001b[0m\n\u001b[0m\u001b[1;32m      2\u001b[0m \u001b[0mbaseline_reddit_acc_top3\u001b[0m \u001b[0;34m=\u001b[0m \u001b[0msimple_topk_accuracy\u001b[0m\u001b[0;34m(\u001b[0m\u001b[0mreddit_data\u001b[0m\u001b[0;34m.\u001b[0m\u001b[0mlabels\u001b[0m\u001b[0;34m,\u001b[0m \u001b[0mreddit_preds\u001b[0m\u001b[0;34m)\u001b[0m\u001b[0;34m\u001b[0m\u001b[0;34m\u001b[0m\u001b[0m\n\u001b[1;32m      3\u001b[0m \u001b[0;34m\u001b[0m\u001b[0m\n\u001b[1;32m      4\u001b[0m \u001b[0mprint\u001b[0m\u001b[0;34m(\u001b[0m\u001b[0mbaseline_reddit_acc\u001b[0m\u001b[0;34m,\u001b[0m \u001b[0mbaseline_reddit_acc_top3\u001b[0m\u001b[0;34m)\u001b[0m\u001b[0;34m\u001b[0m\u001b[0;34m\u001b[0m\u001b[0m\n",
      "\u001b[0;32m~/Projects/few-shot-text-classification/fewshot/eval.py\u001b[0m in \u001b[0;36mpredict_and_score\u001b[0;34m(dataset, linear_maps, return_predictions)\u001b[0m\n\u001b[1;32m    260\u001b[0m \u001b[0;34m\u001b[0m\u001b[0m\n\u001b[1;32m    261\u001b[0m     example_features, label_features = _compute_linear_transformations(\n\u001b[0;32m--> 262\u001b[0;31m         \u001b[0mdataset\u001b[0m\u001b[0;34m,\u001b[0m \u001b[0mlinear_maps\u001b[0m\u001b[0;34m\u001b[0m\u001b[0;34m\u001b[0m\u001b[0m\n\u001b[0m\u001b[1;32m    263\u001b[0m     )\n\u001b[1;32m    264\u001b[0m \u001b[0;34m\u001b[0m\u001b[0m\n",
      "\u001b[0;32m~/Projects/few-shot-text-classification/fewshot/eval.py\u001b[0m in \u001b[0;36m_compute_linear_transformations\u001b[0;34m(dataset, linear_maps)\u001b[0m\n\u001b[1;32m    123\u001b[0m     \u001b[0;31m# We separate the example embeddings from the label embeddings for clarity\u001b[0m\u001b[0;34m\u001b[0m\u001b[0;34m\u001b[0m\u001b[0;34m\u001b[0m\u001b[0m\n\u001b[1;32m    124\u001b[0m     \u001b[0mnum_categories\u001b[0m \u001b[0;34m=\u001b[0m \u001b[0mlen\u001b[0m\u001b[0;34m(\u001b[0m\u001b[0mdataset\u001b[0m\u001b[0;34m.\u001b[0m\u001b[0mcategories\u001b[0m\u001b[0;34m)\u001b[0m\u001b[0;34m\u001b[0m\u001b[0;34m\u001b[0m\u001b[0m\n\u001b[0;32m--> 125\u001b[0;31m     \u001b[0mX\u001b[0m \u001b[0;34m=\u001b[0m \u001b[0mdataset\u001b[0m\u001b[0;34m.\u001b[0m\u001b[0membeddings\u001b[0m\u001b[0;34m[\u001b[0m\u001b[0;34m:\u001b[0m\u001b[0;34m-\u001b[0m\u001b[0mnum_categories\u001b[0m\u001b[0;34m]\u001b[0m\u001b[0;34m\u001b[0m\u001b[0;34m\u001b[0m\u001b[0m\n\u001b[0m\u001b[1;32m    126\u001b[0m     \u001b[0mY\u001b[0m \u001b[0;34m=\u001b[0m \u001b[0mdataset\u001b[0m\u001b[0;34m.\u001b[0m\u001b[0membeddings\u001b[0m\u001b[0;34m[\u001b[0m\u001b[0;34m-\u001b[0m\u001b[0mnum_categories\u001b[0m\u001b[0;34m:\u001b[0m\u001b[0;34m]\u001b[0m\u001b[0;34m\u001b[0m\u001b[0;34m\u001b[0m\u001b[0m\n\u001b[1;32m    127\u001b[0m \u001b[0;34m\u001b[0m\u001b[0m\n",
      "\u001b[0;32m~/Projects/few-shot-text-classification/fewshot/data/utils.py\u001b[0m in \u001b[0;36membeddings\u001b[0;34m(self)\u001b[0m\n\u001b[1;32m     81\u001b[0m                 \u001b[0;34m\"Should run dataset.calc_sbert_embeddings() first.  In the future this will fail.\"\u001b[0m\u001b[0;34m\u001b[0m\u001b[0;34m\u001b[0m\u001b[0m\n\u001b[1;32m     82\u001b[0m             )\n\u001b[0;32m---> 83\u001b[0;31m             \u001b[0mself\u001b[0m\u001b[0;34m.\u001b[0m\u001b[0mcalc_sbert_embeddings\u001b[0m\u001b[0;34m(\u001b[0m\u001b[0;34m)\u001b[0m\u001b[0;34m\u001b[0m\u001b[0;34m\u001b[0m\u001b[0m\n\u001b[0m\u001b[1;32m     84\u001b[0m             \u001b[0;31m# raise Exception(\"Run dataset.calc_sbert_embeddings() first.\")\u001b[0m\u001b[0;34m\u001b[0m\u001b[0;34m\u001b[0m\u001b[0;34m\u001b[0m\u001b[0m\n\u001b[1;32m     85\u001b[0m         \u001b[0;32mreturn\u001b[0m \u001b[0mself\u001b[0m\u001b[0;34m.\u001b[0m\u001b[0m_embeddings\u001b[0m\u001b[0;34m\u001b[0m\u001b[0;34m\u001b[0m\u001b[0m\n",
      "\u001b[0;32m~/Projects/few-shot-text-classification/fewshot/data/utils.py\u001b[0m in \u001b[0;36mcalc_sbert_embeddings\u001b[0;34m(self)\u001b[0m\n\u001b[1;32m     72\u001b[0m         \u001b[0mmodel\u001b[0m\u001b[0;34m,\u001b[0m \u001b[0mtokenizer\u001b[0m \u001b[0;34m=\u001b[0m \u001b[0mload_transformer_model_and_tokenizer\u001b[0m\u001b[0;34m(\u001b[0m\u001b[0;34m)\u001b[0m\u001b[0;34m\u001b[0m\u001b[0;34m\u001b[0m\u001b[0m\n\u001b[1;32m     73\u001b[0m         self._embeddings = get_sentence_embeddings(\n\u001b[0;32m---> 74\u001b[0;31m             \u001b[0mself\u001b[0m\u001b[0;34m.\u001b[0m\u001b[0mexamples\u001b[0m \u001b[0;34m+\u001b[0m \u001b[0mself\u001b[0m\u001b[0;34m.\u001b[0m\u001b[0mcategories\u001b[0m\u001b[0;34m,\u001b[0m \u001b[0mmodel\u001b[0m\u001b[0;34m,\u001b[0m \u001b[0mtokenizer\u001b[0m\u001b[0;34m\u001b[0m\u001b[0;34m\u001b[0m\u001b[0m\n\u001b[0m\u001b[1;32m     75\u001b[0m         )\n\u001b[1;32m     76\u001b[0m \u001b[0;34m\u001b[0m\u001b[0m\n",
      "\u001b[0;32m~/Projects/few-shot-text-classification/fewshot/embeddings/sentence_embeddings.py\u001b[0m in \u001b[0;36mget_sentence_embeddings\u001b[0;34m(data, model, tokenizer, output_filename, **kwargs)\u001b[0m\n\u001b[1;32m    111\u001b[0m     \u001b[0mfeatures\u001b[0m \u001b[0;34m=\u001b[0m \u001b[0mbatch_tokenize\u001b[0m\u001b[0;34m(\u001b[0m\u001b[0mdata\u001b[0m\u001b[0;34m,\u001b[0m \u001b[0mtokenizer\u001b[0m\u001b[0;34m,\u001b[0m \u001b[0;34m**\u001b[0m\u001b[0mkwargs\u001b[0m\u001b[0;34m)\u001b[0m\u001b[0;34m\u001b[0m\u001b[0;34m\u001b[0m\u001b[0m\n\u001b[1;32m    112\u001b[0m     \u001b[0mdataset\u001b[0m \u001b[0;34m=\u001b[0m \u001b[0mprepare_dataset\u001b[0m\u001b[0;34m(\u001b[0m\u001b[0mfeatures\u001b[0m\u001b[0;34m)\u001b[0m\u001b[0;34m\u001b[0m\u001b[0;34m\u001b[0m\u001b[0m\n\u001b[0;32m--> 113\u001b[0;31m     \u001b[0membeddings\u001b[0m \u001b[0;34m=\u001b[0m \u001b[0mcompute_embeddings\u001b[0m\u001b[0;34m(\u001b[0m\u001b[0mdataset\u001b[0m\u001b[0;34m,\u001b[0m \u001b[0mmodel\u001b[0m\u001b[0;34m,\u001b[0m \u001b[0;34m**\u001b[0m\u001b[0mkwargs\u001b[0m\u001b[0;34m)\u001b[0m\u001b[0;34m\u001b[0m\u001b[0;34m\u001b[0m\u001b[0m\n\u001b[0m\u001b[1;32m    114\u001b[0m \u001b[0;34m\u001b[0m\u001b[0m\n\u001b[1;32m    115\u001b[0m     \u001b[0;32mif\u001b[0m \u001b[0moutput_filename\u001b[0m\u001b[0;34m:\u001b[0m\u001b[0;34m\u001b[0m\u001b[0;34m\u001b[0m\u001b[0m\n",
      "\u001b[0;32m~/Projects/few-shot-text-classification/fewshot/embeddings/sentence_embeddings.py\u001b[0m in \u001b[0;36mcompute_embeddings\u001b[0;34m(dataset, model, batch_size, **kwargs)\u001b[0m\n\u001b[1;32m     89\u001b[0m                 \u001b[0;34m\"attention_mask\"\u001b[0m\u001b[0;34m:\u001b[0m \u001b[0mbatch\u001b[0m\u001b[0;34m[\u001b[0m\u001b[0;36m1\u001b[0m\u001b[0;34m]\u001b[0m\u001b[0;34m,\u001b[0m\u001b[0;34m\u001b[0m\u001b[0;34m\u001b[0m\u001b[0m\n\u001b[1;32m     90\u001b[0m             }\n\u001b[0;32m---> 91\u001b[0;31m             \u001b[0moutputs\u001b[0m \u001b[0;34m=\u001b[0m \u001b[0mmodel\u001b[0m\u001b[0;34m(\u001b[0m\u001b[0;34m**\u001b[0m\u001b[0minputs\u001b[0m\u001b[0;34m)\u001b[0m\u001b[0;34m[\u001b[0m\u001b[0;36m0\u001b[0m\u001b[0;34m]\u001b[0m\u001b[0;34m\u001b[0m\u001b[0;34m\u001b[0m\u001b[0m\n\u001b[0m\u001b[1;32m     92\u001b[0m             \u001b[0membeddings\u001b[0m \u001b[0;34m=\u001b[0m \u001b[0moutputs\u001b[0m\u001b[0;34m.\u001b[0m\u001b[0mmean\u001b[0m\u001b[0;34m(\u001b[0m\u001b[0mdim\u001b[0m\u001b[0;34m=\u001b[0m\u001b[0;36m1\u001b[0m\u001b[0;34m)\u001b[0m\u001b[0;34m.\u001b[0m\u001b[0mdetach\u001b[0m\u001b[0;34m(\u001b[0m\u001b[0;34m)\u001b[0m\u001b[0;34m.\u001b[0m\u001b[0mcpu\u001b[0m\u001b[0;34m(\u001b[0m\u001b[0;34m)\u001b[0m\u001b[0;34m\u001b[0m\u001b[0;34m\u001b[0m\u001b[0m\n\u001b[1;32m     93\u001b[0m \u001b[0;34m\u001b[0m\u001b[0m\n",
      "\u001b[0;32m/opt/anaconda3/envs/few-shot/lib/python3.7/site-packages/torch/nn/modules/module.py\u001b[0m in \u001b[0;36m_call_impl\u001b[0;34m(self, *input, **kwargs)\u001b[0m\n\u001b[1;32m    720\u001b[0m             \u001b[0mresult\u001b[0m \u001b[0;34m=\u001b[0m \u001b[0mself\u001b[0m\u001b[0;34m.\u001b[0m\u001b[0m_slow_forward\u001b[0m\u001b[0;34m(\u001b[0m\u001b[0;34m*\u001b[0m\u001b[0minput\u001b[0m\u001b[0;34m,\u001b[0m \u001b[0;34m**\u001b[0m\u001b[0mkwargs\u001b[0m\u001b[0;34m)\u001b[0m\u001b[0;34m\u001b[0m\u001b[0;34m\u001b[0m\u001b[0m\n\u001b[1;32m    721\u001b[0m         \u001b[0;32melse\u001b[0m\u001b[0;34m:\u001b[0m\u001b[0;34m\u001b[0m\u001b[0;34m\u001b[0m\u001b[0m\n\u001b[0;32m--> 722\u001b[0;31m             \u001b[0mresult\u001b[0m \u001b[0;34m=\u001b[0m \u001b[0mself\u001b[0m\u001b[0;34m.\u001b[0m\u001b[0mforward\u001b[0m\u001b[0;34m(\u001b[0m\u001b[0;34m*\u001b[0m\u001b[0minput\u001b[0m\u001b[0;34m,\u001b[0m \u001b[0;34m**\u001b[0m\u001b[0mkwargs\u001b[0m\u001b[0;34m)\u001b[0m\u001b[0;34m\u001b[0m\u001b[0;34m\u001b[0m\u001b[0m\n\u001b[0m\u001b[1;32m    723\u001b[0m         for hook in itertools.chain(\n\u001b[1;32m    724\u001b[0m                 \u001b[0m_global_forward_hooks\u001b[0m\u001b[0;34m.\u001b[0m\u001b[0mvalues\u001b[0m\u001b[0;34m(\u001b[0m\u001b[0;34m)\u001b[0m\u001b[0;34m,\u001b[0m\u001b[0;34m\u001b[0m\u001b[0;34m\u001b[0m\u001b[0m\n",
      "\u001b[0;32m/opt/anaconda3/envs/few-shot/lib/python3.7/site-packages/transformers/modeling_bert.py\u001b[0m in \u001b[0;36mforward\u001b[0;34m(self, input_ids, attention_mask, token_type_ids, position_ids, head_mask, inputs_embeds, encoder_hidden_states, encoder_attention_mask, output_attentions, output_hidden_states, return_dict)\u001b[0m\n\u001b[1;32m    839\u001b[0m             \u001b[0moutput_attentions\u001b[0m\u001b[0;34m=\u001b[0m\u001b[0moutput_attentions\u001b[0m\u001b[0;34m,\u001b[0m\u001b[0;34m\u001b[0m\u001b[0;34m\u001b[0m\u001b[0m\n\u001b[1;32m    840\u001b[0m             \u001b[0moutput_hidden_states\u001b[0m\u001b[0;34m=\u001b[0m\u001b[0moutput_hidden_states\u001b[0m\u001b[0;34m,\u001b[0m\u001b[0;34m\u001b[0m\u001b[0;34m\u001b[0m\u001b[0m\n\u001b[0;32m--> 841\u001b[0;31m             \u001b[0mreturn_dict\u001b[0m\u001b[0;34m=\u001b[0m\u001b[0mreturn_dict\u001b[0m\u001b[0;34m,\u001b[0m\u001b[0;34m\u001b[0m\u001b[0;34m\u001b[0m\u001b[0m\n\u001b[0m\u001b[1;32m    842\u001b[0m         )\n\u001b[1;32m    843\u001b[0m         \u001b[0msequence_output\u001b[0m \u001b[0;34m=\u001b[0m \u001b[0mencoder_outputs\u001b[0m\u001b[0;34m[\u001b[0m\u001b[0;36m0\u001b[0m\u001b[0;34m]\u001b[0m\u001b[0;34m\u001b[0m\u001b[0;34m\u001b[0m\u001b[0m\n",
      "\u001b[0;32m/opt/anaconda3/envs/few-shot/lib/python3.7/site-packages/torch/nn/modules/module.py\u001b[0m in \u001b[0;36m_call_impl\u001b[0;34m(self, *input, **kwargs)\u001b[0m\n\u001b[1;32m    720\u001b[0m             \u001b[0mresult\u001b[0m \u001b[0;34m=\u001b[0m \u001b[0mself\u001b[0m\u001b[0;34m.\u001b[0m\u001b[0m_slow_forward\u001b[0m\u001b[0;34m(\u001b[0m\u001b[0;34m*\u001b[0m\u001b[0minput\u001b[0m\u001b[0;34m,\u001b[0m \u001b[0;34m**\u001b[0m\u001b[0mkwargs\u001b[0m\u001b[0;34m)\u001b[0m\u001b[0;34m\u001b[0m\u001b[0;34m\u001b[0m\u001b[0m\n\u001b[1;32m    721\u001b[0m         \u001b[0;32melse\u001b[0m\u001b[0;34m:\u001b[0m\u001b[0;34m\u001b[0m\u001b[0;34m\u001b[0m\u001b[0m\n\u001b[0;32m--> 722\u001b[0;31m             \u001b[0mresult\u001b[0m \u001b[0;34m=\u001b[0m \u001b[0mself\u001b[0m\u001b[0;34m.\u001b[0m\u001b[0mforward\u001b[0m\u001b[0;34m(\u001b[0m\u001b[0;34m*\u001b[0m\u001b[0minput\u001b[0m\u001b[0;34m,\u001b[0m \u001b[0;34m**\u001b[0m\u001b[0mkwargs\u001b[0m\u001b[0;34m)\u001b[0m\u001b[0;34m\u001b[0m\u001b[0;34m\u001b[0m\u001b[0m\n\u001b[0m\u001b[1;32m    723\u001b[0m         for hook in itertools.chain(\n\u001b[1;32m    724\u001b[0m                 \u001b[0m_global_forward_hooks\u001b[0m\u001b[0;34m.\u001b[0m\u001b[0mvalues\u001b[0m\u001b[0;34m(\u001b[0m\u001b[0;34m)\u001b[0m\u001b[0;34m,\u001b[0m\u001b[0;34m\u001b[0m\u001b[0;34m\u001b[0m\u001b[0m\n",
      "\u001b[0;32m/opt/anaconda3/envs/few-shot/lib/python3.7/site-packages/transformers/modeling_bert.py\u001b[0m in \u001b[0;36mforward\u001b[0;34m(self, hidden_states, attention_mask, head_mask, encoder_hidden_states, encoder_attention_mask, output_attentions, output_hidden_states, return_dict)\u001b[0m\n\u001b[1;32m    480\u001b[0m                     \u001b[0mencoder_hidden_states\u001b[0m\u001b[0;34m,\u001b[0m\u001b[0;34m\u001b[0m\u001b[0;34m\u001b[0m\u001b[0m\n\u001b[1;32m    481\u001b[0m                     \u001b[0mencoder_attention_mask\u001b[0m\u001b[0;34m,\u001b[0m\u001b[0;34m\u001b[0m\u001b[0;34m\u001b[0m\u001b[0m\n\u001b[0;32m--> 482\u001b[0;31m                     \u001b[0moutput_attentions\u001b[0m\u001b[0;34m,\u001b[0m\u001b[0;34m\u001b[0m\u001b[0;34m\u001b[0m\u001b[0m\n\u001b[0m\u001b[1;32m    483\u001b[0m                 )\n\u001b[1;32m    484\u001b[0m             \u001b[0mhidden_states\u001b[0m \u001b[0;34m=\u001b[0m \u001b[0mlayer_outputs\u001b[0m\u001b[0;34m[\u001b[0m\u001b[0;36m0\u001b[0m\u001b[0;34m]\u001b[0m\u001b[0;34m\u001b[0m\u001b[0;34m\u001b[0m\u001b[0m\n",
      "\u001b[0;32m/opt/anaconda3/envs/few-shot/lib/python3.7/site-packages/torch/nn/modules/module.py\u001b[0m in \u001b[0;36m_call_impl\u001b[0;34m(self, *input, **kwargs)\u001b[0m\n\u001b[1;32m    720\u001b[0m             \u001b[0mresult\u001b[0m \u001b[0;34m=\u001b[0m \u001b[0mself\u001b[0m\u001b[0;34m.\u001b[0m\u001b[0m_slow_forward\u001b[0m\u001b[0;34m(\u001b[0m\u001b[0;34m*\u001b[0m\u001b[0minput\u001b[0m\u001b[0;34m,\u001b[0m \u001b[0;34m**\u001b[0m\u001b[0mkwargs\u001b[0m\u001b[0;34m)\u001b[0m\u001b[0;34m\u001b[0m\u001b[0;34m\u001b[0m\u001b[0m\n\u001b[1;32m    721\u001b[0m         \u001b[0;32melse\u001b[0m\u001b[0;34m:\u001b[0m\u001b[0;34m\u001b[0m\u001b[0;34m\u001b[0m\u001b[0m\n\u001b[0;32m--> 722\u001b[0;31m             \u001b[0mresult\u001b[0m \u001b[0;34m=\u001b[0m \u001b[0mself\u001b[0m\u001b[0;34m.\u001b[0m\u001b[0mforward\u001b[0m\u001b[0;34m(\u001b[0m\u001b[0;34m*\u001b[0m\u001b[0minput\u001b[0m\u001b[0;34m,\u001b[0m \u001b[0;34m**\u001b[0m\u001b[0mkwargs\u001b[0m\u001b[0;34m)\u001b[0m\u001b[0;34m\u001b[0m\u001b[0;34m\u001b[0m\u001b[0m\n\u001b[0m\u001b[1;32m    723\u001b[0m         for hook in itertools.chain(\n\u001b[1;32m    724\u001b[0m                 \u001b[0m_global_forward_hooks\u001b[0m\u001b[0;34m.\u001b[0m\u001b[0mvalues\u001b[0m\u001b[0;34m(\u001b[0m\u001b[0;34m)\u001b[0m\u001b[0;34m,\u001b[0m\u001b[0;34m\u001b[0m\u001b[0;34m\u001b[0m\u001b[0m\n",
      "\u001b[0;32m/opt/anaconda3/envs/few-shot/lib/python3.7/site-packages/transformers/modeling_bert.py\u001b[0m in \u001b[0;36mforward\u001b[0;34m(self, hidden_states, attention_mask, head_mask, encoder_hidden_states, encoder_attention_mask, output_attentions)\u001b[0m\n\u001b[1;32m    400\u001b[0m             \u001b[0mattention_mask\u001b[0m\u001b[0;34m,\u001b[0m\u001b[0;34m\u001b[0m\u001b[0;34m\u001b[0m\u001b[0m\n\u001b[1;32m    401\u001b[0m             \u001b[0mhead_mask\u001b[0m\u001b[0;34m,\u001b[0m\u001b[0;34m\u001b[0m\u001b[0;34m\u001b[0m\u001b[0m\n\u001b[0;32m--> 402\u001b[0;31m             \u001b[0moutput_attentions\u001b[0m\u001b[0;34m=\u001b[0m\u001b[0moutput_attentions\u001b[0m\u001b[0;34m,\u001b[0m\u001b[0;34m\u001b[0m\u001b[0;34m\u001b[0m\u001b[0m\n\u001b[0m\u001b[1;32m    403\u001b[0m         )\n\u001b[1;32m    404\u001b[0m         \u001b[0mattention_output\u001b[0m \u001b[0;34m=\u001b[0m \u001b[0mself_attention_outputs\u001b[0m\u001b[0;34m[\u001b[0m\u001b[0;36m0\u001b[0m\u001b[0;34m]\u001b[0m\u001b[0;34m\u001b[0m\u001b[0;34m\u001b[0m\u001b[0m\n",
      "\u001b[0;32m/opt/anaconda3/envs/few-shot/lib/python3.7/site-packages/torch/nn/modules/module.py\u001b[0m in \u001b[0;36m_call_impl\u001b[0;34m(self, *input, **kwargs)\u001b[0m\n\u001b[1;32m    720\u001b[0m             \u001b[0mresult\u001b[0m \u001b[0;34m=\u001b[0m \u001b[0mself\u001b[0m\u001b[0;34m.\u001b[0m\u001b[0m_slow_forward\u001b[0m\u001b[0;34m(\u001b[0m\u001b[0;34m*\u001b[0m\u001b[0minput\u001b[0m\u001b[0;34m,\u001b[0m \u001b[0;34m**\u001b[0m\u001b[0mkwargs\u001b[0m\u001b[0;34m)\u001b[0m\u001b[0;34m\u001b[0m\u001b[0;34m\u001b[0m\u001b[0m\n\u001b[1;32m    721\u001b[0m         \u001b[0;32melse\u001b[0m\u001b[0;34m:\u001b[0m\u001b[0;34m\u001b[0m\u001b[0;34m\u001b[0m\u001b[0m\n\u001b[0;32m--> 722\u001b[0;31m             \u001b[0mresult\u001b[0m \u001b[0;34m=\u001b[0m \u001b[0mself\u001b[0m\u001b[0;34m.\u001b[0m\u001b[0mforward\u001b[0m\u001b[0;34m(\u001b[0m\u001b[0;34m*\u001b[0m\u001b[0minput\u001b[0m\u001b[0;34m,\u001b[0m \u001b[0;34m**\u001b[0m\u001b[0mkwargs\u001b[0m\u001b[0;34m)\u001b[0m\u001b[0;34m\u001b[0m\u001b[0;34m\u001b[0m\u001b[0m\n\u001b[0m\u001b[1;32m    723\u001b[0m         for hook in itertools.chain(\n\u001b[1;32m    724\u001b[0m                 \u001b[0m_global_forward_hooks\u001b[0m\u001b[0;34m.\u001b[0m\u001b[0mvalues\u001b[0m\u001b[0;34m(\u001b[0m\u001b[0;34m)\u001b[0m\u001b[0;34m,\u001b[0m\u001b[0;34m\u001b[0m\u001b[0;34m\u001b[0m\u001b[0m\n",
      "\u001b[0;32m/opt/anaconda3/envs/few-shot/lib/python3.7/site-packages/transformers/modeling_bert.py\u001b[0m in \u001b[0;36mforward\u001b[0;34m(self, hidden_states, attention_mask, head_mask, encoder_hidden_states, encoder_attention_mask, output_attentions)\u001b[0m\n\u001b[1;32m    339\u001b[0m             \u001b[0moutput_attentions\u001b[0m\u001b[0;34m,\u001b[0m\u001b[0;34m\u001b[0m\u001b[0;34m\u001b[0m\u001b[0m\n\u001b[1;32m    340\u001b[0m         )\n\u001b[0;32m--> 341\u001b[0;31m         \u001b[0mattention_output\u001b[0m \u001b[0;34m=\u001b[0m \u001b[0mself\u001b[0m\u001b[0;34m.\u001b[0m\u001b[0moutput\u001b[0m\u001b[0;34m(\u001b[0m\u001b[0mself_outputs\u001b[0m\u001b[0;34m[\u001b[0m\u001b[0;36m0\u001b[0m\u001b[0;34m]\u001b[0m\u001b[0;34m,\u001b[0m \u001b[0mhidden_states\u001b[0m\u001b[0;34m)\u001b[0m\u001b[0;34m\u001b[0m\u001b[0;34m\u001b[0m\u001b[0m\n\u001b[0m\u001b[1;32m    342\u001b[0m         \u001b[0moutputs\u001b[0m \u001b[0;34m=\u001b[0m \u001b[0;34m(\u001b[0m\u001b[0mattention_output\u001b[0m\u001b[0;34m,\u001b[0m\u001b[0;34m)\u001b[0m \u001b[0;34m+\u001b[0m \u001b[0mself_outputs\u001b[0m\u001b[0;34m[\u001b[0m\u001b[0;36m1\u001b[0m\u001b[0;34m:\u001b[0m\u001b[0;34m]\u001b[0m  \u001b[0;31m# add attentions if we output them\u001b[0m\u001b[0;34m\u001b[0m\u001b[0;34m\u001b[0m\u001b[0m\n\u001b[1;32m    343\u001b[0m         \u001b[0;32mreturn\u001b[0m \u001b[0moutputs\u001b[0m\u001b[0;34m\u001b[0m\u001b[0;34m\u001b[0m\u001b[0m\n",
      "\u001b[0;32m/opt/anaconda3/envs/few-shot/lib/python3.7/site-packages/torch/nn/modules/module.py\u001b[0m in \u001b[0;36m_call_impl\u001b[0;34m(self, *input, **kwargs)\u001b[0m\n\u001b[1;32m    720\u001b[0m             \u001b[0mresult\u001b[0m \u001b[0;34m=\u001b[0m \u001b[0mself\u001b[0m\u001b[0;34m.\u001b[0m\u001b[0m_slow_forward\u001b[0m\u001b[0;34m(\u001b[0m\u001b[0;34m*\u001b[0m\u001b[0minput\u001b[0m\u001b[0;34m,\u001b[0m \u001b[0;34m**\u001b[0m\u001b[0mkwargs\u001b[0m\u001b[0;34m)\u001b[0m\u001b[0;34m\u001b[0m\u001b[0;34m\u001b[0m\u001b[0m\n\u001b[1;32m    721\u001b[0m         \u001b[0;32melse\u001b[0m\u001b[0;34m:\u001b[0m\u001b[0;34m\u001b[0m\u001b[0;34m\u001b[0m\u001b[0m\n\u001b[0;32m--> 722\u001b[0;31m             \u001b[0mresult\u001b[0m \u001b[0;34m=\u001b[0m \u001b[0mself\u001b[0m\u001b[0;34m.\u001b[0m\u001b[0mforward\u001b[0m\u001b[0;34m(\u001b[0m\u001b[0;34m*\u001b[0m\u001b[0minput\u001b[0m\u001b[0;34m,\u001b[0m \u001b[0;34m**\u001b[0m\u001b[0mkwargs\u001b[0m\u001b[0;34m)\u001b[0m\u001b[0;34m\u001b[0m\u001b[0;34m\u001b[0m\u001b[0m\n\u001b[0m\u001b[1;32m    723\u001b[0m         for hook in itertools.chain(\n\u001b[1;32m    724\u001b[0m                 \u001b[0m_global_forward_hooks\u001b[0m\u001b[0;34m.\u001b[0m\u001b[0mvalues\u001b[0m\u001b[0;34m(\u001b[0m\u001b[0;34m)\u001b[0m\u001b[0;34m,\u001b[0m\u001b[0;34m\u001b[0m\u001b[0;34m\u001b[0m\u001b[0m\n",
      "\u001b[0;32m/opt/anaconda3/envs/few-shot/lib/python3.7/site-packages/transformers/modeling_bert.py\u001b[0m in \u001b[0;36mforward\u001b[0;34m(self, hidden_states, input_tensor)\u001b[0m\n\u001b[1;32m    291\u001b[0m \u001b[0;34m\u001b[0m\u001b[0m\n\u001b[1;32m    292\u001b[0m     \u001b[0;32mdef\u001b[0m \u001b[0mforward\u001b[0m\u001b[0;34m(\u001b[0m\u001b[0mself\u001b[0m\u001b[0;34m,\u001b[0m \u001b[0mhidden_states\u001b[0m\u001b[0;34m,\u001b[0m \u001b[0minput_tensor\u001b[0m\u001b[0;34m)\u001b[0m\u001b[0;34m:\u001b[0m\u001b[0;34m\u001b[0m\u001b[0;34m\u001b[0m\u001b[0m\n\u001b[0;32m--> 293\u001b[0;31m         \u001b[0mhidden_states\u001b[0m \u001b[0;34m=\u001b[0m \u001b[0mself\u001b[0m\u001b[0;34m.\u001b[0m\u001b[0mdense\u001b[0m\u001b[0;34m(\u001b[0m\u001b[0mhidden_states\u001b[0m\u001b[0;34m)\u001b[0m\u001b[0;34m\u001b[0m\u001b[0;34m\u001b[0m\u001b[0m\n\u001b[0m\u001b[1;32m    294\u001b[0m         \u001b[0mhidden_states\u001b[0m \u001b[0;34m=\u001b[0m \u001b[0mself\u001b[0m\u001b[0;34m.\u001b[0m\u001b[0mdropout\u001b[0m\u001b[0;34m(\u001b[0m\u001b[0mhidden_states\u001b[0m\u001b[0;34m)\u001b[0m\u001b[0;34m\u001b[0m\u001b[0;34m\u001b[0m\u001b[0m\n\u001b[1;32m    295\u001b[0m         \u001b[0mhidden_states\u001b[0m \u001b[0;34m=\u001b[0m \u001b[0mself\u001b[0m\u001b[0;34m.\u001b[0m\u001b[0mLayerNorm\u001b[0m\u001b[0;34m(\u001b[0m\u001b[0mhidden_states\u001b[0m \u001b[0;34m+\u001b[0m \u001b[0minput_tensor\u001b[0m\u001b[0;34m)\u001b[0m\u001b[0;34m\u001b[0m\u001b[0;34m\u001b[0m\u001b[0m\n",
      "\u001b[0;32m/opt/anaconda3/envs/few-shot/lib/python3.7/site-packages/torch/nn/modules/module.py\u001b[0m in \u001b[0;36m_call_impl\u001b[0;34m(self, *input, **kwargs)\u001b[0m\n\u001b[1;32m    720\u001b[0m             \u001b[0mresult\u001b[0m \u001b[0;34m=\u001b[0m \u001b[0mself\u001b[0m\u001b[0;34m.\u001b[0m\u001b[0m_slow_forward\u001b[0m\u001b[0;34m(\u001b[0m\u001b[0;34m*\u001b[0m\u001b[0minput\u001b[0m\u001b[0;34m,\u001b[0m \u001b[0;34m**\u001b[0m\u001b[0mkwargs\u001b[0m\u001b[0;34m)\u001b[0m\u001b[0;34m\u001b[0m\u001b[0;34m\u001b[0m\u001b[0m\n\u001b[1;32m    721\u001b[0m         \u001b[0;32melse\u001b[0m\u001b[0;34m:\u001b[0m\u001b[0;34m\u001b[0m\u001b[0;34m\u001b[0m\u001b[0m\n\u001b[0;32m--> 722\u001b[0;31m             \u001b[0mresult\u001b[0m \u001b[0;34m=\u001b[0m \u001b[0mself\u001b[0m\u001b[0;34m.\u001b[0m\u001b[0mforward\u001b[0m\u001b[0;34m(\u001b[0m\u001b[0;34m*\u001b[0m\u001b[0minput\u001b[0m\u001b[0;34m,\u001b[0m \u001b[0;34m**\u001b[0m\u001b[0mkwargs\u001b[0m\u001b[0;34m)\u001b[0m\u001b[0;34m\u001b[0m\u001b[0;34m\u001b[0m\u001b[0m\n\u001b[0m\u001b[1;32m    723\u001b[0m         for hook in itertools.chain(\n\u001b[1;32m    724\u001b[0m                 \u001b[0m_global_forward_hooks\u001b[0m\u001b[0;34m.\u001b[0m\u001b[0mvalues\u001b[0m\u001b[0;34m(\u001b[0m\u001b[0;34m)\u001b[0m\u001b[0;34m,\u001b[0m\u001b[0;34m\u001b[0m\u001b[0;34m\u001b[0m\u001b[0m\n",
      "\u001b[0;32m/opt/anaconda3/envs/few-shot/lib/python3.7/site-packages/torch/nn/modules/linear.py\u001b[0m in \u001b[0;36mforward\u001b[0;34m(self, input)\u001b[0m\n\u001b[1;32m     89\u001b[0m \u001b[0;34m\u001b[0m\u001b[0m\n\u001b[1;32m     90\u001b[0m     \u001b[0;32mdef\u001b[0m \u001b[0mforward\u001b[0m\u001b[0;34m(\u001b[0m\u001b[0mself\u001b[0m\u001b[0;34m,\u001b[0m \u001b[0minput\u001b[0m\u001b[0;34m:\u001b[0m \u001b[0mTensor\u001b[0m\u001b[0;34m)\u001b[0m \u001b[0;34m->\u001b[0m \u001b[0mTensor\u001b[0m\u001b[0;34m:\u001b[0m\u001b[0;34m\u001b[0m\u001b[0;34m\u001b[0m\u001b[0m\n\u001b[0;32m---> 91\u001b[0;31m         \u001b[0;32mreturn\u001b[0m \u001b[0mF\u001b[0m\u001b[0;34m.\u001b[0m\u001b[0mlinear\u001b[0m\u001b[0;34m(\u001b[0m\u001b[0minput\u001b[0m\u001b[0;34m,\u001b[0m \u001b[0mself\u001b[0m\u001b[0;34m.\u001b[0m\u001b[0mweight\u001b[0m\u001b[0;34m,\u001b[0m \u001b[0mself\u001b[0m\u001b[0;34m.\u001b[0m\u001b[0mbias\u001b[0m\u001b[0;34m)\u001b[0m\u001b[0;34m\u001b[0m\u001b[0;34m\u001b[0m\u001b[0m\n\u001b[0m\u001b[1;32m     92\u001b[0m \u001b[0;34m\u001b[0m\u001b[0m\n\u001b[1;32m     93\u001b[0m     \u001b[0;32mdef\u001b[0m \u001b[0mextra_repr\u001b[0m\u001b[0;34m(\u001b[0m\u001b[0mself\u001b[0m\u001b[0;34m)\u001b[0m \u001b[0;34m->\u001b[0m \u001b[0mstr\u001b[0m\u001b[0;34m:\u001b[0m\u001b[0;34m\u001b[0m\u001b[0;34m\u001b[0m\u001b[0m\n",
      "\u001b[0;32m/opt/anaconda3/envs/few-shot/lib/python3.7/site-packages/torch/nn/functional.py\u001b[0m in \u001b[0;36mlinear\u001b[0;34m(input, weight, bias)\u001b[0m\n\u001b[1;32m   1676\u001b[0m         \u001b[0moutput\u001b[0m \u001b[0;34m=\u001b[0m \u001b[0minput\u001b[0m\u001b[0;34m.\u001b[0m\u001b[0mmatmul\u001b[0m\u001b[0;34m(\u001b[0m\u001b[0mweight\u001b[0m\u001b[0;34m.\u001b[0m\u001b[0mt\u001b[0m\u001b[0;34m(\u001b[0m\u001b[0;34m)\u001b[0m\u001b[0;34m)\u001b[0m\u001b[0;34m\u001b[0m\u001b[0;34m\u001b[0m\u001b[0m\n\u001b[1;32m   1677\u001b[0m         \u001b[0;32mif\u001b[0m \u001b[0mbias\u001b[0m \u001b[0;32mis\u001b[0m \u001b[0;32mnot\u001b[0m \u001b[0;32mNone\u001b[0m\u001b[0;34m:\u001b[0m\u001b[0;34m\u001b[0m\u001b[0;34m\u001b[0m\u001b[0m\n\u001b[0;32m-> 1678\u001b[0;31m             \u001b[0moutput\u001b[0m \u001b[0;34m+=\u001b[0m \u001b[0mbias\u001b[0m\u001b[0;34m\u001b[0m\u001b[0;34m\u001b[0m\u001b[0m\n\u001b[0m\u001b[1;32m   1679\u001b[0m         \u001b[0mret\u001b[0m \u001b[0;34m=\u001b[0m \u001b[0moutput\u001b[0m\u001b[0;34m\u001b[0m\u001b[0;34m\u001b[0m\u001b[0m\n\u001b[1;32m   1680\u001b[0m     \u001b[0;32mreturn\u001b[0m \u001b[0mret\u001b[0m\u001b[0;34m\u001b[0m\u001b[0;34m\u001b[0m\u001b[0m\n",
      "\u001b[0;31mKeyboardInterrupt\u001b[0m: "
     ]
    }
   ],
   "source": [
    "baseline_reddit_acc, reddit_preds = predict_and_score(reddit_data, linear_maps=None, return_predictions=True)\n",
    "baseline_reddit_acc_top3 = simple_topk_accuracy(reddit_data.labels, reddit_preds)\n",
    "\n",
    "print(baseline_reddit_acc, baseline_reddit_acc_top3)"
   ]
  },
  {
   "cell_type": "markdown",
   "metadata": {
    "id": "h8XS4gFUjzRe"
   },
   "source": [
    "### Zmap: Construct from most frequent words in w2v training corpus\n",
    "\n",
    "We'll construct a Zmap using the w2v vocabulary consisting of the most frequently used 20,000 words, since we found in the previous section that this provided an optimal Zmap."
   ]
  },
  {
   "cell_type": "code",
   "execution_count": null,
   "metadata": {
    "id": "v0TsQE1Fv6D6",
    "scrolled": true
   },
   "outputs": [],
   "source": [
    "k_words = 20000\n",
    "\n",
    "# if above cells have already been run, no need to recompute sbert embeddings\n",
    "try:    \n",
    "    sbert_vectors_20k = sbert_vectors[:k_words]\n",
    "    w2v_vectors_20k = to_tensor(w2v_vectors[:k_words])\n",
    "\n",
    "# otherwise, compute sbert embeddings from the top 20k w2v words\n",
    "except:\n",
    "    vocabulary_filename = fewshot_filename(\"my_data/w2v\", \"w2v_vocab20k_sbert_embeddings.pt\")\n",
    "    try:\n",
    "        # Load 20k sbert vectors if we've already created them\n",
    "        sbert_vectors_20k = torch_load(vocabulary_filename)['embeddings']\n",
    "    except:\n",
    "        # get sbert embeddings for each word in vocabulary\n",
    "        w2v_vectors_20k, vocabulary = get_topk_w2v_vectors(w2v_model, k=k_words, return_word_list=True)\n",
    "        sbert_vectors_20k = get_sentence_embeddings(vocabulary, \n",
    "                                                    model, \n",
    "                                                    tokenizer, \n",
    "                                                    output_filename=vocabulary_filename)\n",
    "\n",
    "Zmap_w2v = OLS_with_l2_regularization(sbert_vectors_20k, to_tensor(w2v_vectors[:k_words]))\n",
    "# We save this Zmap for use in our few-shot application\n",
    "torch_save(Zmap_w2v, fewshot_filename(\"data/maps\", \"Zmap_20k_w2v_words_alpha0.pt\"))"
   ]
  },
  {
   "cell_type": "code",
   "execution_count": null,
   "metadata": {
    "colab": {
     "base_uri": "https://localhost:8080/"
    },
    "executionInfo": {
     "elapsed": 1609,
     "status": "ok",
     "timestamp": 1607712590880,
     "user": {
      "displayName": "Melanie Beck",
      "photoUrl": "https://lh3.googleusercontent.com/a-/AOh14GjLbnYa4ftLBgztDifL0LIFKY8SwjZMZ7xgytOx=s64",
      "userId": "09930974187097582546"
     },
     "user_tz": 360
    },
    "id": "zuEOVk5kGFLj",
    "outputId": "2e08e4e5-4f1d-459b-9668-d4510ef564ae"
   },
   "outputs": [],
   "source": [
    "zw2v_news_acc, news_preds = predict_and_score(news_data, linear_maps=[Zmap_w2v], return_predictions=True)\n",
    "zw2v_news_acc_top3 = simple_topk_accuracy(news_data.labels, news_preds)\n",
    "\n",
    "print(zw2v_news_acc, zw2v_news_acc_top3)"
   ]
  },
  {
   "cell_type": "code",
   "execution_count": null,
   "metadata": {
    "colab": {
     "base_uri": "https://localhost:8080/"
    },
    "executionInfo": {
     "elapsed": 2416,
     "status": "ok",
     "timestamp": 1607712600160,
     "user": {
      "displayName": "Melanie Beck",
      "photoUrl": "https://lh3.googleusercontent.com/a-/AOh14GjLbnYa4ftLBgztDifL0LIFKY8SwjZMZ7xgytOx=s64",
      "userId": "09930974187097582546"
     },
     "user_tz": 360
    },
    "id": "2M59ezi8HJGr",
    "outputId": "5af75029-65f4-432c-aa56-55e09f1d8f5e"
   },
   "outputs": [],
   "source": [
    "zw2v_reddit_acc, reddit_preds = predict_and_score(reddit_data, linear_maps=[Zmap_w2v], return_predictions=True)\n",
    "zw2v_reddit_acc_top3 = simple_topk_accuracy(reddit_data.labels, reddit_preds)\n",
    "\n",
    "print(zw2v_reddit_acc, zw2v_reddit_acc_top3)"
   ]
  },
  {
   "cell_type": "markdown",
   "metadata": {
    "id": "42T40YtuHaAq"
   },
   "source": [
    "Using a Zmap constructed from the most frequent 20k words as measured over the corpus that w2v embeddings were trained on definitely improved performance for the AG news dataset (increasing accuracy by nearly 15 points!), but it made our classification worse for the reddit dataset.\n",
    "\n",
    "word2vec embeddings were trained on 100 billion words of the Google News dataset and the most frequent words are based on the distribution contained with the Google News dataset. It is perhaps not surprising, then, that choosing the most frequent words from a news corpus improves performance on another news corpus. \n",
    "\n",
    "Perhaps using the most frequently used words on Reddit will yield a better choice of Zmap for the reddit dataset. "
   ]
  },
  {
   "cell_type": "markdown",
   "metadata": {
    "id": "Bb1o4X9JnnPC"
   },
   "source": [
    "#### Side Quest: fine-tuning the regularization parameter\n",
    "Turns out you can increase the performance by about another 5 points depending on the regularization parameter. The drawback, however, is that fine-tuning parameters requires *some*  labeled data in order to properly evaluate between different values. In our experiments we find that values beteen 5 and 12 tend to work best for most datasets. "
   ]
  },
  {
   "cell_type": "code",
   "execution_count": null,
   "metadata": {
    "colab": {
     "base_uri": "https://localhost:8080/"
    },
    "executionInfo": {
     "elapsed": 39196,
     "status": "ok",
     "timestamp": 1607035435700,
     "user": {
      "displayName": "Melanie Beck",
      "photoUrl": "https://lh3.googleusercontent.com/a-/AOh14GjLbnYa4ftLBgztDifL0LIFKY8SwjZMZ7xgytOx=s64",
      "userId": "09930974187097582546"
     },
     "user_tz": 360
    },
    "id": "iiqJc73Xnmam",
    "outputId": "108f1b6c-3e6b-4d38-e871-a0ad9218f45d"
   },
   "outputs": [],
   "source": [
    "for alpha in [0.1, 1, 5, 10, 15, 20]:\n",
    "    Zmap = OLS_with_l2_regularization(sbert_vectors_20k, to_tensor(w2v_vectors_20k), alpha=alpha)\n",
    "    news_acc = predict_and_score(news_data, linear_maps=Zmap, return_predictions=False)\n",
    "    reddit_acc = predict_and_score(reddit_data, linear_maps=Zmap, return_predictions=False)\n",
    "    print(f\"alpha: {alpha} \\t news_acc: {news_acc} \\t reddit_acc: {reddit_acc}\")"
   ]
  },
  {
   "cell_type": "markdown",
   "metadata": {
    "id": "ZzdLv1JPyGJ6"
   },
   "source": [
    "### Zmap: Construct from most frequent words in a specific corpus (e.g., Reddit)\n",
    "\n",
    "Next, we'll construct a Zmap using the most frequent words as measured over the Reddit dataset. The most common words in the Reddit dataset was explored in [this notebook](https://github.com/fastforwardlabs/few-shot-text-classification/blob/master/notebooks/CreatingRedditDataset.ipynb). \n",
    "\n",
    "**This file is not included in the repo so the cells in this section will not run.**\n",
    "\n",
    "However, we leave these cells in to provide a walk-through of how to perform the analysis. "
   ]
  },
  {
   "cell_type": "code",
   "execution_count": null,
   "metadata": {
    "id": "Oox1Y3aVXB27"
   },
   "outputs": [],
   "source": [
    "most_common_reddit_words = pickle_load(fewshot_filename(\"my_data/reddit\", \"most_common_words.pkl\"))"
   ]
  },
  {
   "cell_type": "code",
   "execution_count": null,
   "metadata": {
    "id": "4SHEEkqEXMBP"
   },
   "outputs": [],
   "source": [
    "# not all words have embeddings in the canonical version of w2v\n",
    "# identify top 20k words in the reddit word list that also have w2v embeddings\n",
    "\n",
    "w2v_vectors_redditwords, words_not_found = get_word_embeddings(\n",
    "    most_common_reddit_words['no_punc_no_stop'], \n",
    "    w2v_model)\n",
    "\n",
    "#select the top20k w2v embeddings (corresponding to the top 20k words in common)\n",
    "w2v_vectors_redditwords = w2v_vectors_redditwords[:20000]\n",
    "\n",
    "# identify the words in common\n",
    "words_not_found = set(words_not_found)\n",
    "common_words = []\n",
    "for word in most_common_reddit_words['no_punc_no_stop']:\n",
    "    if word not in words_not_found:\n",
    "        common_words.append(word)\n",
    "\n",
    "top20k_common_words = common_words[:20000]"
   ]
  },
  {
   "cell_type": "code",
   "execution_count": null,
   "metadata": {
    "id": "Wm8UVJPLdxq2"
   },
   "outputs": [],
   "source": [
    "vocabulary_filename = fewshot_filename(\"my_data/reddit\", \"reddit_vocab20k_sbert_embeddings.pt\")\n",
    "\n",
    "try:\n",
    "    sbert_vectors_redditwords = torch_load(vocabulary_filename)['embeddings']\n",
    "except: \n",
    "    # compute sbert vectors for the top20_common_words\n",
    "    sbert_vectors_redditwords = get_sentence_embeddings(top20k_common_words, \n",
    "                                                        model, \n",
    "                                                        tokenizer, \n",
    "                                                        output_filename=vocabulary_filename)"
   ]
  },
  {
   "cell_type": "code",
   "execution_count": null,
   "metadata": {
    "colab": {
     "base_uri": "https://localhost:8080/"
    },
    "executionInfo": {
     "elapsed": 5932,
     "status": "ok",
     "timestamp": 1607120630605,
     "user": {
      "displayName": "Melanie Beck",
      "photoUrl": "https://lh3.googleusercontent.com/a-/AOh14GjLbnYa4ftLBgztDifL0LIFKY8SwjZMZ7xgytOx=s64",
      "userId": "09930974187097582546"
     },
     "user_tz": 360
    },
    "id": "_m1iYf9Ecwb4",
    "outputId": "f23b6525-bc9e-43ec-c48b-eb32915e657f",
    "scrolled": true
   },
   "outputs": [],
   "source": [
    "Zmap_redditwords = OLS_with_l2_regularization(sbert_vectors_redditwords, \n",
    "                                              to_tensor(w2v_vectors_redditwords))\n",
    "\n",
    "zred_reddit_acc, reddit_preds = predict_and_score(reddit_data, linear_maps=[Zmap_redditwords], \n",
    "                                                  return_predictions=True)\n",
    "zred_reddit_acc_top3 = simple_topk_accuracy(reddit_data.labels, reddit_preds)\n",
    "\n",
    "print(zred_reddit_acc, zred_reddit_acc_top3)\n"
   ]
  },
  {
   "cell_type": "markdown",
   "metadata": {
    "id": "k8Xrp2JbzOS9"
   },
   "source": [
    "Unfortunately, constructing Zmap from a vocabulary of the most frequent words in the Reddit dataset doesn't help; in fact, it hurts performance even more! \n",
    "\n",
    "On the bright side, even a small amount of regularization will improve the performance significantly (even if it doesn't outperform using SBERT embeddings alone).  Below, we see that even having `alpha=1` increases the score by 6 points. "
   ]
  },
  {
   "cell_type": "code",
   "execution_count": null,
   "metadata": {
    "id": "u495-LmfMAax"
   },
   "outputs": [],
   "source": [
    "def fine_tune_alpha(alpha_values, dataset, sbert_vectors, w2v_vectors, verbose=True):\n",
    "  num_categories = len(dataset.categories)\n",
    "\n",
    "  for alpha in alpha_values:\n",
    "    Zmap = compute_projection_matrix(sbert_vectors, \n",
    "                                    to_tensor(w2v_vectors), \n",
    "                                    alpha=alpha)\n",
    "    \n",
    "    acc = predict_and_score(dataset, \n",
    "                            num_categories, \n",
    "                            Zmap=Zmap, \n",
    "                            return_predictions=False)\n",
    "    if verbose:\n",
    "      print(f\"alpha: {alpha} \\t score: {acc}\")"
   ]
  },
  {
   "cell_type": "code",
   "execution_count": null,
   "metadata": {
    "colab": {
     "base_uri": "https://localhost:8080/"
    },
    "executionInfo": {
     "elapsed": 33260,
     "status": "ok",
     "timestamp": 1607115481971,
     "user": {
      "displayName": "Melanie Beck",
      "photoUrl": "https://lh3.googleusercontent.com/a-/AOh14GjLbnYa4ftLBgztDifL0LIFKY8SwjZMZ7xgytOx=s64",
      "userId": "09930974187097582546"
     },
     "user_tz": 360
    },
    "id": "TbMsKJCxitrX",
    "outputId": "4475edc4-541b-4598-a252-0bf749e03a22"
   },
   "outputs": [],
   "source": [
    "alpha = [0, 0.1, 1, 5, 10, 15]\n",
    "fine_tune_alpha(alpha, reddit_data, sbert_vectors_redditwords, w2v_vectors_redditwords)"
   ]
  },
  {
   "cell_type": "code",
   "execution_count": null,
   "metadata": {
    "id": "uzfy5UtZB43S"
   },
   "outputs": [],
   "source": [
    "try:\n",
    "  Zmap_reddit_opt = torch.load(\"data/Zmaps/Zmap_20k_reddit_words_alpha10.pt\")\n",
    "except:\n",
    "  Zmap_redditwords_opt = compute_projection_matrix(sbert_vectors_redditwords, \n",
    "                                                  to_tensor(w2v_vectors_redditwords),\n",
    "                                                  alpha=10)\n",
    "  torch.save(Zmap_redditwords_opt, \"data/Zmap_20k_reddit_words_alpha10.pt\")"
   ]
  },
  {
   "cell_type": "code",
   "execution_count": null,
   "metadata": {
    "colab": {
     "base_uri": "https://localhost:8080/",
     "height": 433
    },
    "executionInfo": {
     "elapsed": 1049,
     "status": "ok",
     "timestamp": 1607719487935,
     "user": {
      "displayName": "Melanie Beck",
      "photoUrl": "https://lh3.googleusercontent.com/a-/AOh14GjLbnYa4ftLBgztDifL0LIFKY8SwjZMZ7xgytOx=s64",
      "userId": "09930974187097582546"
     },
     "user_tz": 360
    },
    "id": "QLtIo1mp0UhJ",
    "outputId": "a1563c7f-8129-49cd-c4de-21dd80011a28"
   },
   "outputs": [],
   "source": [
    "plt.style.use(\"seaborn-white\")\n",
    "cldr_colors = ['#00b6b5', '#f7955b','#6c8cc7']\n",
    "\n",
    "fig = plt.figure(figsize=(8,6))\n",
    "width = 0.25\n",
    "plt.bar(np.array([0, 1])-width/2, \n",
    "        [baseline_news_acc, baseline_reddit_acc], \n",
    "        width=width, \n",
    "        color=cldr_colors[0],  \n",
    "        label='SBERT'\n",
    "        )\n",
    "plt.bar(np.array([0, 1])+width/2, \n",
    "        [zw2v_news_acc, zw2v_reddit_acc], \n",
    "        width=width, \n",
    "        color=cldr_colors[1], \n",
    "        label='SBERT*Zmap'\n",
    "        )\n",
    "plt.xticks([0,1], ['AG News', 'Reddit'], fontsize=16)#\n",
    "plt.yticks(fontsize=16)\n",
    "plt.ylabel(\"Accuracy\", fontsize=20);\n",
    "plt.legend(frameon=False, fontsize=16);\n",
    "plt.tight_layout()\n",
    "plt.savefig(\"accuracy_agnews_reddit.png\", transparent=True, dpi=150)"
   ]
  },
  {
   "cell_type": "markdown",
   "metadata": {
    "id": "A00GEjwh1M2n"
   },
   "source": [
    "# Error analysis\n",
    "\n",
    "Let's take a closer look at how these datasets are composed to see if we can understand why some (AG News) perform well under a Zmap transformation and other (Reddit) perform worse! "
   ]
  },
  {
   "cell_type": "markdown",
   "metadata": {
    "id": "J8WtBrsB179A"
   },
   "source": [
    "### Number of labels\n",
    "\n",
    "The AG News dataset has only four categories, while our subset of Reddit contains posts from 10 different subreddits. "
   ]
  },
  {
   "cell_type": "code",
   "execution_count": null,
   "metadata": {
    "colab": {
     "base_uri": "https://localhost:8080/"
    },
    "executionInfo": {
     "elapsed": 343,
     "status": "ok",
     "timestamp": 1607111077579,
     "user": {
      "displayName": "Melanie Beck",
      "photoUrl": "https://lh3.googleusercontent.com/a-/AOh14GjLbnYa4ftLBgztDifL0LIFKY8SwjZMZ7xgytOx=s64",
      "userId": "09930974187097582546"
     },
     "user_tz": 360
    },
    "id": "Z-QnA8xh1O6K",
    "outputId": "5a088658-41f4-4a62-f91b-4ef00065f6f5"
   },
   "outputs": [],
   "source": [
    "news_data.categories"
   ]
  },
  {
   "cell_type": "code",
   "execution_count": null,
   "metadata": {
    "colab": {
     "base_uri": "https://localhost:8080/"
    },
    "executionInfo": {
     "elapsed": 341,
     "status": "ok",
     "timestamp": 1607111078525,
     "user": {
      "displayName": "Melanie Beck",
      "photoUrl": "https://lh3.googleusercontent.com/a-/AOh14GjLbnYa4ftLBgztDifL0LIFKY8SwjZMZ7xgytOx=s64",
      "userId": "09930974187097582546"
     },
     "user_tz": 360
    },
    "id": "8p7RDFSc2JwI",
    "outputId": "bd7ba9db-b96a-42d1-9d51-2e9893ea91c7"
   },
   "outputs": [],
   "source": [
    "reddit_data.categories"
   ]
  },
  {
   "cell_type": "markdown",
   "metadata": {
    "id": "Aox-A-fW3LV8"
   },
   "source": [
    "Additionally, the AG news examples are evenly distributed across the four categories. Not so for the Reddit dataset -- but we can change that."
   ]
  },
  {
   "cell_type": "code",
   "execution_count": null,
   "metadata": {
    "colab": {
     "base_uri": "https://localhost:8080/"
    },
    "executionInfo": {
     "elapsed": 792,
     "status": "ok",
     "timestamp": 1607037886876,
     "user": {
      "displayName": "Melanie Beck",
      "photoUrl": "https://lh3.googleusercontent.com/a-/AOh14GjLbnYa4ftLBgztDifL0LIFKY8SwjZMZ7xgytOx=s64",
      "userId": "09930974187097582546"
     },
     "user_tz": 360
    },
    "id": "GdklEDqR2OXp",
    "outputId": "01190c7f-ca43-4adf-8ead-eb0b5d467329"
   },
   "outputs": [],
   "source": [
    "np.unique(news_data.labels, return_counts=True)"
   ]
  },
  {
   "cell_type": "code",
   "execution_count": null,
   "metadata": {
    "colab": {
     "base_uri": "https://localhost:8080/"
    },
    "executionInfo": {
     "elapsed": 404,
     "status": "ok",
     "timestamp": 1607037877375,
     "user": {
      "displayName": "Melanie Beck",
      "photoUrl": "https://lh3.googleusercontent.com/a-/AOh14GjLbnYa4ftLBgztDifL0LIFKY8SwjZMZ7xgytOx=s64",
      "userId": "09930974187097582546"
     },
     "user_tz": 360
    },
    "id": "H3qJ7lE53ErK",
    "outputId": "0ead3c6b-3a80-4dda-f5eb-42431b437fc4"
   },
   "outputs": [],
   "source": [
    "np.unique(reddit_data.labels, return_counts=True)"
   ]
  },
  {
   "cell_type": "code",
   "execution_count": null,
   "metadata": {
    "id": "GOqLXPmE5xDS"
   },
   "outputs": [],
   "source": [
    "df = pd.read_csv(\"data/reddit_subset_test.csv\")"
   ]
  },
  {
   "cell_type": "code",
   "execution_count": null,
   "metadata": {
    "id": "SC6fJXH251o8"
   },
   "outputs": [],
   "source": [
    "subdf = df[df.category.isin(reddit_data.categories)]"
   ]
  },
  {
   "cell_type": "code",
   "execution_count": null,
   "metadata": {
    "id": "ko-ZZJsx3k_c"
   },
   "outputs": [],
   "source": [
    "# sample exactly 1300 from each category\n",
    "sample = subdf.groupby('category', group_keys=False).apply(\n",
    "    lambda x: x.sample(min(len(x), 1300), random_state=42)\n",
    ")\n",
    "\n",
    "sample['category'] = pd.Categorical(sample.category)\n",
    "sample['label'] = sample.category.cat.codes"
   ]
  },
  {
   "cell_type": "code",
   "execution_count": null,
   "metadata": {
    "colab": {
     "base_uri": "https://localhost:8080/"
    },
    "executionInfo": {
     "elapsed": 181527,
     "status": "ok",
     "timestamp": 1607124899961,
     "user": {
      "displayName": "Melanie Beck",
      "photoUrl": "https://lh3.googleusercontent.com/a-/AOh14GjLbnYa4ftLBgztDifL0LIFKY8SwjZMZ7xgytOx=s64",
      "userId": "09930974187097582546"
     },
     "user_tz": 360
    },
    "id": "OCOgoHdq6ah4",
    "outputId": "51a9d377-1748-418b-9e01-dd36e1e1d050"
   },
   "outputs": [],
   "source": [
    "redditsample_data  = Dataset(\n",
    "    examples = sample[\"summary\"].tolist(),\n",
    "    labels = sample.label.tolist(),\n",
    "    categories = _prepare_category_names(sample))\n"
   ]
  },
  {
   "cell_type": "code",
   "execution_count": null,
   "metadata": {
    "colab": {
     "base_uri": "https://localhost:8080/"
    },
    "executionInfo": {
     "elapsed": 1681,
     "status": "ok",
     "timestamp": 1607713116060,
     "user": {
      "displayName": "Melanie Beck",
      "photoUrl": "https://lh3.googleusercontent.com/a-/AOh14GjLbnYa4ftLBgztDifL0LIFKY8SwjZMZ7xgytOx=s64",
      "userId": "09930974187097582546"
     },
     "user_tz": 360
    },
    "id": "8c2veWiA6bSw",
    "outputId": "97a8856e-8ed2-4240-ed4a-9ebdccec46fb"
   },
   "outputs": [],
   "source": [
    "redditsample_acc, preds = predict_and_score(reddit_data, #redditsample_data, \n",
    "                                            reddit_categories, \n",
    "                                            Zmap=None, \n",
    "                                            return_predictions=True)\n",
    "redditsample_acc"
   ]
  },
  {
   "cell_type": "code",
   "execution_count": null,
   "metadata": {
    "colab": {
     "base_uri": "https://localhost:8080/"
    },
    "executionInfo": {
     "elapsed": 2393,
     "status": "ok",
     "timestamp": 1607713120921,
     "user": {
      "displayName": "Melanie Beck",
      "photoUrl": "https://lh3.googleusercontent.com/a-/AOh14GjLbnYa4ftLBgztDifL0LIFKY8SwjZMZ7xgytOx=s64",
      "userId": "09930974187097582546"
     },
     "user_tz": 360
    },
    "id": "RIZH2Qss8fws",
    "outputId": "8123d0a1-833e-4413-9c30-ba5fdcdf6ad4"
   },
   "outputs": [],
   "source": [
    "redditsample_acc, preds_zw2v = predict_and_score(reddit_data, #redditsample_data, \n",
    "                                                  reddit_categories, \n",
    "                                                  Zmap=Zmap_w2v, \n",
    "                                                  return_predictions=True)\n",
    "redditsample_acc"
   ]
  },
  {
   "cell_type": "code",
   "execution_count": null,
   "metadata": {
    "colab": {
     "base_uri": "https://localhost:8080/"
    },
    "executionInfo": {
     "elapsed": 2351,
     "status": "ok",
     "timestamp": 1607713021470,
     "user": {
      "displayName": "Melanie Beck",
      "photoUrl": "https://lh3.googleusercontent.com/a-/AOh14GjLbnYa4ftLBgztDifL0LIFKY8SwjZMZ7xgytOx=s64",
      "userId": "09930974187097582546"
     },
     "user_tz": 360
    },
    "id": "UAImuB5i845k",
    "outputId": "b26bb3be-d564-4f48-fcd1-5831f725cfe8"
   },
   "outputs": [],
   "source": [
    "redditsample_acc, preds_zred = predict_and_score(reddit_data, #redditsample_data, \n",
    "                                                  reddit_categories, \n",
    "                                                  Zmap=Zmap_redditwords, \n",
    "                                                  return_predictions=True)\n",
    "redditsample_acc"
   ]
  },
  {
   "cell_type": "code",
   "execution_count": null,
   "metadata": {
    "id": "xLL58fPy-s2x"
   },
   "outputs": [],
   "source": [
    "best = [p.best for p in preds]\n",
    "best_zw2v = [p.best for p in preds_zw2v]\n",
    "best_zred = [p.best for p in preds_zred]"
   ]
  },
  {
   "cell_type": "code",
   "execution_count": null,
   "metadata": {
    "id": "noHrLQNkAsEH"
   },
   "outputs": [],
   "source": [
    "thing, best_counts = np.unique(best, return_counts=True)\n",
    "_, best_zw2v_counts = np.unique(best_zw2v, return_counts=True)\n",
    "_, best_zred_counts = np.unique(best_zred, return_counts=True)"
   ]
  },
  {
   "cell_type": "code",
   "execution_count": null,
   "metadata": {
    "colab": {
     "base_uri": "https://localhost:8080/",
     "height": 505
    },
    "executionInfo": {
     "elapsed": 1062,
     "status": "ok",
     "timestamp": 1607719463501,
     "user": {
      "displayName": "Melanie Beck",
      "photoUrl": "https://lh3.googleusercontent.com/a-/AOh14GjLbnYa4ftLBgztDifL0LIFKY8SwjZMZ7xgytOx=s64",
      "userId": "09930974187097582546"
     },
     "user_tz": 360
    },
    "id": "pDmxy3QzDQsU",
    "outputId": "0c48b14a-0780-4fee-f1c5-7c03ccf82254"
   },
   "outputs": [],
   "source": [
    "plt.style.use(\"seaborn-white\")\n",
    "\n",
    "fig = plt.figure(figsize=(9,7))\n",
    "ax = fig.add_subplot(111)\n",
    "\n",
    "width = .25\n",
    "ax.barh(np.array(thing)-width,\n",
    "         best_counts,  \n",
    "         height=width,\n",
    "         color=cldr_colors[0],\n",
    "         label='SBERT'\n",
    "        )\n",
    "ax.barh(np.array(thing),\n",
    "         best_zw2v_counts, \n",
    "          \n",
    "         height=width, \n",
    "         color=cldr_colors[1],\n",
    "         label='SBERT*Zmap (w2v words)'\n",
    "         )\n",
    "ax.barh(np.array(thing)+width,\n",
    "         best_zred_counts,\n",
    "          \n",
    "         height=width, \n",
    "         color=cldr_colors[2],\n",
    "         label='SBERT*Zmap (Reddit words)'\n",
    "         )\n",
    "ax.set_yticks(thing)\n",
    "ax.set_yticklabels(reddit_data.categories)\n",
    "ax.invert_yaxis()\n",
    "ax.tick_params(axis=\"both\", labelsize=16)\n",
    "ax.set_xlabel(\"Examples\", fontsize=20);\n",
    "ax.legend(frameon=False, fontsize=16);\n",
    "plt.tight_layout()\n",
    "plt.savefig(\"reddit_bycategory.png\", transparent=True, dpi=150)"
   ]
  },
  {
   "cell_type": "code",
   "execution_count": null,
   "metadata": {
    "id": "XbFofvKtDaTJ"
   },
   "outputs": [],
   "source": [
    "news_acc, news_preds = predict_and_score(news_data, \n",
    "                                         news_categories, \n",
    "                                         Zmap=None, \n",
    "                                         return_predictions=True)\n",
    "\n",
    "news_acc, news_preds_zw2v = predict_and_score(news_data, \n",
    "                                         news_categories, \n",
    "                                         Zmap=Zmap_w2v, \n",
    "                                         return_predictions=True)\n",
    "\n",
    "news_best = [p.best for p in news_preds]\n",
    "news_best_zw2v = [p.best for p in news_preds_zw2v]\n",
    "\n",
    "other_thing, news_best_counts = np.unique(news_best, return_counts=True)\n",
    "_, news_best_zw2v_counts = np.unique(news_best_zw2v, return_counts=True)"
   ]
  },
  {
   "cell_type": "code",
   "execution_count": null,
   "metadata": {
    "colab": {
     "base_uri": "https://localhost:8080/",
     "height": 433
    },
    "executionInfo": {
     "elapsed": 713,
     "status": "ok",
     "timestamp": 1607719718982,
     "user": {
      "displayName": "Melanie Beck",
      "photoUrl": "https://lh3.googleusercontent.com/a-/AOh14GjLbnYa4ftLBgztDifL0LIFKY8SwjZMZ7xgytOx=s64",
      "userId": "09930974187097582546"
     },
     "user_tz": 360
    },
    "id": "ctaBJwcXJBp6",
    "outputId": "f92c77d6-dc04-4795-92c0-6f6dd9b817bb"
   },
   "outputs": [],
   "source": [
    "plt.style.use(\"seaborn-white\")\n",
    "\n",
    "fig = plt.figure(figsize=(8,6))\n",
    "ax = fig.add_subplot(111)\n",
    "\n",
    "width = .25\n",
    "ax.barh(np.array(other_thing)-width/2, \n",
    "        news_best_counts, \n",
    "        height=width, \n",
    "        color=cldr_colors[0], \n",
    "        label='SBERT'\n",
    "        )\n",
    "ax.barh(np.array(other_thing)+width/2, \n",
    "        news_best_zw2v_counts, \n",
    "        height=width, \n",
    "        color=cldr_colors[1], \n",
    "        label='SBERT*Zmap'\n",
    "        )\n",
    "\n",
    "ax.set_yticks(other_thing)\n",
    "ax.set_yticklabels(news_data.categories)\n",
    "ax.invert_yaxis()\n",
    "ax.tick_params(axis='both', labelsize=16)\n",
    "ax.set_xlabel(\"Examples\", fontsize=20)\n",
    "ax.set_xlim(0, 3800)\n",
    "ax.legend(frameon=False, fontsize=16);\n",
    "plt.tight_layout()\n",
    "plt.savefig(\"agnews_bycategory.png\", transparent=True, dpi=150)"
   ]
  },
  {
   "cell_type": "code",
   "execution_count": null,
   "metadata": {
    "colab": {
     "base_uri": "https://localhost:8080/"
    },
    "executionInfo": {
     "elapsed": 353,
     "status": "ok",
     "timestamp": 1607114940900,
     "user": {
      "displayName": "Melanie Beck",
      "photoUrl": "https://lh3.googleusercontent.com/a-/AOh14GjLbnYa4ftLBgztDifL0LIFKY8SwjZMZ7xgytOx=s64",
      "userId": "09930974187097582546"
     },
     "user_tz": 360
    },
    "id": "ELM4XG_mJJmg",
    "outputId": "33622070-ef49-4464-ff75-4ea10888ae54"
   },
   "outputs": [],
   "source": [
    "sample['category'] = sample['category'].astype('str')\n",
    "reddit_categories2 = [cat for cat in reddit_data.categories if cat != 'funny']\n",
    "sample2 = sample.loc[sample.category.isin(reddit_categories2)]\n",
    "\n",
    "sample2['category'] = pd.Categorical(sample2.category)\n",
    "sample2['label'] = sample2.category.cat.codes"
   ]
  },
  {
   "cell_type": "code",
   "execution_count": null,
   "metadata": {
    "colab": {
     "base_uri": "https://localhost:8080/"
    },
    "executionInfo": {
     "elapsed": 163433,
     "status": "ok",
     "timestamp": 1607115147264,
     "user": {
      "displayName": "Melanie Beck",
      "photoUrl": "https://lh3.googleusercontent.com/a-/AOh14GjLbnYa4ftLBgztDifL0LIFKY8SwjZMZ7xgytOx=s64",
      "userId": "09930974187097582546"
     },
     "user_tz": 360
    },
    "id": "_1dEJqOhcdac",
    "outputId": "be6a03b0-d431-4ae1-bb1f-4db1fd29b76a"
   },
   "outputs": [],
   "source": [
    "redditsample2_data  = Dataset(\n",
    "    examples = sample2[\"summary\"].tolist(),\n",
    "    labels = sample2.label.tolist(),\n",
    "    categories = _prepare_category_names(sample2))"
   ]
  },
  {
   "cell_type": "code",
   "execution_count": null,
   "metadata": {
    "colab": {
     "base_uri": "https://localhost:8080/"
    },
    "executionInfo": {
     "elapsed": 1266,
     "status": "ok",
     "timestamp": 1607115153132,
     "user": {
      "displayName": "Melanie Beck",
      "photoUrl": "https://lh3.googleusercontent.com/a-/AOh14GjLbnYa4ftLBgztDifL0LIFKY8SwjZMZ7xgytOx=s64",
      "userId": "09930974187097582546"
     },
     "user_tz": 360
    },
    "id": "XEjppTaRSp9b",
    "outputId": "0438a14e-7b97-46df-a8d6-1cb1438849e8"
   },
   "outputs": [],
   "source": [
    "redditsample_acc, preds = predict_and_score(redditsample2_data, \n",
    "                                            len(reddit_categories2), \n",
    "                                            Zmap=None, \n",
    "                                            return_predictions=True)\n",
    "redditsample_acc"
   ]
  },
  {
   "cell_type": "code",
   "execution_count": null,
   "metadata": {
    "colab": {
     "base_uri": "https://localhost:8080/"
    },
    "executionInfo": {
     "elapsed": 1896,
     "status": "ok",
     "timestamp": 1607115174325,
     "user": {
      "displayName": "Melanie Beck",
      "photoUrl": "https://lh3.googleusercontent.com/a-/AOh14GjLbnYa4ftLBgztDifL0LIFKY8SwjZMZ7xgytOx=s64",
      "userId": "09930974187097582546"
     },
     "user_tz": 360
    },
    "id": "42mkHzxbTlNr",
    "outputId": "feb93f3f-6b26-403b-f841-fb79eb28b992"
   },
   "outputs": [],
   "source": [
    "redditsample_acc, preds_zw2v = predict_and_score(redditsample2_data, \n",
    "                                                  len(reddit_categories2), \n",
    "                                                  Zmap=Zmap_w2v, \n",
    "                                                  return_predictions=True)\n",
    "redditsample_acc"
   ]
  },
  {
   "cell_type": "code",
   "execution_count": null,
   "metadata": {
    "colab": {
     "base_uri": "https://localhost:8080/"
    },
    "executionInfo": {
     "elapsed": 1867,
     "status": "ok",
     "timestamp": 1607115182179,
     "user": {
      "displayName": "Melanie Beck",
      "photoUrl": "https://lh3.googleusercontent.com/a-/AOh14GjLbnYa4ftLBgztDifL0LIFKY8SwjZMZ7xgytOx=s64",
      "userId": "09930974187097582546"
     },
     "user_tz": 360
    },
    "id": "gX2SanzKTnrw",
    "outputId": "fa090f61-fcf2-48dd-dd89-6ed5c218de3a"
   },
   "outputs": [],
   "source": [
    "redditsample_acc, preds_zred = predict_and_score(redditsample2_data, \n",
    "                                                  len(reddit_categories2), \n",
    "                                                  Zmap=Zmap_redditwords, \n",
    "                                                  return_predictions=True)\n",
    "redditsample_acc"
   ]
  },
  {
   "cell_type": "code",
   "execution_count": null,
   "metadata": {
    "colab": {
     "base_uri": "https://localhost:8080/"
    },
    "executionInfo": {
     "elapsed": 16077,
     "status": "ok",
     "timestamp": 1607115529420,
     "user": {
      "displayName": "Melanie Beck",
      "photoUrl": "https://lh3.googleusercontent.com/a-/AOh14GjLbnYa4ftLBgztDifL0LIFKY8SwjZMZ7xgytOx=s64",
      "userId": "09930974187097582546"
     },
     "user_tz": 360
    },
    "id": "-xE_pLP4h4jB",
    "outputId": "8609fcd5-4a80-4ea7-8ab9-490bfd723816"
   },
   "outputs": [],
   "source": [
    "fine_tune_alpha(alpha, redditsample2_data, sbert_vectors_redditwords, w2v_vectors_redditwords)"
   ]
  },
  {
   "cell_type": "code",
   "execution_count": null,
   "metadata": {
    "colab": {
     "base_uri": "https://localhost:8080/"
    },
    "executionInfo": {
     "elapsed": 16193,
     "status": "ok",
     "timestamp": 1607115604713,
     "user": {
      "displayName": "Melanie Beck",
      "photoUrl": "https://lh3.googleusercontent.com/a-/AOh14GjLbnYa4ftLBgztDifL0LIFKY8SwjZMZ7xgytOx=s64",
      "userId": "09930974187097582546"
     },
     "user_tz": 360
    },
    "id": "k2pIBm_MjI1s",
    "outputId": "d4a5bcd6-eae7-4658-ffa0-78f57d6edfef"
   },
   "outputs": [],
   "source": [
    "fine_tune_alpha(alpha, redditsample2_data, sbert_vectors, w2v_vectors)"
   ]
  },
  {
   "cell_type": "markdown",
   "metadata": {},
   "source": [
    "***If this documentation includes code, including but not limited to, code examples, Cloudera makes this available to you under the terms of the Apache License, Version 2.0, including any required notices.  A copy of the Apache License Version 2.0 can be found [here](https://opensource.org/licenses/Apache-2.0).***"
   ]
  }
 ],
 "metadata": {
  "accelerator": "GPU",
  "colab": {
   "authorship_tag": "ABX9TyOrsyHmGhg8WA/6wFLrmKVX",
   "collapsed_sections": [],
   "machine_shape": "hm",
   "name": "Zmap_Experiments(final).ipynb",
   "provenance": [],
   "toc_visible": true
  },
  "kernelspec": {
   "display_name": "Python 3",
   "language": "python",
   "name": "python3"
  },
  "language_info": {
   "codemirror_mode": {
    "name": "ipython",
    "version": 3
   },
   "file_extension": ".py",
   "mimetype": "text/x-python",
   "name": "python",
   "nbconvert_exporter": "python",
   "pygments_lexer": "ipython3",
   "version": "3.7.9"
  },
  "widgets": {
   "application/vnd.jupyter.widget-state+json": {
    "028ee0191b7a4335abed379da0910bc5": {
     "model_module": "@jupyter-widgets/controls",
     "model_name": "HBoxModel",
     "state": {
      "_dom_classes": [],
      "_model_module": "@jupyter-widgets/controls",
      "_model_module_version": "1.5.0",
      "_model_name": "HBoxModel",
      "_view_count": null,
      "_view_module": "@jupyter-widgets/controls",
      "_view_module_version": "1.5.0",
      "_view_name": "HBoxView",
      "box_style": "",
      "children": [
       "IPY_MODEL_114b8a66f6584edaa014f164d4b48afc",
       "IPY_MODEL_d664068e5c9d40b8b1d19aa009304b2d"
      ],
      "layout": "IPY_MODEL_d7703f1f94024868906a3903ae2cef8b"
     }
    },
    "091cf17696374b64bed368cfc595fcec": {
     "model_module": "@jupyter-widgets/controls",
     "model_name": "ProgressStyleModel",
     "state": {
      "_model_module": "@jupyter-widgets/controls",
      "_model_module_version": "1.5.0",
      "_model_name": "ProgressStyleModel",
      "_view_count": null,
      "_view_module": "@jupyter-widgets/base",
      "_view_module_version": "1.2.0",
      "_view_name": "StyleView",
      "bar_color": null,
      "description_width": "initial"
     }
    },
    "114b8a66f6584edaa014f164d4b48afc": {
     "model_module": "@jupyter-widgets/controls",
     "model_name": "FloatProgressModel",
     "state": {
      "_dom_classes": [],
      "_model_module": "@jupyter-widgets/controls",
      "_model_module_version": "1.5.0",
      "_model_name": "FloatProgressModel",
      "_view_count": null,
      "_view_module": "@jupyter-widgets/controls",
      "_view_module_version": "1.5.0",
      "_view_name": "ProgressView",
      "bar_style": "success",
      "description": "Downloading: 100%",
      "description_tooltip": null,
      "layout": "IPY_MODEL_ed82fe1ad1f44648816c7e48523bfffa",
      "max": 385,
      "min": 0,
      "orientation": "horizontal",
      "style": "IPY_MODEL_8cafd40834734e7298d61839e9eaa611",
      "value": 385
     }
    },
    "118fe450eef84d9380e3c2befefd73d4": {
     "model_module": "@jupyter-widgets/controls",
     "model_name": "HTMLModel",
     "state": {
      "_dom_classes": [],
      "_model_module": "@jupyter-widgets/controls",
      "_model_module_version": "1.5.0",
      "_model_name": "HTMLModel",
      "_view_count": null,
      "_view_module": "@jupyter-widgets/controls",
      "_view_module_version": "1.5.0",
      "_view_name": "HTMLView",
      "description": "",
      "description_tooltip": null,
      "layout": "IPY_MODEL_9eaf2f335b944f88a00fc5b6b0c2159a",
      "placeholder": "​",
      "style": "IPY_MODEL_aa34ee62d6a944ad909481509ee40b16",
      "value": " 112/112 [00:00&lt;00:00, 357B/s]"
     }
    },
    "1d49a2e92533451783f400390cafa731": {
     "model_module": "@jupyter-widgets/controls",
     "model_name": "FloatProgressModel",
     "state": {
      "_dom_classes": [],
      "_model_module": "@jupyter-widgets/controls",
      "_model_module_version": "1.5.0",
      "_model_name": "FloatProgressModel",
      "_view_count": null,
      "_view_module": "@jupyter-widgets/controls",
      "_view_module_version": "1.5.0",
      "_view_name": "ProgressView",
      "bar_style": "success",
      "description": "Downloading: 100%",
      "description_tooltip": null,
      "layout": "IPY_MODEL_426542798ef6465db0c93090a21e06e4",
      "max": 112,
      "min": 0,
      "orientation": "horizontal",
      "style": "IPY_MODEL_9368c4cc6bda48728f7bf3d5f0e971ac",
      "value": 112
     }
    },
    "2a4a0298b93f4f0aae80ea55c9fc9673": {
     "model_module": "@jupyter-widgets/base",
     "model_name": "LayoutModel",
     "state": {
      "_model_module": "@jupyter-widgets/base",
      "_model_module_version": "1.2.0",
      "_model_name": "LayoutModel",
      "_view_count": null,
      "_view_module": "@jupyter-widgets/base",
      "_view_module_version": "1.2.0",
      "_view_name": "LayoutView",
      "align_content": null,
      "align_items": null,
      "align_self": null,
      "border": null,
      "bottom": null,
      "display": null,
      "flex": null,
      "flex_flow": null,
      "grid_area": null,
      "grid_auto_columns": null,
      "grid_auto_flow": null,
      "grid_auto_rows": null,
      "grid_column": null,
      "grid_gap": null,
      "grid_row": null,
      "grid_template_areas": null,
      "grid_template_columns": null,
      "grid_template_rows": null,
      "height": null,
      "justify_content": null,
      "justify_items": null,
      "left": null,
      "margin": null,
      "max_height": null,
      "max_width": null,
      "min_height": null,
      "min_width": null,
      "object_fit": null,
      "object_position": null,
      "order": null,
      "overflow": null,
      "overflow_x": null,
      "overflow_y": null,
      "padding": null,
      "right": null,
      "top": null,
      "visibility": null,
      "width": null
     }
    },
    "426542798ef6465db0c93090a21e06e4": {
     "model_module": "@jupyter-widgets/base",
     "model_name": "LayoutModel",
     "state": {
      "_model_module": "@jupyter-widgets/base",
      "_model_module_version": "1.2.0",
      "_model_name": "LayoutModel",
      "_view_count": null,
      "_view_module": "@jupyter-widgets/base",
      "_view_module_version": "1.2.0",
      "_view_name": "LayoutView",
      "align_content": null,
      "align_items": null,
      "align_self": null,
      "border": null,
      "bottom": null,
      "display": null,
      "flex": null,
      "flex_flow": null,
      "grid_area": null,
      "grid_auto_columns": null,
      "grid_auto_flow": null,
      "grid_auto_rows": null,
      "grid_column": null,
      "grid_gap": null,
      "grid_row": null,
      "grid_template_areas": null,
      "grid_template_columns": null,
      "grid_template_rows": null,
      "height": null,
      "justify_content": null,
      "justify_items": null,
      "left": null,
      "margin": null,
      "max_height": null,
      "max_width": null,
      "min_height": null,
      "min_width": null,
      "object_fit": null,
      "object_position": null,
      "order": null,
      "overflow": null,
      "overflow_x": null,
      "overflow_y": null,
      "padding": null,
      "right": null,
      "top": null,
      "visibility": null,
      "width": null
     }
    },
    "469dac13fec74883bdc99f95a0ddd4a5": {
     "model_module": "@jupyter-widgets/controls",
     "model_name": "DescriptionStyleModel",
     "state": {
      "_model_module": "@jupyter-widgets/controls",
      "_model_module_version": "1.5.0",
      "_model_name": "DescriptionStyleModel",
      "_view_count": null,
      "_view_module": "@jupyter-widgets/base",
      "_view_module_version": "1.2.0",
      "_view_name": "StyleView",
      "description_width": ""
     }
    },
    "5f67d3bb4f98446984b969502fd8c05c": {
     "model_module": "@jupyter-widgets/controls",
     "model_name": "DescriptionStyleModel",
     "state": {
      "_model_module": "@jupyter-widgets/controls",
      "_model_module_version": "1.5.0",
      "_model_name": "DescriptionStyleModel",
      "_view_count": null,
      "_view_module": "@jupyter-widgets/base",
      "_view_module_version": "1.2.0",
      "_view_name": "StyleView",
      "description_width": ""
     }
    },
    "64d0a84de75f4cb39434a18da53fc787": {
     "model_module": "@jupyter-widgets/base",
     "model_name": "LayoutModel",
     "state": {
      "_model_module": "@jupyter-widgets/base",
      "_model_module_version": "1.2.0",
      "_model_name": "LayoutModel",
      "_view_count": null,
      "_view_module": "@jupyter-widgets/base",
      "_view_module_version": "1.2.0",
      "_view_name": "LayoutView",
      "align_content": null,
      "align_items": null,
      "align_self": null,
      "border": null,
      "bottom": null,
      "display": null,
      "flex": null,
      "flex_flow": null,
      "grid_area": null,
      "grid_auto_columns": null,
      "grid_auto_flow": null,
      "grid_auto_rows": null,
      "grid_column": null,
      "grid_gap": null,
      "grid_row": null,
      "grid_template_areas": null,
      "grid_template_columns": null,
      "grid_template_rows": null,
      "height": null,
      "justify_content": null,
      "justify_items": null,
      "left": null,
      "margin": null,
      "max_height": null,
      "max_width": null,
      "min_height": null,
      "min_width": null,
      "object_fit": null,
      "object_position": null,
      "order": null,
      "overflow": null,
      "overflow_x": null,
      "overflow_y": null,
      "padding": null,
      "right": null,
      "top": null,
      "visibility": null,
      "width": null
     }
    },
    "671fff6af21f4833be41ee7a6ea1ddb1": {
     "model_module": "@jupyter-widgets/base",
     "model_name": "LayoutModel",
     "state": {
      "_model_module": "@jupyter-widgets/base",
      "_model_module_version": "1.2.0",
      "_model_name": "LayoutModel",
      "_view_count": null,
      "_view_module": "@jupyter-widgets/base",
      "_view_module_version": "1.2.0",
      "_view_name": "LayoutView",
      "align_content": null,
      "align_items": null,
      "align_self": null,
      "border": null,
      "bottom": null,
      "display": null,
      "flex": null,
      "flex_flow": null,
      "grid_area": null,
      "grid_auto_columns": null,
      "grid_auto_flow": null,
      "grid_auto_rows": null,
      "grid_column": null,
      "grid_gap": null,
      "grid_row": null,
      "grid_template_areas": null,
      "grid_template_columns": null,
      "grid_template_rows": null,
      "height": null,
      "justify_content": null,
      "justify_items": null,
      "left": null,
      "margin": null,
      "max_height": null,
      "max_width": null,
      "min_height": null,
      "min_width": null,
      "object_fit": null,
      "object_position": null,
      "order": null,
      "overflow": null,
      "overflow_x": null,
      "overflow_y": null,
      "padding": null,
      "right": null,
      "top": null,
      "visibility": null,
      "width": null
     }
    },
    "6a022330dfd8495cbd5c06c4ddd0057c": {
     "model_module": "@jupyter-widgets/base",
     "model_name": "LayoutModel",
     "state": {
      "_model_module": "@jupyter-widgets/base",
      "_model_module_version": "1.2.0",
      "_model_name": "LayoutModel",
      "_view_count": null,
      "_view_module": "@jupyter-widgets/base",
      "_view_module_version": "1.2.0",
      "_view_name": "LayoutView",
      "align_content": null,
      "align_items": null,
      "align_self": null,
      "border": null,
      "bottom": null,
      "display": null,
      "flex": null,
      "flex_flow": null,
      "grid_area": null,
      "grid_auto_columns": null,
      "grid_auto_flow": null,
      "grid_auto_rows": null,
      "grid_column": null,
      "grid_gap": null,
      "grid_row": null,
      "grid_template_areas": null,
      "grid_template_columns": null,
      "grid_template_rows": null,
      "height": null,
      "justify_content": null,
      "justify_items": null,
      "left": null,
      "margin": null,
      "max_height": null,
      "max_width": null,
      "min_height": null,
      "min_width": null,
      "object_fit": null,
      "object_position": null,
      "order": null,
      "overflow": null,
      "overflow_x": null,
      "overflow_y": null,
      "padding": null,
      "right": null,
      "top": null,
      "visibility": null,
      "width": null
     }
    },
    "6ad58cc153fa4b3c96b4c6b38eaa6bbd": {
     "model_module": "@jupyter-widgets/controls",
     "model_name": "HBoxModel",
     "state": {
      "_dom_classes": [],
      "_model_module": "@jupyter-widgets/controls",
      "_model_module_version": "1.5.0",
      "_model_name": "HBoxModel",
      "_view_count": null,
      "_view_module": "@jupyter-widgets/controls",
      "_view_module_version": "1.5.0",
      "_view_name": "HBoxView",
      "box_style": "",
      "children": [
       "IPY_MODEL_1d49a2e92533451783f400390cafa731",
       "IPY_MODEL_118fe450eef84d9380e3c2befefd73d4"
      ],
      "layout": "IPY_MODEL_bcc21f6f3dc64581b110fa669e94e195"
     }
    },
    "7085861c3e8c4721b63c9c24dc871cdd": {
     "model_module": "@jupyter-widgets/base",
     "model_name": "LayoutModel",
     "state": {
      "_model_module": "@jupyter-widgets/base",
      "_model_module_version": "1.2.0",
      "_model_name": "LayoutModel",
      "_view_count": null,
      "_view_module": "@jupyter-widgets/base",
      "_view_module_version": "1.2.0",
      "_view_name": "LayoutView",
      "align_content": null,
      "align_items": null,
      "align_self": null,
      "border": null,
      "bottom": null,
      "display": null,
      "flex": null,
      "flex_flow": null,
      "grid_area": null,
      "grid_auto_columns": null,
      "grid_auto_flow": null,
      "grid_auto_rows": null,
      "grid_column": null,
      "grid_gap": null,
      "grid_row": null,
      "grid_template_areas": null,
      "grid_template_columns": null,
      "grid_template_rows": null,
      "height": null,
      "justify_content": null,
      "justify_items": null,
      "left": null,
      "margin": null,
      "max_height": null,
      "max_width": null,
      "min_height": null,
      "min_width": null,
      "object_fit": null,
      "object_position": null,
      "order": null,
      "overflow": null,
      "overflow_x": null,
      "overflow_y": null,
      "padding": null,
      "right": null,
      "top": null,
      "visibility": null,
      "width": null
     }
    },
    "73f0c3c3e8d74c8dba28e9944c1171ac": {
     "model_module": "@jupyter-widgets/controls",
     "model_name": "DescriptionStyleModel",
     "state": {
      "_model_module": "@jupyter-widgets/controls",
      "_model_module_version": "1.5.0",
      "_model_name": "DescriptionStyleModel",
      "_view_count": null,
      "_view_module": "@jupyter-widgets/base",
      "_view_module_version": "1.2.0",
      "_view_name": "StyleView",
      "description_width": ""
     }
    },
    "8cafd40834734e7298d61839e9eaa611": {
     "model_module": "@jupyter-widgets/controls",
     "model_name": "ProgressStyleModel",
     "state": {
      "_model_module": "@jupyter-widgets/controls",
      "_model_module_version": "1.5.0",
      "_model_name": "ProgressStyleModel",
      "_view_count": null,
      "_view_module": "@jupyter-widgets/base",
      "_view_module_version": "1.2.0",
      "_view_name": "StyleView",
      "bar_color": null,
      "description_width": "initial"
     }
    },
    "8cff0f5d9437432597caab4d08625992": {
     "model_module": "@jupyter-widgets/controls",
     "model_name": "HBoxModel",
     "state": {
      "_dom_classes": [],
      "_model_module": "@jupyter-widgets/controls",
      "_model_module_version": "1.5.0",
      "_model_name": "HBoxModel",
      "_view_count": null,
      "_view_module": "@jupyter-widgets/controls",
      "_view_module_version": "1.5.0",
      "_view_name": "HBoxView",
      "box_style": "",
      "children": [
       "IPY_MODEL_98503aca3f114451a331e3004fafbe64",
       "IPY_MODEL_f48946744f7748a4a654a3acf40515ef"
      ],
      "layout": "IPY_MODEL_d89a56b17d0643289d5e3a61aba927d4"
     }
    },
    "8fb2f70417194b499073854468196fa7": {
     "model_module": "@jupyter-widgets/controls",
     "model_name": "HTMLModel",
     "state": {
      "_dom_classes": [],
      "_model_module": "@jupyter-widgets/controls",
      "_model_module_version": "1.5.0",
      "_model_name": "HTMLModel",
      "_view_count": null,
      "_view_module": "@jupyter-widgets/controls",
      "_view_module_version": "1.5.0",
      "_view_name": "HTMLView",
      "description": "",
      "description_tooltip": null,
      "layout": "IPY_MODEL_db7adcf2d2eb4d36bd88629ae9e07823",
      "placeholder": "​",
      "style": "IPY_MODEL_5f67d3bb4f98446984b969502fd8c05c",
      "value": " 2.00/2.00 [00:00&lt;00:00, 2.26B/s]"
     }
    },
    "91f65a5462904018ac40a7774f07fb9c": {
     "model_module": "@jupyter-widgets/controls",
     "model_name": "ProgressStyleModel",
     "state": {
      "_model_module": "@jupyter-widgets/controls",
      "_model_module_version": "1.5.0",
      "_model_name": "ProgressStyleModel",
      "_view_count": null,
      "_view_module": "@jupyter-widgets/base",
      "_view_module_version": "1.2.0",
      "_view_name": "StyleView",
      "bar_color": null,
      "description_width": "initial"
     }
    },
    "9368c4cc6bda48728f7bf3d5f0e971ac": {
     "model_module": "@jupyter-widgets/controls",
     "model_name": "ProgressStyleModel",
     "state": {
      "_model_module": "@jupyter-widgets/controls",
      "_model_module_version": "1.5.0",
      "_model_name": "ProgressStyleModel",
      "_view_count": null,
      "_view_module": "@jupyter-widgets/base",
      "_view_module_version": "1.2.0",
      "_view_name": "StyleView",
      "bar_color": null,
      "description_width": "initial"
     }
    },
    "98503aca3f114451a331e3004fafbe64": {
     "model_module": "@jupyter-widgets/controls",
     "model_name": "FloatProgressModel",
     "state": {
      "_dom_classes": [],
      "_model_module": "@jupyter-widgets/controls",
      "_model_module_version": "1.5.0",
      "_model_name": "FloatProgressModel",
      "_view_count": null,
      "_view_module": "@jupyter-widgets/controls",
      "_view_module_version": "1.5.0",
      "_view_name": "ProgressView",
      "bar_style": "success",
      "description": "Downloading: 100%",
      "description_tooltip": null,
      "layout": "IPY_MODEL_64d0a84de75f4cb39434a18da53fc787",
      "max": 438006864,
      "min": 0,
      "orientation": "horizontal",
      "style": "IPY_MODEL_091cf17696374b64bed368cfc595fcec",
      "value": 438006864
     }
    },
    "9b0b6a30e57a47da810b3b31c1d3175c": {
     "model_module": "@jupyter-widgets/base",
     "model_name": "LayoutModel",
     "state": {
      "_model_module": "@jupyter-widgets/base",
      "_model_module_version": "1.2.0",
      "_model_name": "LayoutModel",
      "_view_count": null,
      "_view_module": "@jupyter-widgets/base",
      "_view_module_version": "1.2.0",
      "_view_name": "LayoutView",
      "align_content": null,
      "align_items": null,
      "align_self": null,
      "border": null,
      "bottom": null,
      "display": null,
      "flex": null,
      "flex_flow": null,
      "grid_area": null,
      "grid_auto_columns": null,
      "grid_auto_flow": null,
      "grid_auto_rows": null,
      "grid_column": null,
      "grid_gap": null,
      "grid_row": null,
      "grid_template_areas": null,
      "grid_template_columns": null,
      "grid_template_rows": null,
      "height": null,
      "justify_content": null,
      "justify_items": null,
      "left": null,
      "margin": null,
      "max_height": null,
      "max_width": null,
      "min_height": null,
      "min_width": null,
      "object_fit": null,
      "object_position": null,
      "order": null,
      "overflow": null,
      "overflow_x": null,
      "overflow_y": null,
      "padding": null,
      "right": null,
      "top": null,
      "visibility": null,
      "width": null
     }
    },
    "9cf47e73496a41d982761b7cbab00e9c": {
     "model_module": "@jupyter-widgets/base",
     "model_name": "LayoutModel",
     "state": {
      "_model_module": "@jupyter-widgets/base",
      "_model_module_version": "1.2.0",
      "_model_name": "LayoutModel",
      "_view_count": null,
      "_view_module": "@jupyter-widgets/base",
      "_view_module_version": "1.2.0",
      "_view_name": "LayoutView",
      "align_content": null,
      "align_items": null,
      "align_self": null,
      "border": null,
      "bottom": null,
      "display": null,
      "flex": null,
      "flex_flow": null,
      "grid_area": null,
      "grid_auto_columns": null,
      "grid_auto_flow": null,
      "grid_auto_rows": null,
      "grid_column": null,
      "grid_gap": null,
      "grid_row": null,
      "grid_template_areas": null,
      "grid_template_columns": null,
      "grid_template_rows": null,
      "height": null,
      "justify_content": null,
      "justify_items": null,
      "left": null,
      "margin": null,
      "max_height": null,
      "max_width": null,
      "min_height": null,
      "min_width": null,
      "object_fit": null,
      "object_position": null,
      "order": null,
      "overflow": null,
      "overflow_x": null,
      "overflow_y": null,
      "padding": null,
      "right": null,
      "top": null,
      "visibility": null,
      "width": null
     }
    },
    "9eaf2f335b944f88a00fc5b6b0c2159a": {
     "model_module": "@jupyter-widgets/base",
     "model_name": "LayoutModel",
     "state": {
      "_model_module": "@jupyter-widgets/base",
      "_model_module_version": "1.2.0",
      "_model_name": "LayoutModel",
      "_view_count": null,
      "_view_module": "@jupyter-widgets/base",
      "_view_module_version": "1.2.0",
      "_view_name": "LayoutView",
      "align_content": null,
      "align_items": null,
      "align_self": null,
      "border": null,
      "bottom": null,
      "display": null,
      "flex": null,
      "flex_flow": null,
      "grid_area": null,
      "grid_auto_columns": null,
      "grid_auto_flow": null,
      "grid_auto_rows": null,
      "grid_column": null,
      "grid_gap": null,
      "grid_row": null,
      "grid_template_areas": null,
      "grid_template_columns": null,
      "grid_template_rows": null,
      "height": null,
      "justify_content": null,
      "justify_items": null,
      "left": null,
      "margin": null,
      "max_height": null,
      "max_width": null,
      "min_height": null,
      "min_width": null,
      "object_fit": null,
      "object_position": null,
      "order": null,
      "overflow": null,
      "overflow_x": null,
      "overflow_y": null,
      "padding": null,
      "right": null,
      "top": null,
      "visibility": null,
      "width": null
     }
    },
    "aa34ee62d6a944ad909481509ee40b16": {
     "model_module": "@jupyter-widgets/controls",
     "model_name": "DescriptionStyleModel",
     "state": {
      "_model_module": "@jupyter-widgets/controls",
      "_model_module_version": "1.5.0",
      "_model_name": "DescriptionStyleModel",
      "_view_count": null,
      "_view_module": "@jupyter-widgets/base",
      "_view_module_version": "1.2.0",
      "_view_name": "StyleView",
      "description_width": ""
     }
    },
    "b7eb0d9cdd514856aedb583eaeef3b49": {
     "model_module": "@jupyter-widgets/controls",
     "model_name": "FloatProgressModel",
     "state": {
      "_dom_classes": [],
      "_model_module": "@jupyter-widgets/controls",
      "_model_module_version": "1.5.0",
      "_model_name": "FloatProgressModel",
      "_view_count": null,
      "_view_module": "@jupyter-widgets/controls",
      "_view_module_version": "1.5.0",
      "_view_name": "ProgressView",
      "bar_style": "success",
      "description": "Downloading: 100%",
      "description_tooltip": null,
      "layout": "IPY_MODEL_b95d98c62a8a4d12ac114d9dcf334848",
      "max": 2,
      "min": 0,
      "orientation": "horizontal",
      "style": "IPY_MODEL_91f65a5462904018ac40a7774f07fb9c",
      "value": 2
     }
    },
    "b95d98c62a8a4d12ac114d9dcf334848": {
     "model_module": "@jupyter-widgets/base",
     "model_name": "LayoutModel",
     "state": {
      "_model_module": "@jupyter-widgets/base",
      "_model_module_version": "1.2.0",
      "_model_name": "LayoutModel",
      "_view_count": null,
      "_view_module": "@jupyter-widgets/base",
      "_view_module_version": "1.2.0",
      "_view_name": "LayoutView",
      "align_content": null,
      "align_items": null,
      "align_self": null,
      "border": null,
      "bottom": null,
      "display": null,
      "flex": null,
      "flex_flow": null,
      "grid_area": null,
      "grid_auto_columns": null,
      "grid_auto_flow": null,
      "grid_auto_rows": null,
      "grid_column": null,
      "grid_gap": null,
      "grid_row": null,
      "grid_template_areas": null,
      "grid_template_columns": null,
      "grid_template_rows": null,
      "height": null,
      "justify_content": null,
      "justify_items": null,
      "left": null,
      "margin": null,
      "max_height": null,
      "max_width": null,
      "min_height": null,
      "min_width": null,
      "object_fit": null,
      "object_position": null,
      "order": null,
      "overflow": null,
      "overflow_x": null,
      "overflow_y": null,
      "padding": null,
      "right": null,
      "top": null,
      "visibility": null,
      "width": null
     }
    },
    "ba4106549ba148dc8801f4459b5d3774": {
     "model_module": "@jupyter-widgets/controls",
     "model_name": "ProgressStyleModel",
     "state": {
      "_model_module": "@jupyter-widgets/controls",
      "_model_module_version": "1.5.0",
      "_model_name": "ProgressStyleModel",
      "_view_count": null,
      "_view_module": "@jupyter-widgets/base",
      "_view_module_version": "1.2.0",
      "_view_name": "StyleView",
      "bar_color": null,
      "description_width": "initial"
     }
    },
    "bcc21f6f3dc64581b110fa669e94e195": {
     "model_module": "@jupyter-widgets/base",
     "model_name": "LayoutModel",
     "state": {
      "_model_module": "@jupyter-widgets/base",
      "_model_module_version": "1.2.0",
      "_model_name": "LayoutModel",
      "_view_count": null,
      "_view_module": "@jupyter-widgets/base",
      "_view_module_version": "1.2.0",
      "_view_name": "LayoutView",
      "align_content": null,
      "align_items": null,
      "align_self": null,
      "border": null,
      "bottom": null,
      "display": null,
      "flex": null,
      "flex_flow": null,
      "grid_area": null,
      "grid_auto_columns": null,
      "grid_auto_flow": null,
      "grid_auto_rows": null,
      "grid_column": null,
      "grid_gap": null,
      "grid_row": null,
      "grid_template_areas": null,
      "grid_template_columns": null,
      "grid_template_rows": null,
      "height": null,
      "justify_content": null,
      "justify_items": null,
      "left": null,
      "margin": null,
      "max_height": null,
      "max_width": null,
      "min_height": null,
      "min_width": null,
      "object_fit": null,
      "object_position": null,
      "order": null,
      "overflow": null,
      "overflow_x": null,
      "overflow_y": null,
      "padding": null,
      "right": null,
      "top": null,
      "visibility": null,
      "width": null
     }
    },
    "c956cb280f844505aef1a40c9d490768": {
     "model_module": "@jupyter-widgets/controls",
     "model_name": "HTMLModel",
     "state": {
      "_dom_classes": [],
      "_model_module": "@jupyter-widgets/controls",
      "_model_module_version": "1.5.0",
      "_model_name": "HTMLModel",
      "_view_count": null,
      "_view_module": "@jupyter-widgets/controls",
      "_view_module_version": "1.5.0",
      "_view_name": "HTMLView",
      "description": "",
      "description_tooltip": null,
      "layout": "IPY_MODEL_671fff6af21f4833be41ee7a6ea1ddb1",
      "placeholder": "​",
      "style": "IPY_MODEL_73f0c3c3e8d74c8dba28e9944c1171ac",
      "value": " 232k/232k [00:01&lt;00:00, 200kB/s]"
     }
    },
    "d664068e5c9d40b8b1d19aa009304b2d": {
     "model_module": "@jupyter-widgets/controls",
     "model_name": "HTMLModel",
     "state": {
      "_dom_classes": [],
      "_model_module": "@jupyter-widgets/controls",
      "_model_module_version": "1.5.0",
      "_model_name": "HTMLModel",
      "_view_count": null,
      "_view_module": "@jupyter-widgets/controls",
      "_view_module_version": "1.5.0",
      "_view_name": "HTMLView",
      "description": "",
      "description_tooltip": null,
      "layout": "IPY_MODEL_6a022330dfd8495cbd5c06c4ddd0057c",
      "placeholder": "​",
      "style": "IPY_MODEL_469dac13fec74883bdc99f95a0ddd4a5",
      "value": " 385/385 [00:01&lt;00:00, 224B/s]"
     }
    },
    "d7703f1f94024868906a3903ae2cef8b": {
     "model_module": "@jupyter-widgets/base",
     "model_name": "LayoutModel",
     "state": {
      "_model_module": "@jupyter-widgets/base",
      "_model_module_version": "1.2.0",
      "_model_name": "LayoutModel",
      "_view_count": null,
      "_view_module": "@jupyter-widgets/base",
      "_view_module_version": "1.2.0",
      "_view_name": "LayoutView",
      "align_content": null,
      "align_items": null,
      "align_self": null,
      "border": null,
      "bottom": null,
      "display": null,
      "flex": null,
      "flex_flow": null,
      "grid_area": null,
      "grid_auto_columns": null,
      "grid_auto_flow": null,
      "grid_auto_rows": null,
      "grid_column": null,
      "grid_gap": null,
      "grid_row": null,
      "grid_template_areas": null,
      "grid_template_columns": null,
      "grid_template_rows": null,
      "height": null,
      "justify_content": null,
      "justify_items": null,
      "left": null,
      "margin": null,
      "max_height": null,
      "max_width": null,
      "min_height": null,
      "min_width": null,
      "object_fit": null,
      "object_position": null,
      "order": null,
      "overflow": null,
      "overflow_x": null,
      "overflow_y": null,
      "padding": null,
      "right": null,
      "top": null,
      "visibility": null,
      "width": null
     }
    },
    "d89a56b17d0643289d5e3a61aba927d4": {
     "model_module": "@jupyter-widgets/base",
     "model_name": "LayoutModel",
     "state": {
      "_model_module": "@jupyter-widgets/base",
      "_model_module_version": "1.2.0",
      "_model_name": "LayoutModel",
      "_view_count": null,
      "_view_module": "@jupyter-widgets/base",
      "_view_module_version": "1.2.0",
      "_view_name": "LayoutView",
      "align_content": null,
      "align_items": null,
      "align_self": null,
      "border": null,
      "bottom": null,
      "display": null,
      "flex": null,
      "flex_flow": null,
      "grid_area": null,
      "grid_auto_columns": null,
      "grid_auto_flow": null,
      "grid_auto_rows": null,
      "grid_column": null,
      "grid_gap": null,
      "grid_row": null,
      "grid_template_areas": null,
      "grid_template_columns": null,
      "grid_template_rows": null,
      "height": null,
      "justify_content": null,
      "justify_items": null,
      "left": null,
      "margin": null,
      "max_height": null,
      "max_width": null,
      "min_height": null,
      "min_width": null,
      "object_fit": null,
      "object_position": null,
      "order": null,
      "overflow": null,
      "overflow_x": null,
      "overflow_y": null,
      "padding": null,
      "right": null,
      "top": null,
      "visibility": null,
      "width": null
     }
    },
    "db7adcf2d2eb4d36bd88629ae9e07823": {
     "model_module": "@jupyter-widgets/base",
     "model_name": "LayoutModel",
     "state": {
      "_model_module": "@jupyter-widgets/base",
      "_model_module_version": "1.2.0",
      "_model_name": "LayoutModel",
      "_view_count": null,
      "_view_module": "@jupyter-widgets/base",
      "_view_module_version": "1.2.0",
      "_view_name": "LayoutView",
      "align_content": null,
      "align_items": null,
      "align_self": null,
      "border": null,
      "bottom": null,
      "display": null,
      "flex": null,
      "flex_flow": null,
      "grid_area": null,
      "grid_auto_columns": null,
      "grid_auto_flow": null,
      "grid_auto_rows": null,
      "grid_column": null,
      "grid_gap": null,
      "grid_row": null,
      "grid_template_areas": null,
      "grid_template_columns": null,
      "grid_template_rows": null,
      "height": null,
      "justify_content": null,
      "justify_items": null,
      "left": null,
      "margin": null,
      "max_height": null,
      "max_width": null,
      "min_height": null,
      "min_width": null,
      "object_fit": null,
      "object_position": null,
      "order": null,
      "overflow": null,
      "overflow_x": null,
      "overflow_y": null,
      "padding": null,
      "right": null,
      "top": null,
      "visibility": null,
      "width": null
     }
    },
    "dd7dae8a91194813b15a7f9fadc8dbb1": {
     "model_module": "@jupyter-widgets/controls",
     "model_name": "FloatProgressModel",
     "state": {
      "_dom_classes": [],
      "_model_module": "@jupyter-widgets/controls",
      "_model_module_version": "1.5.0",
      "_model_name": "FloatProgressModel",
      "_view_count": null,
      "_view_module": "@jupyter-widgets/controls",
      "_view_module_version": "1.5.0",
      "_view_name": "ProgressView",
      "bar_style": "success",
      "description": "Downloading: 100%",
      "description_tooltip": null,
      "layout": "IPY_MODEL_7085861c3e8c4721b63c9c24dc871cdd",
      "max": 231508,
      "min": 0,
      "orientation": "horizontal",
      "style": "IPY_MODEL_ba4106549ba148dc8801f4459b5d3774",
      "value": 231508
     }
    },
    "ec918c5ae3fd40a386d877ceeccc699e": {
     "model_module": "@jupyter-widgets/controls",
     "model_name": "HBoxModel",
     "state": {
      "_dom_classes": [],
      "_model_module": "@jupyter-widgets/controls",
      "_model_module_version": "1.5.0",
      "_model_name": "HBoxModel",
      "_view_count": null,
      "_view_module": "@jupyter-widgets/controls",
      "_view_module_version": "1.5.0",
      "_view_name": "HBoxView",
      "box_style": "",
      "children": [
       "IPY_MODEL_dd7dae8a91194813b15a7f9fadc8dbb1",
       "IPY_MODEL_c956cb280f844505aef1a40c9d490768"
      ],
      "layout": "IPY_MODEL_9b0b6a30e57a47da810b3b31c1d3175c"
     }
    },
    "ed82fe1ad1f44648816c7e48523bfffa": {
     "model_module": "@jupyter-widgets/base",
     "model_name": "LayoutModel",
     "state": {
      "_model_module": "@jupyter-widgets/base",
      "_model_module_version": "1.2.0",
      "_model_name": "LayoutModel",
      "_view_count": null,
      "_view_module": "@jupyter-widgets/base",
      "_view_module_version": "1.2.0",
      "_view_name": "LayoutView",
      "align_content": null,
      "align_items": null,
      "align_self": null,
      "border": null,
      "bottom": null,
      "display": null,
      "flex": null,
      "flex_flow": null,
      "grid_area": null,
      "grid_auto_columns": null,
      "grid_auto_flow": null,
      "grid_auto_rows": null,
      "grid_column": null,
      "grid_gap": null,
      "grid_row": null,
      "grid_template_areas": null,
      "grid_template_columns": null,
      "grid_template_rows": null,
      "height": null,
      "justify_content": null,
      "justify_items": null,
      "left": null,
      "margin": null,
      "max_height": null,
      "max_width": null,
      "min_height": null,
      "min_width": null,
      "object_fit": null,
      "object_position": null,
      "order": null,
      "overflow": null,
      "overflow_x": null,
      "overflow_y": null,
      "padding": null,
      "right": null,
      "top": null,
      "visibility": null,
      "width": null
     }
    },
    "f48946744f7748a4a654a3acf40515ef": {
     "model_module": "@jupyter-widgets/controls",
     "model_name": "HTMLModel",
     "state": {
      "_dom_classes": [],
      "_model_module": "@jupyter-widgets/controls",
      "_model_module_version": "1.5.0",
      "_model_name": "HTMLModel",
      "_view_count": null,
      "_view_module": "@jupyter-widgets/controls",
      "_view_module_version": "1.5.0",
      "_view_name": "HTMLView",
      "description": "",
      "description_tooltip": null,
      "layout": "IPY_MODEL_9cf47e73496a41d982761b7cbab00e9c",
      "placeholder": "​",
      "style": "IPY_MODEL_fc885f2fbf604fa0bdb5f7eea5b1f92a",
      "value": " 438M/438M [00:06&lt;00:00, 71.9MB/s]"
     }
    },
    "f6cbf8e2085246819f9d3d89d08f48a7": {
     "model_module": "@jupyter-widgets/controls",
     "model_name": "HBoxModel",
     "state": {
      "_dom_classes": [],
      "_model_module": "@jupyter-widgets/controls",
      "_model_module_version": "1.5.0",
      "_model_name": "HBoxModel",
      "_view_count": null,
      "_view_module": "@jupyter-widgets/controls",
      "_view_module_version": "1.5.0",
      "_view_name": "HBoxView",
      "box_style": "",
      "children": [
       "IPY_MODEL_b7eb0d9cdd514856aedb583eaeef3b49",
       "IPY_MODEL_8fb2f70417194b499073854468196fa7"
      ],
      "layout": "IPY_MODEL_2a4a0298b93f4f0aae80ea55c9fc9673"
     }
    },
    "fc885f2fbf604fa0bdb5f7eea5b1f92a": {
     "model_module": "@jupyter-widgets/controls",
     "model_name": "DescriptionStyleModel",
     "state": {
      "_model_module": "@jupyter-widgets/controls",
      "_model_module_version": "1.5.0",
      "_model_name": "DescriptionStyleModel",
      "_view_count": null,
      "_view_module": "@jupyter-widgets/base",
      "_view_module_version": "1.2.0",
      "_view_name": "StyleView",
      "description_width": ""
     }
    }
   }
  }
 },
 "nbformat": 4,
 "nbformat_minor": 1
}
