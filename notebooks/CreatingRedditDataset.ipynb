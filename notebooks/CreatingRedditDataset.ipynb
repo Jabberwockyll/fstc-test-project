{
 "cells": [
  {
   "cell_type": "markdown",
   "metadata": {},
   "source": [
    "The reddit dataset from the HF Datasets repo is HUGE (20+ GiB) and I did not want that cached on my local machine so the first few steps were processed in a Colab notebook. Below are the steps I took in that notebook to create a subset of reddit posts from a select assortment of some of the most populated subreddits. \n",
    "\n",
    "The full dataset has over 3.8 million posts in thousands of subreddits. I first identify the most popular subreddits by number of posts. I then select the top 10 subreddits and a curated list of subreddits (those that I believe have more meaningful subreddit names) and select out only those posts which are associated with this list of subreddits. \n",
    "\n",
    "The top 3 subreddits (AskReddit, relationships, leagueoflegends) have an order of magnitude more posts than any other subreddit. To keep the subset manageable, I only include the first 60K posts from these subreddits. \n",
    "\n",
    "The result is a subset of 636695 reddit posts from 16 popular subreddits. Saved as a df, this file is a \"mere\" 2.7 GiB. "
   ]
  },
  {
   "cell_type": "markdown",
   "metadata": {},
   "source": [
    "```python\n",
    "\n",
    "from datasets import load_dataset\n",
    "dataset = load_dataset(\"reddit\")\n",
    "\n",
    "\"\"\"\n",
    "Downloading:\n",
    "4.38k/? [00:01<00:00, 3.32kB/s]\n",
    "\n",
    "Downloading:\n",
    "2.83k/? [00:00<00:00, 3.28kB/s]\n",
    "Using custom data configuration default\n",
    "\n",
    "Downloading and preparing dataset reddit/default (download: 2.93 GiB, generated: 17.64 GiB, post-processed: Unknown size, total: 20.57 GiB) to /root/.cache/huggingface/datasets/reddit/default/1.0.0/98ba5abea674d3178f7588aa6518a5510dc0c6fa8176d9653a3546d5afcb3969...\n",
    "Downloading: 100%\n",
    "3.14G/3.14G [05:26<00:00, 9.62MB/s]\n",
    "\n",
    "3848330/0 [06:29<00:00, 10409.42 examples/s]\n",
    "Dataset reddit downloaded and prepared to /root/.cache/huggingface/datasets/reddit/default/1.0.0/98ba5abea674d3178f7588aa6518a5510dc0c6fa8176d9653a3546d5afcb3969. Subsequent calls will reuse this data.\n",
    "\"\"\"\n",
    "\n",
    "dataset = dataset['train']\n",
    "\n",
    "unique_subreddits, counts = np.unique(dataset['subreddit'], return_counts=True)\n",
    "\n",
    "top_subreddits = [sr for c, sr in sorted(zip(counts, unique_subreddits), reverse=True)]\n",
    "\n",
    "top_subreddits[:30]\n",
    "#['AskReddit', 'relationships', 'leagueoflegends', 'tifu', 'relationship_advice', 'trees', 'gaming', 'atheism', 'AdviceAnimals', 'funny', 'politics', 'pics', 'sex', 'WTF', 'explainlikeimfive', 'todayilearned', 'Fitness', 'IAmA', 'worldnews', 'DotA2', 'TwoXChromosomes', 'videos', 'DestinyTheGame', 'reddit.com', 'offmychest', 'buildapc', 'AskMen', 'personalfinance', 'summonerschool', 'technology']\n",
    "\n",
    "\n",
    "top10_subreddits = top_subreddits[:10]\n",
    "curated_subreddits = ['relationships', 'trees', 'gaming', 'funny', 'politics', 'sex', 'Fitness', 'worldnews', 'personalfinance', 'technology']\n",
    "\n",
    "relevant_subreddits = list(set(top10_subreddits).union(set(curated_subreddits)))\n",
    "subreddit_mask = np.zeros(len(dataset))\n",
    "\n",
    "# The top 3 categories each contain between 100k and 600k posts -- an order of magnitude more \n",
    "# than any other popular subreddit. I artificially truncate these 3 categories to 60K posts each\n",
    "askreddit = 0\n",
    "relationships = 0\n",
    "lol = 0\n",
    "max_examples = 60000\n",
    "\n",
    "for i, sub in enumerate(dataset['subreddit']):\n",
    "  if sub in relevant_subreddits:\n",
    "    if sub == 'AskReddit' and askreddit <= max_examples:\n",
    "      subreddit_mask[i] = 1\n",
    "      askreddit += 1\n",
    "    elif sub == 'relationships' and relationships <= max_examples:\n",
    "      subreddit_mask[i] = 1\n",
    "      relationships += 1\n",
    "    elif sub == 'leagueoflegends' and lol <= max_examples:\n",
    "      subreddit_mask[i] = 1\n",
    "      lol += 1\n",
    "    elif sub not in ['AskReddit', 'relationships', 'leagueoflegends']:    \n",
    "      subreddit_mask[i] = 1\n",
    "    else:\n",
    "      continue\n",
    "\n",
    "subreddit_mask = subreddit_mask == 1\n",
    "\n",
    "np.sum(subreddit_mask)\n",
    "#636695 (reduced from over 3.8M!)\n",
    "\n",
    "subset = dataset[subreddit_mask]\n",
    "\n",
    "subset = pd.DataFrame(subset)\n",
    "subset.to_csv(\"reddit_subset.pd\")\n",
    "```"
   ]
  },
  {
   "cell_type": "code",
   "execution_count": 42,
   "metadata": {},
   "outputs": [],
   "source": [
    "import numpy as np\n",
    "import pandas as pd\n",
    "from sklearn.model_selection import train_test_split\n",
    "\n",
    "filename = \"../data/reddit/reddit_subset.csv\""
   ]
  },
  {
   "cell_type": "code",
   "execution_count": 2,
   "metadata": {},
   "outputs": [],
   "source": [
    "df = pd.read_csv(filename)"
   ]
  },
  {
   "cell_type": "code",
   "execution_count": 3,
   "metadata": {},
   "outputs": [
    {
     "data": {
      "text/html": [
       "<div>\n",
       "<style scoped>\n",
       "    .dataframe tbody tr th:only-of-type {\n",
       "        vertical-align: middle;\n",
       "    }\n",
       "\n",
       "    .dataframe tbody tr th {\n",
       "        vertical-align: top;\n",
       "    }\n",
       "\n",
       "    .dataframe thead th {\n",
       "        text-align: right;\n",
       "    }\n",
       "</style>\n",
       "<table border=\"1\" class=\"dataframe\">\n",
       "  <thead>\n",
       "    <tr style=\"text-align: right;\">\n",
       "      <th></th>\n",
       "      <th>author</th>\n",
       "      <th>body</th>\n",
       "      <th>content</th>\n",
       "      <th>id</th>\n",
       "      <th>normalizedBody</th>\n",
       "      <th>subreddit</th>\n",
       "      <th>subreddit_id</th>\n",
       "      <th>summary</th>\n",
       "    </tr>\n",
       "  </thead>\n",
       "  <tbody>\n",
       "    <tr>\n",
       "      <th>0</th>\n",
       "      <td>Stork13</td>\n",
       "      <td>Art is about the hardest thing to categorize i...</td>\n",
       "      <td>Art is about the hardest thing to categorize i...</td>\n",
       "      <td>c6a9nxd</td>\n",
       "      <td>Art is about the hardest thing to categorize i...</td>\n",
       "      <td>funny</td>\n",
       "      <td>t5_2qh33</td>\n",
       "      <td>Personal opinions 'n shit.</td>\n",
       "    </tr>\n",
       "    <tr>\n",
       "      <th>1</th>\n",
       "      <td>splagaticusxoxo97</td>\n",
       "      <td>FALSE. Evidence: Wolfman is a man with hair al...</td>\n",
       "      <td>FALSE. Evidence: Wolfman is a man with hair al...</td>\n",
       "      <td>c6bacqq</td>\n",
       "      <td>FALSE. Evidence: Wolfman is a man with hair al...</td>\n",
       "      <td>atheism</td>\n",
       "      <td>t5_2qh2p</td>\n",
       "      <td>dont fuck with red timber wolves</td>\n",
       "    </tr>\n",
       "    <tr>\n",
       "      <th>2</th>\n",
       "      <td>phyzishy</td>\n",
       "      <td>Yeah, but most folks think avoiding gluten wil...</td>\n",
       "      <td>Yeah, but most folks think avoiding gluten wil...</td>\n",
       "      <td>c6b52m8</td>\n",
       "      <td>Yeah, but most folks think avoiding gluten wil...</td>\n",
       "      <td>AskReddit</td>\n",
       "      <td>t5_2qh1i</td>\n",
       "      <td>stupid stuff.</td>\n",
       "    </tr>\n",
       "    <tr>\n",
       "      <th>3</th>\n",
       "      <td>Wheelman</td>\n",
       "      <td>As an entrepreneur/freelancer (especially a su...</td>\n",
       "      <td>As an entrepreneur/freelancer (especially a su...</td>\n",
       "      <td>c6b34c2</td>\n",
       "      <td>As an entrepreneur/freelancer (especially a su...</td>\n",
       "      <td>personalfinance</td>\n",
       "      <td>t5_2qstm</td>\n",
       "      <td>get a good CPA - they aren't that expensive bu...</td>\n",
       "    </tr>\n",
       "    <tr>\n",
       "      <th>4</th>\n",
       "      <td>Perservere</td>\n",
       "      <td>Didn't they lose 6 games in a row? Just becaus...</td>\n",
       "      <td>Didn't they lose 6 games in a row? Just becaus...</td>\n",
       "      <td>c6bftvc</td>\n",
       "      <td>Didn't they lose 6 games in a row? Just becaus...</td>\n",
       "      <td>leagueoflegends</td>\n",
       "      <td>t5_2rfxx</td>\n",
       "      <td>just because you're close \"at times\" doesn't m...</td>\n",
       "    </tr>\n",
       "  </tbody>\n",
       "</table>\n",
       "</div>"
      ],
      "text/plain": [
       "              author                                               body  \\\n",
       "0            Stork13  Art is about the hardest thing to categorize i...   \n",
       "1  splagaticusxoxo97  FALSE. Evidence: Wolfman is a man with hair al...   \n",
       "2           phyzishy  Yeah, but most folks think avoiding gluten wil...   \n",
       "3           Wheelman  As an entrepreneur/freelancer (especially a su...   \n",
       "4         Perservere  Didn't they lose 6 games in a row? Just becaus...   \n",
       "\n",
       "                                             content       id  \\\n",
       "0  Art is about the hardest thing to categorize i...  c6a9nxd   \n",
       "1  FALSE. Evidence: Wolfman is a man with hair al...  c6bacqq   \n",
       "2  Yeah, but most folks think avoiding gluten wil...  c6b52m8   \n",
       "3  As an entrepreneur/freelancer (especially a su...  c6b34c2   \n",
       "4  Didn't they lose 6 games in a row? Just becaus...  c6bftvc   \n",
       "\n",
       "                                      normalizedBody        subreddit  \\\n",
       "0  Art is about the hardest thing to categorize i...            funny   \n",
       "1  FALSE. Evidence: Wolfman is a man with hair al...          atheism   \n",
       "2  Yeah, but most folks think avoiding gluten wil...        AskReddit   \n",
       "3  As an entrepreneur/freelancer (especially a su...  personalfinance   \n",
       "4  Didn't they lose 6 games in a row? Just becaus...  leagueoflegends   \n",
       "\n",
       "  subreddit_id                                            summary  \n",
       "0     t5_2qh33                         Personal opinions 'n shit.  \n",
       "1     t5_2qh2p                   dont fuck with red timber wolves  \n",
       "2     t5_2qh1i                                      stupid stuff.  \n",
       "3     t5_2qstm  get a good CPA - they aren't that expensive bu...  \n",
       "4     t5_2rfxx  just because you're close \"at times\" doesn't m...  "
      ]
     },
     "execution_count": 3,
     "metadata": {},
     "output_type": "execute_result"
    }
   ],
   "source": [
    "df.head()"
   ]
  },
  {
   "cell_type": "code",
   "execution_count": 24,
   "metadata": {},
   "outputs": [],
   "source": [
    "df['category'] = df['subreddit'].map({\n",
    "    'atheism': 'atheism',\n",
    "    'funny': 'funny',\n",
    "    'sex': 'sex',\n",
    "    'Fitness': 'fitness',\n",
    "    'AdviceAnimals': 'advice animals',\n",
    "    'trees': 'trees',\n",
    "    'personalfinance': 'personal finance', \n",
    "    'relationships': 'relationships',\n",
    "    'relationship_advice': 'relationship advice',\n",
    "    'tifu': 'tifu',\n",
    "    'politics': 'politics',\n",
    "    'gaming': 'gaming', \n",
    "    'worldnews': 'world news',\n",
    "    'technology': 'technology',\n",
    "    'leagueoflegends': 'league of legends',\n",
    "    'AskReddit': 'ask reddit'\n",
    "    })\n",
    "\n",
    "df['category'] = pd.Categorical(df.category)\n",
    "df['label'] = df.category.cat.codes"
   ]
  },
  {
   "cell_type": "code",
   "execution_count": 52,
   "metadata": {},
   "outputs": [
    {
     "data": {
      "text/html": [
       "<div>\n",
       "<style scoped>\n",
       "    .dataframe tbody tr th:only-of-type {\n",
       "        vertical-align: middle;\n",
       "    }\n",
       "\n",
       "    .dataframe tbody tr th {\n",
       "        vertical-align: top;\n",
       "    }\n",
       "\n",
       "    .dataframe thead th {\n",
       "        text-align: right;\n",
       "    }\n",
       "</style>\n",
       "<table border=\"1\" class=\"dataframe\">\n",
       "  <thead>\n",
       "    <tr style=\"text-align: right;\">\n",
       "      <th></th>\n",
       "      <th>author</th>\n",
       "      <th>body</th>\n",
       "      <th>content</th>\n",
       "      <th>id</th>\n",
       "      <th>normalizedBody</th>\n",
       "      <th>subreddit</th>\n",
       "      <th>subreddit_id</th>\n",
       "      <th>summary</th>\n",
       "      <th>category</th>\n",
       "      <th>label</th>\n",
       "    </tr>\n",
       "  </thead>\n",
       "  <tbody>\n",
       "    <tr>\n",
       "      <th>0</th>\n",
       "      <td>Stork13</td>\n",
       "      <td>Art is about the hardest thing to categorize i...</td>\n",
       "      <td>Art is about the hardest thing to categorize i...</td>\n",
       "      <td>c6a9nxd</td>\n",
       "      <td>Art is about the hardest thing to categorize i...</td>\n",
       "      <td>funny</td>\n",
       "      <td>t5_2qh33</td>\n",
       "      <td>Personal opinions 'n shit.</td>\n",
       "      <td>funny</td>\n",
       "      <td>4</td>\n",
       "    </tr>\n",
       "    <tr>\n",
       "      <th>1</th>\n",
       "      <td>splagaticusxoxo97</td>\n",
       "      <td>FALSE. Evidence: Wolfman is a man with hair al...</td>\n",
       "      <td>FALSE. Evidence: Wolfman is a man with hair al...</td>\n",
       "      <td>c6bacqq</td>\n",
       "      <td>FALSE. Evidence: Wolfman is a man with hair al...</td>\n",
       "      <td>atheism</td>\n",
       "      <td>t5_2qh2p</td>\n",
       "      <td>dont fuck with red timber wolves</td>\n",
       "      <td>atheism</td>\n",
       "      <td>2</td>\n",
       "    </tr>\n",
       "    <tr>\n",
       "      <th>2</th>\n",
       "      <td>phyzishy</td>\n",
       "      <td>Yeah, but most folks think avoiding gluten wil...</td>\n",
       "      <td>Yeah, but most folks think avoiding gluten wil...</td>\n",
       "      <td>c6b52m8</td>\n",
       "      <td>Yeah, but most folks think avoiding gluten wil...</td>\n",
       "      <td>AskReddit</td>\n",
       "      <td>t5_2qh1i</td>\n",
       "      <td>stupid stuff.</td>\n",
       "      <td>ask reddit</td>\n",
       "      <td>1</td>\n",
       "    </tr>\n",
       "    <tr>\n",
       "      <th>3</th>\n",
       "      <td>Wheelman</td>\n",
       "      <td>As an entrepreneur/freelancer (especially a su...</td>\n",
       "      <td>As an entrepreneur/freelancer (especially a su...</td>\n",
       "      <td>c6b34c2</td>\n",
       "      <td>As an entrepreneur/freelancer (especially a su...</td>\n",
       "      <td>personalfinance</td>\n",
       "      <td>t5_2qstm</td>\n",
       "      <td>get a good CPA - they aren't that expensive bu...</td>\n",
       "      <td>personal finance</td>\n",
       "      <td>7</td>\n",
       "    </tr>\n",
       "    <tr>\n",
       "      <th>4</th>\n",
       "      <td>Perservere</td>\n",
       "      <td>Didn't they lose 6 games in a row? Just becaus...</td>\n",
       "      <td>Didn't they lose 6 games in a row? Just becaus...</td>\n",
       "      <td>c6bftvc</td>\n",
       "      <td>Didn't they lose 6 games in a row? Just becaus...</td>\n",
       "      <td>leagueoflegends</td>\n",
       "      <td>t5_2rfxx</td>\n",
       "      <td>just because you're close \"at times\" doesn't m...</td>\n",
       "      <td>league of legends</td>\n",
       "      <td>6</td>\n",
       "    </tr>\n",
       "  </tbody>\n",
       "</table>\n",
       "</div>"
      ],
      "text/plain": [
       "              author                                               body  \\\n",
       "0            Stork13  Art is about the hardest thing to categorize i...   \n",
       "1  splagaticusxoxo97  FALSE. Evidence: Wolfman is a man with hair al...   \n",
       "2           phyzishy  Yeah, but most folks think avoiding gluten wil...   \n",
       "3           Wheelman  As an entrepreneur/freelancer (especially a su...   \n",
       "4         Perservere  Didn't they lose 6 games in a row? Just becaus...   \n",
       "\n",
       "                                             content       id  \\\n",
       "0  Art is about the hardest thing to categorize i...  c6a9nxd   \n",
       "1  FALSE. Evidence: Wolfman is a man with hair al...  c6bacqq   \n",
       "2  Yeah, but most folks think avoiding gluten wil...  c6b52m8   \n",
       "3  As an entrepreneur/freelancer (especially a su...  c6b34c2   \n",
       "4  Didn't they lose 6 games in a row? Just becaus...  c6bftvc   \n",
       "\n",
       "                                      normalizedBody        subreddit  \\\n",
       "0  Art is about the hardest thing to categorize i...            funny   \n",
       "1  FALSE. Evidence: Wolfman is a man with hair al...          atheism   \n",
       "2  Yeah, but most folks think avoiding gluten wil...        AskReddit   \n",
       "3  As an entrepreneur/freelancer (especially a su...  personalfinance   \n",
       "4  Didn't they lose 6 games in a row? Just becaus...  leagueoflegends   \n",
       "\n",
       "  subreddit_id                                            summary  \\\n",
       "0     t5_2qh33                         Personal opinions 'n shit.   \n",
       "1     t5_2qh2p                   dont fuck with red timber wolves   \n",
       "2     t5_2qh1i                                      stupid stuff.   \n",
       "3     t5_2qstm  get a good CPA - they aren't that expensive bu...   \n",
       "4     t5_2rfxx  just because you're close \"at times\" doesn't m...   \n",
       "\n",
       "            category  label  \n",
       "0              funny      4  \n",
       "1            atheism      2  \n",
       "2         ask reddit      1  \n",
       "3   personal finance      7  \n",
       "4  league of legends      6  "
      ]
     },
     "execution_count": 52,
     "metadata": {},
     "output_type": "execute_result"
    }
   ],
   "source": [
    "df.dropna(inplace=True)\n",
    "df.head()"
   ]
  },
  {
   "cell_type": "code",
   "execution_count": 53,
   "metadata": {},
   "outputs": [],
   "source": [
    "from sklearn.model_selection import train_test_split\n",
    "\n",
    "X_train, X_test, y_train, y_test = train_test_split(df, df['subreddit'], test_size=.1, random_state=42, stratify=df['subreddit'])"
   ]
  },
  {
   "cell_type": "code",
   "execution_count": 56,
   "metadata": {},
   "outputs": [
    {
     "data": {
      "text/plain": [
       "(array(['AdviceAnimals', 'AskReddit', 'Fitness', 'atheism', 'funny',\n",
       "        'gaming', 'leagueoflegends', 'personalfinance', 'politics',\n",
       "        'relationship_advice', 'relationships', 'sex', 'technology',\n",
       "        'tifu', 'trees', 'worldnews'], dtype=object),\n",
       " array([36692, 53990, 20423, 38939, 36141, 39459, 53994, 12963, 32865,\n",
       "        45374, 53999, 25924, 12328, 46994, 42551, 20319]))"
      ]
     },
     "execution_count": 56,
     "metadata": {},
     "output_type": "execute_result"
    }
   ],
   "source": [
    "np.unique(X_train.subreddit, return_counts=True)"
   ]
  },
  {
   "cell_type": "code",
   "execution_count": 57,
   "metadata": {},
   "outputs": [
    {
     "data": {
      "text/plain": [
       "(array(['AdviceAnimals', 'AskReddit', 'Fitness', 'atheism', 'funny',\n",
       "        'gaming', 'leagueoflegends', 'personalfinance', 'politics',\n",
       "        'relationship_advice', 'relationships', 'sex', 'technology',\n",
       "        'tifu', 'trees', 'worldnews'], dtype=object),\n",
       " array([4077, 5999, 2269, 4327, 4016, 4384, 5999, 1440, 3652, 5042, 6000,\n",
       "        2880, 1370, 5221, 4728, 2258]))"
      ]
     },
     "execution_count": 57,
     "metadata": {},
     "output_type": "execute_result"
    }
   ],
   "source": [
    "np.unique(X_test.subreddit, return_counts=True)"
   ]
  },
  {
   "cell_type": "code",
   "execution_count": 58,
   "metadata": {},
   "outputs": [
    {
     "data": {
      "text/plain": [
       "161007    leagueoflegends\n",
       "261003            Fitness\n",
       "504573              trees\n",
       "351170               tifu\n",
       "116890            atheism\n",
       "               ...       \n",
       "286297               tifu\n",
       "52903       relationships\n",
       "75107           AskReddit\n",
       "365480              funny\n",
       "70829           AskReddit\n",
       "Name: subreddit, Length: 572955, dtype: object"
      ]
     },
     "execution_count": 58,
     "metadata": {},
     "output_type": "execute_result"
    }
   ],
   "source": [
    "y_train"
   ]
  },
  {
   "cell_type": "code",
   "execution_count": 59,
   "metadata": {},
   "outputs": [
    {
     "data": {
      "text/plain": [
       "44812           AskReddit\n",
       "443043      relationships\n",
       "165384             gaming\n",
       "96449           AskReddit\n",
       "510436              trees\n",
       "               ...       \n",
       "241516            atheism\n",
       "308008    leagueoflegends\n",
       "167308          worldnews\n",
       "624891              trees\n",
       "485559      relationships\n",
       "Name: subreddit, Length: 63662, dtype: object"
      ]
     },
     "execution_count": 59,
     "metadata": {},
     "output_type": "execute_result"
    }
   ],
   "source": [
    "y_test"
   ]
  },
  {
   "cell_type": "code",
   "execution_count": 61,
   "metadata": {},
   "outputs": [],
   "source": [
    "X_train.to_csv(\"../data/reddit/reddit_subset_train.csv\")\n",
    "X_test.to_csv(\"../data/reddit/reddit_subset_test.csv\")"
   ]
  },
  {
   "cell_type": "code",
   "execution_count": 66,
   "metadata": {},
   "outputs": [
    {
     "data": {
      "text/plain": [
       "relationships          53999\n",
       "leagueoflegends        53994\n",
       "AskReddit              53990\n",
       "tifu                   46994\n",
       "relationship_advice    45374\n",
       "trees                  42551\n",
       "gaming                 39459\n",
       "atheism                38939\n",
       "AdviceAnimals          36692\n",
       "funny                  36141\n",
       "Name: subreddit, dtype: int64"
      ]
     },
     "execution_count": 66,
     "metadata": {},
     "output_type": "execute_result"
    }
   ],
   "source": [
    "X_train[\"subreddit\"].value_counts()[:10]"
   ]
  },
  {
   "cell_type": "code",
   "execution_count": 67,
   "metadata": {},
   "outputs": [
    {
     "data": {
      "image/png": "[encoded data removed]",
      "text/plain": [
       "<Figure size 432x288 with 1 Axes>"
      ]
     },
     "metadata": {
      "needs_background": "light"
     },
     "output_type": "display_data"
    }
   ],
   "source": [
    "import matplotlib.pyplot as plt\n",
    "import numpy as np\n",
    "\n",
    "def count_characters(x):\n",
    "    return len(x)\n",
    "\n",
    "plt.hist(X_test.body.apply(count_characters).values, alpha=.6, range=(0,6000), label='body');\n",
    "plt.hist(X_test.content.apply(count_characters).values, alpha=.6, range=(0,6000), label='content');\n",
    "plt.hist(X_test.summary.apply(count_characters).values, alpha=.6, range=(0,6000), label='summary');\n",
    "plt.legend()\n",
    "\n",
    "summary_lengths = X_test.summary.apply(count_characters).values"
   ]
  },
  {
   "cell_type": "code",
   "execution_count": 68,
   "metadata": {},
   "outputs": [
    {
     "name": "stdout",
     "output_type": "stream",
     "text": [
      "136.17712293047657\n",
      "96.0\n",
      "4698\n"
     ]
    }
   ],
   "source": [
    "print(np.mean(summary_lengths))\n",
    "print(np.median(summary_lengths))\n",
    "print(np.max(summary_lengths))"
   ]
  },
  {
   "cell_type": "markdown",
   "metadata": {},
   "source": [
    "# Most frequent words in reddit dataset"
   ]
  },
  {
   "cell_type": "code",
   "execution_count": 21,
   "metadata": {},
   "outputs": [
    {
     "name": "stderr",
     "output_type": "stream",
     "text": [
      "[nltk_data] Downloading package stopwords to /Users/mbeck/nltk_data...\n",
      "[nltk_data]   Package stopwords is already up-to-date!\n",
      "[nltk_data] Downloading package punkt to /Users/mbeck/nltk_data...\n",
      "[nltk_data]   Package punkt is already up-to-date!\n"
     ]
    }
   ],
   "source": [
    "import string\n",
    "from collections import Counter\n",
    "from nltk import FreqDist, word_tokenize\n",
    "\n",
    "import nltk\n",
    "nltk.download('stopwords')\n",
    "nltk.download('punkt')\n",
    "\n",
    "from nltk.corpus import stopwords"
   ]
  },
  {
   "cell_type": "code",
   "execution_count": 12,
   "metadata": {},
   "outputs": [],
   "source": [
    "df.dropna(inplace=True)"
   ]
  },
  {
   "cell_type": "code",
   "execution_count": 13,
   "metadata": {},
   "outputs": [],
   "source": [
    "corpus = ''\n",
    "\n",
    "for summary in df.summary:\n",
    "    try:\n",
    "        corpus += summary\n",
    "    except:\n",
    "        print(summary)"
   ]
  },
  {
   "cell_type": "code",
   "execution_count": 15,
   "metadata": {},
   "outputs": [],
   "source": [
    "thing = word_tokenize(corpus)"
   ]
  },
  {
   "cell_type": "code",
   "execution_count": 24,
   "metadata": {},
   "outputs": [
    {
     "data": {
      "text/plain": [
       "17603154"
      ]
     },
     "execution_count": 24,
     "metadata": {},
     "output_type": "execute_result"
    }
   ],
   "source": [
    "len(thing)"
   ]
  },
  {
   "cell_type": "code",
   "execution_count": 33,
   "metadata": {},
   "outputs": [],
   "source": [
    "stop1 = list(string.punctuation) + [\"``\", \"''\", \"...\"] #\n",
    "stop2 = stopwords.words(\"english\") + list(string.punctuation) + [\"``\", \"''\", \"...\"]\n",
    "words1 = [word for word in thing if word not in stop1]\n",
    "words2 = [word for word in thing if word not in stop2]"
   ]
  },
  {
   "cell_type": "code",
   "execution_count": 34,
   "metadata": {},
   "outputs": [
    {
     "name": "stdout",
     "output_type": "stream",
     "text": [
      "15900692\n",
      "9046851\n"
     ]
    }
   ],
   "source": [
    "print(len(words1))\n",
    "print(len(words2))"
   ]
  },
  {
   "cell_type": "code",
   "execution_count": 38,
   "metadata": {},
   "outputs": [],
   "source": [
    "word_freq1 = Counter(words1).most_common(100000)\n",
    "most_common_words1, counts = [list(c) for c in zip(*word_freq1)]\n",
    "\n",
    "word_freq2 = Counter(words2).most_common(100000)\n",
    "most_common_words2, counts = [list(c) for c in zip(*word_freq2)]"
   ]
  },
  {
   "cell_type": "code",
   "execution_count": 44,
   "metadata": {},
   "outputs": [],
   "source": [
    "most_common_words = {\"no_punc\": most_common_words1, \"no_punc_no_stop\": most_common_words2}"
   ]
  },
  {
   "cell_type": "code",
   "execution_count": 46,
   "metadata": {},
   "outputs": [],
   "source": [
    "import pickle\n",
    "\n",
    "pickle.dump(most_common_words, open(\"../data/reddit/most_common_words.pkl\", \"wb\"))"
   ]
  },
  {
   "cell_type": "markdown",
   "metadata": {},
   "source": [
    "--> SHOULD create new w2v vectors over the reddit corpus!!"
   ]
  },
  {
   "cell_type": "markdown",
   "metadata": {},
   "source": [
    "## Subsample the train corpus because it's too big"
   ]
  },
  {
   "cell_type": "code",
   "execution_count": 2,
   "metadata": {},
   "outputs": [],
   "source": [
    "df_train = pd.read_csv(\"../data/reddit/reddit_subset_train.csv\")"
   ]
  },
  {
   "cell_type": "code",
   "execution_count": 15,
   "metadata": {},
   "outputs": [
    {
     "data": {
      "text/html": [
       "<div>\n",
       "<style scoped>\n",
       "    .dataframe tbody tr th:only-of-type {\n",
       "        vertical-align: middle;\n",
       "    }\n",
       "\n",
       "    .dataframe tbody tr th {\n",
       "        vertical-align: top;\n",
       "    }\n",
       "\n",
       "    .dataframe thead th {\n",
       "        text-align: right;\n",
       "    }\n",
       "</style>\n",
       "<table border=\"1\" class=\"dataframe\">\n",
       "  <thead>\n",
       "    <tr style=\"text-align: right;\">\n",
       "      <th></th>\n",
       "      <th>Unnamed: 0</th>\n",
       "      <th>author</th>\n",
       "      <th>body</th>\n",
       "      <th>content</th>\n",
       "      <th>id</th>\n",
       "      <th>normalizedBody</th>\n",
       "      <th>subreddit</th>\n",
       "      <th>subreddit_id</th>\n",
       "      <th>summary</th>\n",
       "      <th>category</th>\n",
       "      <th>label</th>\n",
       "    </tr>\n",
       "  </thead>\n",
       "  <tbody>\n",
       "    <tr>\n",
       "      <th>0</th>\n",
       "      <td>161007</td>\n",
       "      <td>SkettiOnToast</td>\n",
       "      <td>Can I make a suggestion for the tribunal? (bec...</td>\n",
       "      <td>Can I make a suggestion for the tribunal? (bec...</td>\n",
       "      <td>c7xbafm</td>\n",
       "      <td>Can I make a suggestion for the tribunal? (bec...</td>\n",
       "      <td>leagueoflegends</td>\n",
       "      <td>t5_2rfxx</td>\n",
       "      <td>Just some sugestions, the first of giving you ...</td>\n",
       "      <td>league of legends</td>\n",
       "      <td>6</td>\n",
       "    </tr>\n",
       "    <tr>\n",
       "      <th>1</th>\n",
       "      <td>261003</td>\n",
       "      <td>llSinniSll</td>\n",
       "      <td>First, it doesn't matter if you are fat or ski...</td>\n",
       "      <td>First, it doesn't matter if you are fat or ski...</td>\n",
       "      <td>cdru1md</td>\n",
       "      <td>First, it doesn't matter if you are fat or ski...</td>\n",
       "      <td>Fitness</td>\n",
       "      <td>t5_2qhx4</td>\n",
       "      <td>In short, supplements are great tools when use...</td>\n",
       "      <td>fitness</td>\n",
       "      <td>3</td>\n",
       "    </tr>\n",
       "    <tr>\n",
       "      <th>2</th>\n",
       "      <td>504573</td>\n",
       "      <td>[deleted]</td>\n",
       "      <td>I've recently bought an Aerospaced 4 pc grinde...</td>\n",
       "      <td>I've recently bought an Aerospaced 4 pc grinde...</td>\n",
       "      <td>t3_17zrdh</td>\n",
       "      <td>I've recently bought an Aerospaced 4 pc grinde...</td>\n",
       "      <td>trees</td>\n",
       "      <td>t5_2r9vp</td>\n",
       "      <td>New grinder is not up to par. Should I shell o...</td>\n",
       "      <td>trees</td>\n",
       "      <td>14</td>\n",
       "    </tr>\n",
       "    <tr>\n",
       "      <th>3</th>\n",
       "      <td>351170</td>\n",
       "      <td>thickranchdressing</td>\n",
       "      <td>It was the last evening of a business trip.  M...</td>\n",
       "      <td>It was the last evening of a business trip.  M...</td>\n",
       "      <td>c79fw9z</td>\n",
       "      <td>It was the last evening of a business trip.  M...</td>\n",
       "      <td>tifu</td>\n",
       "      <td>t5_2to41</td>\n",
       "      <td>fucked my coworker at the end of a business tr...</td>\n",
       "      <td>tifu</td>\n",
       "      <td>13</td>\n",
       "    </tr>\n",
       "    <tr>\n",
       "      <th>4</th>\n",
       "      <td>116890</td>\n",
       "      <td>mtn_dewgamefuel</td>\n",
       "      <td>There are census records and roman writing tha...</td>\n",
       "      <td>There are census records and roman writing tha...</td>\n",
       "      <td>c3p6moa</td>\n",
       "      <td>There are census records and roman writing tha...</td>\n",
       "      <td>atheism</td>\n",
       "      <td>t5_2qh2p</td>\n",
       "      <td>Jesus existed but was a massive troll and noth...</td>\n",
       "      <td>atheism</td>\n",
       "      <td>2</td>\n",
       "    </tr>\n",
       "  </tbody>\n",
       "</table>\n",
       "</div>"
      ],
      "text/plain": [
       "   Unnamed: 0              author  \\\n",
       "0      161007       SkettiOnToast   \n",
       "1      261003          llSinniSll   \n",
       "2      504573           [deleted]   \n",
       "3      351170  thickranchdressing   \n",
       "4      116890     mtn_dewgamefuel   \n",
       "\n",
       "                                                body  \\\n",
       "0  Can I make a suggestion for the tribunal? (bec...   \n",
       "1  First, it doesn't matter if you are fat or ski...   \n",
       "2  I've recently bought an Aerospaced 4 pc grinde...   \n",
       "3  It was the last evening of a business trip.  M...   \n",
       "4  There are census records and roman writing tha...   \n",
       "\n",
       "                                             content         id  \\\n",
       "0  Can I make a suggestion for the tribunal? (bec...    c7xbafm   \n",
       "1  First, it doesn't matter if you are fat or ski...    cdru1md   \n",
       "2  I've recently bought an Aerospaced 4 pc grinde...  t3_17zrdh   \n",
       "3  It was the last evening of a business trip.  M...    c79fw9z   \n",
       "4  There are census records and roman writing tha...    c3p6moa   \n",
       "\n",
       "                                      normalizedBody        subreddit  \\\n",
       "0  Can I make a suggestion for the tribunal? (bec...  leagueoflegends   \n",
       "1  First, it doesn't matter if you are fat or ski...          Fitness   \n",
       "2  I've recently bought an Aerospaced 4 pc grinde...            trees   \n",
       "3  It was the last evening of a business trip.  M...             tifu   \n",
       "4  There are census records and roman writing tha...          atheism   \n",
       "\n",
       "  subreddit_id                                            summary  \\\n",
       "0     t5_2rfxx  Just some sugestions, the first of giving you ...   \n",
       "1     t5_2qhx4  In short, supplements are great tools when use...   \n",
       "2     t5_2r9vp  New grinder is not up to par. Should I shell o...   \n",
       "3     t5_2to41  fucked my coworker at the end of a business tr...   \n",
       "4     t5_2qh2p  Jesus existed but was a massive troll and noth...   \n",
       "\n",
       "            category  label  \n",
       "0  league of legends      6  \n",
       "1            fitness      3  \n",
       "2              trees     14  \n",
       "3               tifu     13  \n",
       "4            atheism      2  "
      ]
     },
     "execution_count": 15,
     "metadata": {},
     "output_type": "execute_result"
    }
   ],
   "source": [
    "df_train.head()"
   ]
  },
  {
   "cell_type": "code",
   "execution_count": 4,
   "metadata": {},
   "outputs": [],
   "source": [
    "curated_subreddits = ['relationships', 'trees', 'gaming', 'funny', 'politics', \\\n",
    "        'sex', 'Fitness', 'worldnews', 'personalfinance', 'technology']"
   ]
  },
  {
   "cell_type": "code",
   "execution_count": 33,
   "metadata": {},
   "outputs": [],
   "source": [
    "sample = (\n",
    "    df_train[df_train.subreddit.isin(curated_subreddits)]\n",
    "    .groupby('category', group_keys=False)\n",
    "    .apply(lambda x: x.sample(min(len(x), 2000), random_state=42))\n",
    ")"
   ]
  },
  {
   "cell_type": "code",
   "execution_count": 44,
   "metadata": {},
   "outputs": [],
   "source": [
    "X_train, X_valid, y_train, y_valid = train_test_split(sample, sample['subreddit'], \n",
    "                                                      test_size=.5, \n",
    "                                                      random_state=42, \n",
    "                                                      stratify=sample['subreddit'])"
   ]
  },
  {
   "cell_type": "code",
   "execution_count": 45,
   "metadata": {},
   "outputs": [
    {
     "data": {
      "text/plain": [
       "(10000, 10000)"
      ]
     },
     "execution_count": 45,
     "metadata": {},
     "output_type": "execute_result"
    }
   ],
   "source": [
    "len(X_train), len(X_valid)"
   ]
  },
  {
   "cell_type": "code",
   "execution_count": 46,
   "metadata": {},
   "outputs": [],
   "source": [
    "X_train.to_csv(\"../data/reddit/reddit_subset_train1000.csv\")\n",
    "X_valid.to_csv(\"../data/reddit/reddit_subset_valid1000.csv\")"
   ]
  },
  {
   "cell_type": "markdown",
   "metadata": {},
   "source": [
    "## Create a subset of the reddit test set that has exactly 1300 examples per category\n",
    "This makes error analysis easier"
   ]
  },
  {
   "cell_type": "code",
   "execution_count": 1,
   "metadata": {},
   "outputs": [
    {
     "ename": "NameError",
     "evalue": "name 'pd' is not defined",
     "output_type": "error",
     "traceback": [
      "\u001b[0;31m---------------------------------------------------------------------------\u001b[0m",
      "\u001b[0;31mNameError\u001b[0m                                 Traceback (most recent call last)",
      "\u001b[0;32m<ipython-input-1-ad23c82f02ab>\u001b[0m in \u001b[0;36m<module>\u001b[0;34m\u001b[0m\n\u001b[0;32m----> 1\u001b[0;31m \u001b[0mdf_test\u001b[0m \u001b[0;34m=\u001b[0m \u001b[0mpd\u001b[0m\u001b[0;34m.\u001b[0m\u001b[0mread_csv\u001b[0m\u001b[0;34m(\u001b[0m\u001b[0;34m\"../data/reddit_subset_test.csv\"\u001b[0m\u001b[0;34m)\u001b[0m\u001b[0;34m\u001b[0m\u001b[0;34m\u001b[0m\u001b[0m\n\u001b[0m\u001b[1;32m      2\u001b[0m \u001b[0;34m\u001b[0m\u001b[0m\n\u001b[1;32m      3\u001b[0m \u001b[0;31m# In our experiments we'll work with just 10 of the 16 most popular subreddits\u001b[0m\u001b[0;34m\u001b[0m\u001b[0;34m\u001b[0m\u001b[0;34m\u001b[0m\u001b[0m\n\u001b[1;32m      4\u001b[0m curated_subreddits = ['relationships', 'trees', 'gaming', 'funny', 'politics', \\\n\u001b[1;32m      5\u001b[0m       'sex', 'Fitness', 'worldnews', 'personalfinance', 'technology']\n",
      "\u001b[0;31mNameError\u001b[0m: name 'pd' is not defined"
     ]
    }
   ],
   "source": [
    "df_test = pd.read_csv(\"../data/reddit_subset_test.csv\")\n",
    "\n",
    "# In our experiments we'll work with just 10 of the 16 most popular subreddits\n",
    "curated_subreddits = ['relationships', 'trees', 'gaming', 'funny', 'politics', \\\n",
    "      'sex', 'Fitness', 'worldnews', 'personalfinance', 'technology']\n",
    "\n",
    "df_reddit_test = (\n",
    "  df_test[df_test.subreddit.isin(curated_subreddits)]\n",
    "  .groupby('category', group_keys=False)\n",
    "  .apply(lambda x: x.sample(min(len(x), 1300), random_state=42))\n",
    "  .assign(\n",
    "      category = lambda df: pd.Categorical(df.category),\n",
    "      label = lambda df: df.category.cat.codes\n",
    "      )\n",
    "  )\n",
    "reddit_test_data = create_dataset_from_df(df_reddit_test, 'summary')\n",
    "torch_save(\"../data/reddit_dataset_1300.pt\")"
   ]
  },
  {
   "cell_type": "markdown",
   "metadata": {},
   "source": [
    "***If this documentation includes code, including but not limited to, code examples, Cloudera makes this available to you under the terms of the Apache License, Version 2.0, including any required notices.  A copy of the Apache License Version 2.0 can be found [here](https://opensource.org/licenses/Apache-2.0).***"
   ]
  }
 ],
 "metadata": {
  "kernelspec": {
   "display_name": "Python 3",
   "language": "python",
   "name": "python3"
  },
  "language_info": {
   "codemirror_mode": {
    "name": "ipython",
    "version": 3
   },
   "file_extension": ".py",
   "mimetype": "text/x-python",
   "name": "python",
   "nbconvert_exporter": "python",
   "pygments_lexer": "ipython3",
   "version": "3.7.9"
  }
 },
 "nbformat": 4,
 "nbformat_minor": 4
}
